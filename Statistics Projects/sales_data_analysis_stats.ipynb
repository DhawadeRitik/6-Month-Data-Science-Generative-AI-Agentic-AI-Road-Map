{
 "cells": [
  {
   "cell_type": "markdown",
   "id": "74a40f81",
   "metadata": {},
   "source": [
    "## Import the necessary libraries"
   ]
  },
  {
   "cell_type": "code",
   "execution_count": 14,
   "id": "cefb5415",
   "metadata": {},
   "outputs": [],
   "source": [
    "import pandas as pd\n",
    "import numpy as np \n",
    "import scipy.stats as stats\n",
    "import matplotlib.pyplot as plt \n",
    "import seaborn as sns"
   ]
  },
  {
   "cell_type": "markdown",
   "id": "1c72ec8a",
   "metadata": {},
   "source": [
    "## Step 1 : import Dataset "
   ]
  },
  {
   "cell_type": "code",
   "execution_count": 2,
   "id": "abbf8d4f",
   "metadata": {},
   "outputs": [
    {
     "data": {
      "text/html": [
       "<div>\n",
       "<style scoped>\n",
       "    .dataframe tbody tr th:only-of-type {\n",
       "        vertical-align: middle;\n",
       "    }\n",
       "\n",
       "    .dataframe tbody tr th {\n",
       "        vertical-align: top;\n",
       "    }\n",
       "\n",
       "    .dataframe thead th {\n",
       "        text-align: right;\n",
       "    }\n",
       "</style>\n",
       "<table border=\"1\" class=\"dataframe\">\n",
       "  <thead>\n",
       "    <tr style=\"text-align: right;\">\n",
       "      <th></th>\n",
       "      <th>Unnamed: 0</th>\n",
       "      <th>product_id</th>\n",
       "      <th>product_name</th>\n",
       "      <th>category</th>\n",
       "      <th>unit_sold</th>\n",
       "      <th>sale_date</th>\n",
       "    </tr>\n",
       "  </thead>\n",
       "  <tbody>\n",
       "    <tr>\n",
       "      <th>0</th>\n",
       "      <td>0</td>\n",
       "      <td>1</td>\n",
       "      <td>Product 1</td>\n",
       "      <td>Home</td>\n",
       "      <td>25</td>\n",
       "      <td>2023-01-01</td>\n",
       "    </tr>\n",
       "    <tr>\n",
       "      <th>1</th>\n",
       "      <td>1</td>\n",
       "      <td>2</td>\n",
       "      <td>Product 2</td>\n",
       "      <td>Sports</td>\n",
       "      <td>15</td>\n",
       "      <td>2023-01-02</td>\n",
       "    </tr>\n",
       "    <tr>\n",
       "      <th>2</th>\n",
       "      <td>2</td>\n",
       "      <td>3</td>\n",
       "      <td>Product 3</td>\n",
       "      <td>Electronics</td>\n",
       "      <td>17</td>\n",
       "      <td>2023-01-03</td>\n",
       "    </tr>\n",
       "    <tr>\n",
       "      <th>3</th>\n",
       "      <td>3</td>\n",
       "      <td>4</td>\n",
       "      <td>Product 4</td>\n",
       "      <td>Home</td>\n",
       "      <td>19</td>\n",
       "      <td>2023-01-04</td>\n",
       "    </tr>\n",
       "    <tr>\n",
       "      <th>4</th>\n",
       "      <td>4</td>\n",
       "      <td>5</td>\n",
       "      <td>Product 5</td>\n",
       "      <td>Home</td>\n",
       "      <td>21</td>\n",
       "      <td>2023-01-05</td>\n",
       "    </tr>\n",
       "  </tbody>\n",
       "</table>\n",
       "</div>"
      ],
      "text/plain": [
       "   Unnamed: 0  product_id product_name     category  unit_sold   sale_date\n",
       "0           0           1    Product 1         Home         25  2023-01-01\n",
       "1           1           2    Product 2       Sports         15  2023-01-02\n",
       "2           2           3    Product 3  Electronics         17  2023-01-03\n",
       "3           3           4    Product 4         Home         19  2023-01-04\n",
       "4           4           5    Product 5         Home         21  2023-01-05"
      ]
     },
     "execution_count": 2,
     "metadata": {},
     "output_type": "execute_result"
    }
   ],
   "source": [
    "sale_df = pd.read_csv('sale_data.csv')\n",
    "sale_df.head()"
   ]
  },
  {
   "cell_type": "code",
   "execution_count": 3,
   "id": "82a4fed2",
   "metadata": {},
   "outputs": [
    {
     "data": {
      "text/plain": [
       "(20, 6)"
      ]
     },
     "execution_count": 3,
     "metadata": {},
     "output_type": "execute_result"
    }
   ],
   "source": [
    "sale_df.shape"
   ]
  },
  {
   "cell_type": "markdown",
   "id": "c8e2b2ee",
   "metadata": {},
   "source": [
    "## Step 2 : Descriptive Stats Summary "
   ]
  },
  {
   "cell_type": "code",
   "execution_count": 11,
   "id": "434c1d3e",
   "metadata": {},
   "outputs": [
    {
     "name": "stdout",
     "output_type": "stream",
     "text": [
      "Descriptive Summary of unit sold : count    20.000000\n",
      "mean     18.800000\n",
      "std       3.302312\n",
      "min      13.000000\n",
      "25%      17.000000\n",
      "50%      18.500000\n",
      "75%      21.000000\n",
      "max      25.000000\n",
      "Name: unit_sold, dtype: float64\n",
      "\n",
      "Statistical Analysis :\n",
      "Mean of unit sold : 18.8\n",
      "Median of unit sold : 18.5 \n",
      "Mode of unit sold : 17 \n",
      "Variance of unit sold : 10.90526315789474 \n",
      "Standard Deviation of unit sold : 3.3023117899275864 \n"
     ]
    }
   ],
   "source": [
    "df_describe = sale_df['unit_sold'].describe()\n",
    "\n",
    "# Additional Stats summary \n",
    "mean_unit_sold = sale_df['unit_sold'].mean()\n",
    "median_unit_sold = sale_df['unit_sold'].median()\n",
    "mode_unit_sold = sale_df['unit_sold'].mode()[0]\n",
    "variance_unit_sold = sale_df['unit_sold'].var()\n",
    "std_unit_sold = sale_df['unit_sold'].std()\n",
    "\n",
    "\n",
    "print(f\"Descriptive Summary of unit sold : {df_describe}\")\n",
    "print()\n",
    "print('Statistical Analysis :')\n",
    "print(f'Mean of unit sold : {mean_unit_sold}')\n",
    "print(f'Median of unit sold : {median_unit_sold} ')\n",
    "print(f'Mode of unit sold : {mode_unit_sold} ')\n",
    "print(f'Variance of unit sold : {variance_unit_sold} ')\n",
    "print(f'Standard Deviation of unit sold : {std_unit_sold} ')"
   ]
  },
  {
   "cell_type": "markdown",
   "id": "0640eb81",
   "metadata": {},
   "source": [
    "## Step 3 : Calculate Confidence Interval "
   ]
  },
  {
   "cell_type": "markdown",
   "id": "890d877e",
   "metadata": {},
   "source": [
    "#### confidence_interval = (mean - margin_error , mean + margin_error)\n",
    "\n",
    "#### margin_error = t_score * standard_error \n",
    "#### standard_error = standard deviation / root of number of data points (square root of n) \n",
    "#### t_score = ((1 + confidence_level)/2 , degree_of_freedom)\n",
    "#### degree of freedom = len(col) - 1\n",
    "#### confidence level = 95%\n",
    "\n"
   ]
  },
  {
   "cell_type": "code",
   "execution_count": 89,
   "id": "4c746354",
   "metadata": {},
   "outputs": [
    {
     "name": "stdout",
     "output_type": "stream",
     "text": [
      "Confidence Interval : (17.254470507823573, 20.34552949217643)\n",
      "\n",
      "Degree of freedom : 19\n",
      "Mean : 18.8\n",
      "Standard Deviation : 3.3023117899275864\n",
      "Standard Error : 0.7384193645177088\n",
      "t score : 2.093024054408263\n",
      "Margin Error : 1.545529492176428\n"
     ]
    },
    {
     "data": {
      "text/html": [
       "<div>\n",
       "<style scoped>\n",
       "    .dataframe tbody tr th:only-of-type {\n",
       "        vertical-align: middle;\n",
       "    }\n",
       "\n",
       "    .dataframe tbody tr th {\n",
       "        vertical-align: top;\n",
       "    }\n",
       "\n",
       "    .dataframe thead th {\n",
       "        text-align: right;\n",
       "    }\n",
       "</style>\n",
       "<table border=\"1\" class=\"dataframe\">\n",
       "  <thead>\n",
       "    <tr style=\"text-align: right;\">\n",
       "      <th></th>\n",
       "      <th>Category</th>\n",
       "      <th>Total unit sold</th>\n",
       "      <th>Average Unit Sold</th>\n",
       "      <th>Median unit sold</th>\n",
       "    </tr>\n",
       "  </thead>\n",
       "  <tbody>\n",
       "    <tr>\n",
       "      <th>0</th>\n",
       "      <td>Clothing</td>\n",
       "      <td>21</td>\n",
       "      <td>21.000000</td>\n",
       "      <td>21.0</td>\n",
       "    </tr>\n",
       "    <tr>\n",
       "      <th>1</th>\n",
       "      <td>Electronics</td>\n",
       "      <td>73</td>\n",
       "      <td>18.250000</td>\n",
       "      <td>18.0</td>\n",
       "    </tr>\n",
       "    <tr>\n",
       "      <th>2</th>\n",
       "      <td>Home</td>\n",
       "      <td>181</td>\n",
       "      <td>20.111111</td>\n",
       "      <td>21.0</td>\n",
       "    </tr>\n",
       "    <tr>\n",
       "      <th>3</th>\n",
       "      <td>Sports</td>\n",
       "      <td>101</td>\n",
       "      <td>16.833333</td>\n",
       "      <td>17.0</td>\n",
       "    </tr>\n",
       "  </tbody>\n",
       "</table>\n",
       "</div>"
      ],
      "text/plain": [
       "      Category  Total unit sold  Average Unit Sold  Median unit sold\n",
       "0     Clothing               21          21.000000              21.0\n",
       "1  Electronics               73          18.250000              18.0\n",
       "2         Home              181          20.111111              21.0\n",
       "3       Sports              101          16.833333              17.0"
      ]
     },
     "execution_count": 89,
     "metadata": {},
     "output_type": "execute_result"
    }
   ],
   "source": [
    "# find the confidence interval \n",
    "confidence_level = 0.95 # 95%\n",
    "degree_freedom = len(sale_df['unit_sold']) - 1\n",
    "sample_mean = sale_df['unit_sold'].mean()\n",
    "std = sale_df['unit_sold'].std()\n",
    "standard_error = std / np.sqrt(len(sale_df['unit_sold']))\n",
    "\n",
    "# calculate the t_score \n",
    "t_score = stats.t.ppf((1 + confidence_level)/2,degree_freedom)\n",
    "margin_error = t_score * standard_error\n",
    "\n",
    "confidence_interval = (sample_mean - margin_error, sample_mean + margin_error)\n",
    "print(f'Confidence Interval : {confidence_interval}')\n",
    "\n",
    "print()\n",
    "print(f'Degree of freedom : {degree_freedom}')\n",
    "print(f'Mean : {sample_mean}')\n",
    "print(f'Standard Deviation : {std}')\n",
    "print(f'Standard Error : {standard_error}')\n",
    "print(f't score : {t_score}')\n",
    "print(f'Margin Error : {margin_error}')\n",
    "\n",
    "\n",
    "cat = sale_df.groupby('category')['unit_sold'].agg(['sum','mean','median']).reset_index()\n",
    "cat.columns=['Category','Total unit sold','Average Unit Sold','Median unit sold']\n",
    "cat"
   ]
  },
  {
   "cell_type": "markdown",
   "id": "8fbe83af",
   "metadata": {},
   "source": [
    "## Step 4 : Inferential Statistics"
   ]
  },
  {
   "cell_type": "markdown",
   "id": "e4a9ad5e",
   "metadata": {},
   "source": [
    "#### Hypothesis Testing \n",
    "#### null hypothesis (mean unit sold equal to 20)\n",
    "#### alternate hypothesis (mea unit sold is not equal to 20)\n",
    "\n"
   ]
  },
  {
   "cell_type": "code",
   "execution_count": 32,
   "id": "3807862e",
   "metadata": {},
   "outputs": [
    {
     "name": "stdout",
     "output_type": "stream",
     "text": [
      "Fail to reject the null hypothesis\n",
      "t-stat : -1.6250928099424466\n",
      "p value : 0.12061572226781002\n"
     ]
    }
   ],
   "source": [
    "# calcualte t and p value \n",
    "t_stats , p_value = stats.ttest_1samp(sale_df['unit_sold'],20)\n",
    "\n",
    "if p_value < 0.05:\n",
    "    print('Reject the null hypothesis.')\n",
    "else:    \n",
    "    print('Fail to reject the null hypothesis')\n",
    "    \n",
    "print(f't-stat : {t_stats}')\n",
    "print(f'p value : {p_value}')\n"
   ]
  },
  {
   "cell_type": "markdown",
   "id": "ffabf395",
   "metadata": {},
   "source": [
    "## Step 5 : Visualization"
   ]
  },
  {
   "cell_type": "code",
   "execution_count": 92,
   "id": "320d78b5",
   "metadata": {},
   "outputs": [
    {
     "data": {
      "image/png": "[encoded data removed]",
      "text/plain": [
       "<Figure size 1000x500 with 1 Axes>"
      ]
     },
     "metadata": {},
     "output_type": "display_data"
    },
    {
     "data": {
      "image/png": "[encoded data removed]",
      "text/plain": [
       "<Figure size 1000x500 with 1 Axes>"
      ]
     },
     "metadata": {},
     "output_type": "display_data"
    },
    {
     "data": {
      "image/png": "[encoded data removed]",
      "text/plain": [
       "<Figure size 1000x500 with 1 Axes>"
      ]
     },
     "metadata": {},
     "output_type": "display_data"
    }
   ],
   "source": [
    "plt.figure(figsize=(10,5))\n",
    "sns.histplot(sale_df['unit_sold'],bins=10,kde=True,color='orange',edgecolor='black')\n",
    "plt.xlabel('Unit Sold')\n",
    "plt.ylabel('Frequency')\n",
    "plt.axvline(sample_mean , color='red',linestyle='--',label='mean')\n",
    "plt.axvline(median_unit_sold,color='green',linestyle='--',label='median')\n",
    "plt.axvline(mode_unit_sold,color='navy',linestyle='--',label='mode')\n",
    "plt.legend()\n",
    "\n",
    "# box plot of unit sold \n",
    "plt.figure(figsize=(10,5))\n",
    "sns.boxplot(data=sale_df,x='unit_sold',y='category',color='orange')\n",
    "plt.title('Boxplot : Unit Sold By Category')\n",
    "plt.xlabel('Unit Sold')\n",
    "plt.ylabel('Category')\n",
    "plt.show()\n",
    "\n",
    "# Barplot : UNit sold by category \n",
    "plt.figure(figsize=(10,5))\n",
    "ax = sns.barplot(data= cat, x=cat['Category'],y=cat['Total unit sold'], errorbar=None)\n",
    "plt.title('Barplot : Unit Sold By Category')\n",
    "plt.xlabel('Unit Sold')\n",
    "plt.ylabel('Category')\n",
    "# give the label to the bar \n",
    "for label in ax.containers:\n",
    "    ax.bar_label(label)"
   ]
  },
  {
   "cell_type": "code",
   "execution_count": null,
   "id": "3878c539",
   "metadata": {},
   "outputs": [],
   "source": []
  }
 ],
 "metadata": {
  "kernelspec": {
   "display_name": "base",
   "language": "python",
   "name": "python3"
  },
  "language_info": {
   "codemirror_mode": {
    "name": "ipython",
    "version": 3
   },
   "file_extension": ".py",
   "mimetype": "text/x-python",
   "name": "python",
   "nbconvert_exporter": "python",
   "pygments_lexer": "ipython3",
   "version": "3.12.7"
  }
 },
 "nbformat": 4,
 "nbformat_minor": 5
}
