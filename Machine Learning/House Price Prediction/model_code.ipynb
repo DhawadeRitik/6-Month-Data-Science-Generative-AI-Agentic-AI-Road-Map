{
 "cells": [
  {
   "cell_type": "markdown",
   "id": "638d4fb9",
   "metadata": {},
   "source": [
    "### import the necessary libraries"
   ]
  },
  {
   "cell_type": "code",
   "execution_count": 16,
   "id": "bf449e97",
   "metadata": {},
   "outputs": [],
   "source": [
    "import pandas as pd \n",
    "import numpy as np \n",
    "import seaborn as sns \n",
    "\n",
    "\n",
    "## Import machine learninhg libraries \n",
    "# import the regression algorithm \n",
    "\n",
    "from sklearn.linear_model import LinearRegression, Lasso, Ridge, ElasticNet,HuberRegressor,SGDRegressor\n",
    "from sklearn.ensemble import RandomForestRegressor\n",
    "from sklearn.neighbors import KNeighborsRegressor\n",
    "from sklearn.svm import SVR \n",
    "from sklearn.preprocessing import PolynomialFeatures\n",
    "from sklearn.metrics import mean_squared_error, r2_score, mean_absolute_error\n",
    "from sklearn.model_selection import train_test_split\n",
    "import lightgbm as lgb\n",
    "import xgboost as xgb\n",
    "from sklearn.neural_network import MLPRegressor\n",
    "from sklearn.pipeline import Pipeline\n",
    "\n",
    "\n",
    "# import the pickle to dump these file into the pkl file \n",
    "import pickle as pkl\n",
    "\n"
   ]
  },
  {
   "cell_type": "markdown",
   "id": "8fedf48b",
   "metadata": {},
   "source": [
    "### Read the datset "
   ]
  },
  {
   "cell_type": "code",
   "execution_count": 3,
   "id": "59e0e453",
   "metadata": {},
   "outputs": [
    {
     "data": {
      "text/html": [
       "<div>\n",
       "<style scoped>\n",
       "    .dataframe tbody tr th:only-of-type {\n",
       "        vertical-align: middle;\n",
       "    }\n",
       "\n",
       "    .dataframe tbody tr th {\n",
       "        vertical-align: top;\n",
       "    }\n",
       "\n",
       "    .dataframe thead th {\n",
       "        text-align: right;\n",
       "    }\n",
       "</style>\n",
       "<table border=\"1\" class=\"dataframe\">\n",
       "  <thead>\n",
       "    <tr style=\"text-align: right;\">\n",
       "      <th></th>\n",
       "      <th>Avg. Area Income</th>\n",
       "      <th>Avg. Area House Age</th>\n",
       "      <th>Avg. Area Number of Rooms</th>\n",
       "      <th>Avg. Area Number of Bedrooms</th>\n",
       "      <th>Area Population</th>\n",
       "      <th>Price</th>\n",
       "      <th>Address</th>\n",
       "    </tr>\n",
       "  </thead>\n",
       "  <tbody>\n",
       "    <tr>\n",
       "      <th>0</th>\n",
       "      <td>79545.458574</td>\n",
       "      <td>5.682861</td>\n",
       "      <td>7.009188</td>\n",
       "      <td>4.09</td>\n",
       "      <td>23086.800503</td>\n",
       "      <td>1.059034e+06</td>\n",
       "      <td>208 Michael Ferry Apt. 674\\nLaurabury, NE 3701...</td>\n",
       "    </tr>\n",
       "    <tr>\n",
       "      <th>1</th>\n",
       "      <td>79248.642455</td>\n",
       "      <td>6.002900</td>\n",
       "      <td>6.730821</td>\n",
       "      <td>3.09</td>\n",
       "      <td>40173.072174</td>\n",
       "      <td>1.505891e+06</td>\n",
       "      <td>188 Johnson Views Suite 079\\nLake Kathleen, CA...</td>\n",
       "    </tr>\n",
       "    <tr>\n",
       "      <th>2</th>\n",
       "      <td>61287.067179</td>\n",
       "      <td>5.865890</td>\n",
       "      <td>8.512727</td>\n",
       "      <td>5.13</td>\n",
       "      <td>36882.159400</td>\n",
       "      <td>1.058988e+06</td>\n",
       "      <td>9127 Elizabeth Stravenue\\nDanieltown, WI 06482...</td>\n",
       "    </tr>\n",
       "    <tr>\n",
       "      <th>3</th>\n",
       "      <td>63345.240046</td>\n",
       "      <td>7.188236</td>\n",
       "      <td>5.586729</td>\n",
       "      <td>3.26</td>\n",
       "      <td>34310.242831</td>\n",
       "      <td>1.260617e+06</td>\n",
       "      <td>USS Barnett\\nFPO AP 44820</td>\n",
       "    </tr>\n",
       "    <tr>\n",
       "      <th>4</th>\n",
       "      <td>59982.197226</td>\n",
       "      <td>5.040555</td>\n",
       "      <td>7.839388</td>\n",
       "      <td>4.23</td>\n",
       "      <td>26354.109472</td>\n",
       "      <td>6.309435e+05</td>\n",
       "      <td>USNS Raymond\\nFPO AE 09386</td>\n",
       "    </tr>\n",
       "  </tbody>\n",
       "</table>\n",
       "</div>"
      ],
      "text/plain": [
       "   Avg. Area Income  ...                                            Address\n",
       "0      79545.458574  ...  208 Michael Ferry Apt. 674\\nLaurabury, NE 3701...\n",
       "1      79248.642455  ...  188 Johnson Views Suite 079\\nLake Kathleen, CA...\n",
       "2      61287.067179  ...  9127 Elizabeth Stravenue\\nDanieltown, WI 06482...\n",
       "3      63345.240046  ...                          USS Barnett\\nFPO AP 44820\n",
       "4      59982.197226  ...                         USNS Raymond\\nFPO AE 09386\n",
       "\n",
       "[5 rows x 7 columns]"
      ]
     },
     "execution_count": 3,
     "metadata": {},
     "output_type": "execute_result"
    }
   ],
   "source": [
    "df = pd.read_csv(r\"D:\\NIT Course\\Practice\\ML Projects\\House Price Prediction\\USA_Housing.csv\")\n",
    "df.head()"
   ]
  },
  {
   "cell_type": "markdown",
   "id": "c0d40bb6",
   "metadata": {},
   "source": [
    "### Explore the dataset "
   ]
  },
  {
   "cell_type": "code",
   "execution_count": 4,
   "id": "94ee0985",
   "metadata": {},
   "outputs": [
    {
     "name": "stdout",
     "output_type": "stream",
     "text": [
      "<class 'pandas.core.frame.DataFrame'>\n",
      "RangeIndex: 5000 entries, 0 to 4999\n",
      "Data columns (total 7 columns):\n",
      " #   Column                        Non-Null Count  Dtype  \n",
      "---  ------                        --------------  -----  \n",
      " 0   Avg. Area Income              5000 non-null   float64\n",
      " 1   Avg. Area House Age           5000 non-null   float64\n",
      " 2   Avg. Area Number of Rooms     5000 non-null   float64\n",
      " 3   Avg. Area Number of Bedrooms  5000 non-null   float64\n",
      " 4   Area Population               5000 non-null   float64\n",
      " 5   Price                         5000 non-null   float64\n",
      " 6   Address                       5000 non-null   object \n",
      "dtypes: float64(6), object(1)\n",
      "memory usage: 273.6+ KB\n"
     ]
    }
   ],
   "source": [
    "df.info()"
   ]
  },
  {
   "cell_type": "code",
   "execution_count": 5,
   "id": "6c50d594",
   "metadata": {},
   "outputs": [
    {
     "data": {
      "text/html": [
       "<div>\n",
       "<style scoped>\n",
       "    .dataframe tbody tr th:only-of-type {\n",
       "        vertical-align: middle;\n",
       "    }\n",
       "\n",
       "    .dataframe tbody tr th {\n",
       "        vertical-align: top;\n",
       "    }\n",
       "\n",
       "    .dataframe thead th {\n",
       "        text-align: right;\n",
       "    }\n",
       "</style>\n",
       "<table border=\"1\" class=\"dataframe\">\n",
       "  <thead>\n",
       "    <tr style=\"text-align: right;\">\n",
       "      <th></th>\n",
       "      <th>Avg. Area Income</th>\n",
       "      <th>Avg. Area House Age</th>\n",
       "      <th>Avg. Area Number of Rooms</th>\n",
       "      <th>Avg. Area Number of Bedrooms</th>\n",
       "      <th>Area Population</th>\n",
       "      <th>Price</th>\n",
       "    </tr>\n",
       "  </thead>\n",
       "  <tbody>\n",
       "    <tr>\n",
       "      <th>count</th>\n",
       "      <td>5000.000000</td>\n",
       "      <td>5000.000000</td>\n",
       "      <td>5000.000000</td>\n",
       "      <td>5000.000000</td>\n",
       "      <td>5000.000000</td>\n",
       "      <td>5.000000e+03</td>\n",
       "    </tr>\n",
       "    <tr>\n",
       "      <th>mean</th>\n",
       "      <td>68583.108984</td>\n",
       "      <td>5.977222</td>\n",
       "      <td>6.987792</td>\n",
       "      <td>3.981330</td>\n",
       "      <td>36163.516039</td>\n",
       "      <td>1.232073e+06</td>\n",
       "    </tr>\n",
       "    <tr>\n",
       "      <th>std</th>\n",
       "      <td>10657.991214</td>\n",
       "      <td>0.991456</td>\n",
       "      <td>1.005833</td>\n",
       "      <td>1.234137</td>\n",
       "      <td>9925.650114</td>\n",
       "      <td>3.531176e+05</td>\n",
       "    </tr>\n",
       "    <tr>\n",
       "      <th>min</th>\n",
       "      <td>17796.631190</td>\n",
       "      <td>2.644304</td>\n",
       "      <td>3.236194</td>\n",
       "      <td>2.000000</td>\n",
       "      <td>172.610686</td>\n",
       "      <td>1.593866e+04</td>\n",
       "    </tr>\n",
       "    <tr>\n",
       "      <th>25%</th>\n",
       "      <td>61480.562388</td>\n",
       "      <td>5.322283</td>\n",
       "      <td>6.299250</td>\n",
       "      <td>3.140000</td>\n",
       "      <td>29403.928702</td>\n",
       "      <td>9.975771e+05</td>\n",
       "    </tr>\n",
       "    <tr>\n",
       "      <th>50%</th>\n",
       "      <td>68804.286404</td>\n",
       "      <td>5.970429</td>\n",
       "      <td>7.002902</td>\n",
       "      <td>4.050000</td>\n",
       "      <td>36199.406689</td>\n",
       "      <td>1.232669e+06</td>\n",
       "    </tr>\n",
       "    <tr>\n",
       "      <th>75%</th>\n",
       "      <td>75783.338666</td>\n",
       "      <td>6.650808</td>\n",
       "      <td>7.665871</td>\n",
       "      <td>4.490000</td>\n",
       "      <td>42861.290769</td>\n",
       "      <td>1.471210e+06</td>\n",
       "    </tr>\n",
       "    <tr>\n",
       "      <th>max</th>\n",
       "      <td>107701.748378</td>\n",
       "      <td>9.519088</td>\n",
       "      <td>10.759588</td>\n",
       "      <td>6.500000</td>\n",
       "      <td>69621.713378</td>\n",
       "      <td>2.469066e+06</td>\n",
       "    </tr>\n",
       "  </tbody>\n",
       "</table>\n",
       "</div>"
      ],
      "text/plain": [
       "       Avg. Area Income  Avg. Area House Age  ...  Area Population         Price\n",
       "count       5000.000000          5000.000000  ...      5000.000000  5.000000e+03\n",
       "mean       68583.108984             5.977222  ...     36163.516039  1.232073e+06\n",
       "std        10657.991214             0.991456  ...      9925.650114  3.531176e+05\n",
       "min        17796.631190             2.644304  ...       172.610686  1.593866e+04\n",
       "25%        61480.562388             5.322283  ...     29403.928702  9.975771e+05\n",
       "50%        68804.286404             5.970429  ...     36199.406689  1.232669e+06\n",
       "75%        75783.338666             6.650808  ...     42861.290769  1.471210e+06\n",
       "max       107701.748378             9.519088  ...     69621.713378  2.469066e+06\n",
       "\n",
       "[8 rows x 6 columns]"
      ]
     },
     "execution_count": 5,
     "metadata": {},
     "output_type": "execute_result"
    }
   ],
   "source": [
    "df.describe()"
   ]
  },
  {
   "cell_type": "code",
   "execution_count": 7,
   "id": "65384c7f",
   "metadata": {},
   "outputs": [],
   "source": [
    "## Drop the unnecessary columns\n",
    "df.drop([\"Address\"], axis = 1, inplace = True )"
   ]
  },
  {
   "cell_type": "code",
   "execution_count": 9,
   "id": "339628f7",
   "metadata": {},
   "outputs": [
    {
     "data": {
      "text/html": [
       "<div>\n",
       "<style scoped>\n",
       "    .dataframe tbody tr th:only-of-type {\n",
       "        vertical-align: middle;\n",
       "    }\n",
       "\n",
       "    .dataframe tbody tr th {\n",
       "        vertical-align: top;\n",
       "    }\n",
       "\n",
       "    .dataframe thead th {\n",
       "        text-align: right;\n",
       "    }\n",
       "</style>\n",
       "<table border=\"1\" class=\"dataframe\">\n",
       "  <thead>\n",
       "    <tr style=\"text-align: right;\">\n",
       "      <th></th>\n",
       "      <th>Avg. Area Income</th>\n",
       "      <th>Avg. Area House Age</th>\n",
       "      <th>Avg. Area Number of Rooms</th>\n",
       "      <th>Avg. Area Number of Bedrooms</th>\n",
       "      <th>Area Population</th>\n",
       "      <th>Price</th>\n",
       "    </tr>\n",
       "  </thead>\n",
       "  <tbody>\n",
       "    <tr>\n",
       "      <th>Avg. Area Income</th>\n",
       "      <td>1.000000</td>\n",
       "      <td>-0.002007</td>\n",
       "      <td>-0.011032</td>\n",
       "      <td>0.019788</td>\n",
       "      <td>-0.016234</td>\n",
       "      <td>0.639734</td>\n",
       "    </tr>\n",
       "    <tr>\n",
       "      <th>Avg. Area House Age</th>\n",
       "      <td>-0.002007</td>\n",
       "      <td>1.000000</td>\n",
       "      <td>-0.009428</td>\n",
       "      <td>0.006149</td>\n",
       "      <td>-0.018743</td>\n",
       "      <td>0.452543</td>\n",
       "    </tr>\n",
       "    <tr>\n",
       "      <th>Avg. Area Number of Rooms</th>\n",
       "      <td>-0.011032</td>\n",
       "      <td>-0.009428</td>\n",
       "      <td>1.000000</td>\n",
       "      <td>0.462695</td>\n",
       "      <td>0.002040</td>\n",
       "      <td>0.335664</td>\n",
       "    </tr>\n",
       "    <tr>\n",
       "      <th>Avg. Area Number of Bedrooms</th>\n",
       "      <td>0.019788</td>\n",
       "      <td>0.006149</td>\n",
       "      <td>0.462695</td>\n",
       "      <td>1.000000</td>\n",
       "      <td>-0.022168</td>\n",
       "      <td>0.171071</td>\n",
       "    </tr>\n",
       "    <tr>\n",
       "      <th>Area Population</th>\n",
       "      <td>-0.016234</td>\n",
       "      <td>-0.018743</td>\n",
       "      <td>0.002040</td>\n",
       "      <td>-0.022168</td>\n",
       "      <td>1.000000</td>\n",
       "      <td>0.408556</td>\n",
       "    </tr>\n",
       "    <tr>\n",
       "      <th>Price</th>\n",
       "      <td>0.639734</td>\n",
       "      <td>0.452543</td>\n",
       "      <td>0.335664</td>\n",
       "      <td>0.171071</td>\n",
       "      <td>0.408556</td>\n",
       "      <td>1.000000</td>\n",
       "    </tr>\n",
       "  </tbody>\n",
       "</table>\n",
       "</div>"
      ],
      "text/plain": [
       "                              Avg. Area Income  ...     Price\n",
       "Avg. Area Income                      1.000000  ...  0.639734\n",
       "Avg. Area House Age                  -0.002007  ...  0.452543\n",
       "Avg. Area Number of Rooms            -0.011032  ...  0.335664\n",
       "Avg. Area Number of Bedrooms          0.019788  ...  0.171071\n",
       "Area Population                      -0.016234  ...  0.408556\n",
       "Price                                 0.639734  ...  1.000000\n",
       "\n",
       "[6 rows x 6 columns]"
      ]
     },
     "execution_count": 9,
     "metadata": {},
     "output_type": "execute_result"
    }
   ],
   "source": [
    "df.corr()"
   ]
  },
  {
   "cell_type": "code",
   "execution_count": 10,
   "id": "3e7f92a1",
   "metadata": {},
   "outputs": [
    {
     "data": {
      "text/plain": [
       "Avg. Area Income                0\n",
       "Avg. Area House Age             0\n",
       "Avg. Area Number of Rooms       0\n",
       "Avg. Area Number of Bedrooms    0\n",
       "Area Population                 0\n",
       "Price                           0\n",
       "dtype: int64"
      ]
     },
     "execution_count": 10,
     "metadata": {},
     "output_type": "execute_result"
    }
   ],
   "source": [
    "## check if the datset have any null values\n",
    "df.isnull().sum()"
   ]
  },
  {
   "cell_type": "markdown",
   "id": "611f6a13",
   "metadata": {},
   "source": [
    "### Seperate the Dependent and independent variable "
   ]
  },
  {
   "cell_type": "code",
   "execution_count": 11,
   "id": "2d7ec079",
   "metadata": {},
   "outputs": [],
   "source": [
    "X = df.drop([\"Price\"], axis = 1)\n",
    "y = df[\"Price\"]"
   ]
  },
  {
   "cell_type": "markdown",
   "id": "01473eb7",
   "metadata": {},
   "source": [
    "### seperate the data into training and testing sets "
   ]
  },
  {
   "cell_type": "code",
   "execution_count": 14,
   "id": "929279c9",
   "metadata": {},
   "outputs": [],
   "source": [
    "X_train, X_test, y_train, y_test = train_test_split(X, y, test_size = 0.2, random_state=0)"
   ]
  },
  {
   "cell_type": "markdown",
   "id": "1558e756",
   "metadata": {},
   "source": [
    "### Fit the data into the models "
   ]
  },
  {
   "cell_type": "code",
   "execution_count": 17,
   "id": "2e45117f",
   "metadata": {},
   "outputs": [],
   "source": [
    "models = {\n",
    "    \"Linear Regression\" : LinearRegression(),\n",
    "    \"Lasso\" : Lasso(),\n",
    "    \"Ridge\" : Ridge(),\n",
    "    \"KNeighbors Regressor\" : KNeighborsRegressor(),\n",
    "    \"Random Forest\" : RandomForestRegressor(),\n",
    "    \"ANN Regression\" : MLPRegressor(hidden_layer_sizes=(100,), max_iter=1000),\n",
    "    'LGBM': lgb.LGBMRegressor(),\n",
    "    'XGBoost': xgb.XGBRegressor(),\n",
    "    \"PolynomialRegression\" : Pipeline([\n",
    "               (\"poly\", PolynomialFeatures(degree=4)),\n",
    "             (\"Linear Regression\",LinearRegression())\n",
    "         ]),\n",
    "    \"SVR Regression\" : SVR(),\n",
    "    \"HuberRegressor\" : HuberRegressor(),\n",
    "    \"Elastic Net Regression\" : ElasticNet()\n",
    "    \n",
    "}"
   ]
  },
  {
   "cell_type": "code",
   "execution_count": null,
   "id": "26226886",
   "metadata": {},
   "outputs": [
    {
     "name": "stdout",
     "output_type": "stream",
     "text": [
      "[{'Name': 'Linear Regression', 'MSE': 10549721686.160313, 'MAE': 82657.94605892441, 'R2 Score': 0.9146454505137985}]\n",
      "[{'Name': 'Linear Regression', 'MSE': 10549721686.160313, 'MAE': 82657.94605892441, 'R2 Score': 0.9146454505137985}, {'Name': 'Lasso', 'MSE': 10549717660.356379, 'MAE': 82657.94662172231, 'R2 Score': 0.9146454830853384}]\n",
      "[{'Name': 'Linear Regression', 'MSE': 10549721686.160313, 'MAE': 82657.94605892441, 'R2 Score': 0.9146454505137985}, {'Name': 'Lasso', 'MSE': 10549717660.356379, 'MAE': 82657.94662172231, 'R2 Score': 0.9146454830853384}, {'Name': 'Ridge', 'MSE': 10549745186.670168, 'MAE': 82659.67244409773, 'R2 Score': 0.9146452603784101}]\n",
      "[{'Name': 'Linear Regression', 'MSE': 10549721686.160313, 'MAE': 82657.94605892441, 'R2 Score': 0.9146454505137985}, {'Name': 'Lasso', 'MSE': 10549717660.356379, 'MAE': 82657.94662172231, 'R2 Score': 0.9146454830853384}, {'Name': 'Ridge', 'MSE': 10549745186.670168, 'MAE': 82659.67244409773, 'R2 Score': 0.9146452603784101}, {'Name': 'KNeighbors Regressor', 'MSE': 60395811313.31432, 'MAE': 198086.23684543537, 'R2 Score': 0.5113560889227768}]\n",
      "[{'Name': 'Linear Regression', 'MSE': 10549721686.160313, 'MAE': 82657.94605892441, 'R2 Score': 0.9146454505137985}, {'Name': 'Lasso', 'MSE': 10549717660.356379, 'MAE': 82657.94662172231, 'R2 Score': 0.9146454830853384}, {'Name': 'Ridge', 'MSE': 10549745186.670168, 'MAE': 82659.67244409773, 'R2 Score': 0.9146452603784101}, {'Name': 'KNeighbors Regressor', 'MSE': 60395811313.31432, 'MAE': 198086.23684543537, 'R2 Score': 0.5113560889227768}, {'Name': 'Random Forest', 'MSE': 15088597613.748606, 'MAE': 98472.51406741879, 'R2 Score': 0.8779228030830807}]\n",
      "[{'Name': 'Linear Regression', 'MSE': 10549721686.160313, 'MAE': 82657.94605892441, 'R2 Score': 0.9146454505137985}, {'Name': 'Lasso', 'MSE': 10549717660.356379, 'MAE': 82657.94662172231, 'R2 Score': 0.9146454830853384}, {'Name': 'Ridge', 'MSE': 10549745186.670168, 'MAE': 82659.67244409773, 'R2 Score': 0.9146452603784101}, {'Name': 'KNeighbors Regressor', 'MSE': 60395811313.31432, 'MAE': 198086.23684543537, 'R2 Score': 0.5113560889227768}, {'Name': 'Random Forest', 'MSE': 15088597613.748606, 'MAE': 98472.51406741879, 'R2 Score': 0.8779228030830807}, {'Name': 'ANN Regression', 'MSE': 61525357642.82112, 'MAE': 199484.3786512263, 'R2 Score': 0.5022172774027228}]\n",
      "[LightGBM] [Warning] Found whitespace in feature_names, replace with underlines\n",
      "[LightGBM] [Info] Auto-choosing col-wise multi-threading, the overhead of testing was 0.000096 seconds.\n",
      "You can set `force_col_wise=true` to remove the overhead.\n",
      "[LightGBM] [Info] Total Bins 1256\n",
      "[LightGBM] [Info] Number of data points in the train set: 4000, number of used features: 5\n",
      "[LightGBM] [Info] Start training from score 1231911.452183\n",
      "[{'Name': 'Linear Regression', 'MSE': 10549721686.160313, 'MAE': 82657.94605892441, 'R2 Score': 0.9146454505137985}, {'Name': 'Lasso', 'MSE': 10549717660.356379, 'MAE': 82657.94662172231, 'R2 Score': 0.9146454830853384}, {'Name': 'Ridge', 'MSE': 10549745186.670168, 'MAE': 82659.67244409773, 'R2 Score': 0.9146452603784101}, {'Name': 'KNeighbors Regressor', 'MSE': 60395811313.31432, 'MAE': 198086.23684543537, 'R2 Score': 0.5113560889227768}, {'Name': 'Random Forest', 'MSE': 15088597613.748606, 'MAE': 98472.51406741879, 'R2 Score': 0.8779228030830807}, {'Name': 'ANN Regression', 'MSE': 61525357642.82112, 'MAE': 199484.3786512263, 'R2 Score': 0.5022172774027228}, {'Name': 'LGBM', 'MSE': 13097708114.507051, 'MAE': 92133.9888284538, 'R2 Score': 0.8940304769478327}]\n",
      "[{'Name': 'Linear Regression', 'MSE': 10549721686.160313, 'MAE': 82657.94605892441, 'R2 Score': 0.9146454505137985}, {'Name': 'Lasso', 'MSE': 10549717660.356379, 'MAE': 82657.94662172231, 'R2 Score': 0.9146454830853384}, {'Name': 'Ridge', 'MSE': 10549745186.670168, 'MAE': 82659.67244409773, 'R2 Score': 0.9146452603784101}, {'Name': 'KNeighbors Regressor', 'MSE': 60395811313.31432, 'MAE': 198086.23684543537, 'R2 Score': 0.5113560889227768}, {'Name': 'Random Forest', 'MSE': 15088597613.748606, 'MAE': 98472.51406741879, 'R2 Score': 0.8779228030830807}, {'Name': 'ANN Regression', 'MSE': 61525357642.82112, 'MAE': 199484.3786512263, 'R2 Score': 0.5022172774027228}, {'Name': 'LGBM', 'MSE': 13097708114.507051, 'MAE': 92133.9888284538, 'R2 Score': 0.8940304769478327}, {'Name': 'XGBoost', 'MSE': 16138680641.877495, 'MAE': 101565.19208841266, 'R2 Score': 0.8694269046645823}]\n",
      "[{'Name': 'Linear Regression', 'MSE': 10549721686.160313, 'MAE': 82657.94605892441, 'R2 Score': 0.9146454505137985}, {'Name': 'Lasso', 'MSE': 10549717660.356379, 'MAE': 82657.94662172231, 'R2 Score': 0.9146454830853384}, {'Name': 'Ridge', 'MSE': 10549745186.670168, 'MAE': 82659.67244409773, 'R2 Score': 0.9146452603784101}, {'Name': 'KNeighbors Regressor', 'MSE': 60395811313.31432, 'MAE': 198086.23684543537, 'R2 Score': 0.5113560889227768}, {'Name': 'Random Forest', 'MSE': 15088597613.748606, 'MAE': 98472.51406741879, 'R2 Score': 0.8779228030830807}, {'Name': 'ANN Regression', 'MSE': 61525357642.82112, 'MAE': 199484.3786512263, 'R2 Score': 0.5022172774027228}, {'Name': 'LGBM', 'MSE': 13097708114.507051, 'MAE': 92133.9888284538, 'R2 Score': 0.8940304769478327}, {'Name': 'XGBoost', 'MSE': 16138680641.877495, 'MAE': 101565.19208841266, 'R2 Score': 0.8694269046645823}, {'Name': 'PolynomialRegression', 'MSE': 10664698510.343369, 'MAE': 83413.3642616763, 'R2 Score': 0.9137152084352447}]\n",
      "[{'Name': 'Linear Regression', 'MSE': 10549721686.160313, 'MAE': 82657.94605892441, 'R2 Score': 0.9146454505137985}, {'Name': 'Lasso', 'MSE': 10549717660.356379, 'MAE': 82657.94662172231, 'R2 Score': 0.9146454830853384}, {'Name': 'Ridge', 'MSE': 10549745186.670168, 'MAE': 82659.67244409773, 'R2 Score': 0.9146452603784101}, {'Name': 'KNeighbors Regressor', 'MSE': 60395811313.31432, 'MAE': 198086.23684543537, 'R2 Score': 0.5113560889227768}, {'Name': 'Random Forest', 'MSE': 15088597613.748606, 'MAE': 98472.51406741879, 'R2 Score': 0.8779228030830807}, {'Name': 'ANN Regression', 'MSE': 61525357642.82112, 'MAE': 199484.3786512263, 'R2 Score': 0.5022172774027228}, {'Name': 'LGBM', 'MSE': 13097708114.507051, 'MAE': 92133.9888284538, 'R2 Score': 0.8940304769478327}, {'Name': 'XGBoost', 'MSE': 16138680641.877495, 'MAE': 101565.19208841266, 'R2 Score': 0.8694269046645823}, {'Name': 'PolynomialRegression', 'MSE': 10664698510.343369, 'MAE': 83413.3642616763, 'R2 Score': 0.9137152084352447}, {'Name': 'SVR Regression', 'MSE': 123546565157.52672, 'MAE': 282947.68758691323, 'R2 Score': 0.0004227861838135283}]\n",
      "[{'Name': 'Linear Regression', 'MSE': 10549721686.160313, 'MAE': 82657.94605892441, 'R2 Score': 0.9146454505137985}, {'Name': 'Lasso', 'MSE': 10549717660.356379, 'MAE': 82657.94662172231, 'R2 Score': 0.9146454830853384}, {'Name': 'Ridge', 'MSE': 10549745186.670168, 'MAE': 82659.67244409773, 'R2 Score': 0.9146452603784101}, {'Name': 'KNeighbors Regressor', 'MSE': 60395811313.31432, 'MAE': 198086.23684543537, 'R2 Score': 0.5113560889227768}, {'Name': 'Random Forest', 'MSE': 15088597613.748606, 'MAE': 98472.51406741879, 'R2 Score': 0.8779228030830807}, {'Name': 'ANN Regression', 'MSE': 61525357642.82112, 'MAE': 199484.3786512263, 'R2 Score': 0.5022172774027228}, {'Name': 'LGBM', 'MSE': 13097708114.507051, 'MAE': 92133.9888284538, 'R2 Score': 0.8940304769478327}, {'Name': 'XGBoost', 'MSE': 16138680641.877495, 'MAE': 101565.19208841266, 'R2 Score': 0.8694269046645823}, {'Name': 'PolynomialRegression', 'MSE': 10664698510.343369, 'MAE': 83413.3642616763, 'R2 Score': 0.9137152084352447}, {'Name': 'SVR Regression', 'MSE': 123546565157.52672, 'MAE': 282947.68758691323, 'R2 Score': 0.0004227861838135283}, {'Name': 'HuberRegressor', 'MSE': 61664910393.24955, 'MAE': 199465.55955429334, 'R2 Score': 0.5010881990728173}]\n",
      "[{'Name': 'Linear Regression', 'MSE': 10549721686.160313, 'MAE': 82657.94605892441, 'R2 Score': 0.9146454505137985}, {'Name': 'Lasso', 'MSE': 10549717660.356379, 'MAE': 82657.94662172231, 'R2 Score': 0.9146454830853384}, {'Name': 'Ridge', 'MSE': 10549745186.670168, 'MAE': 82659.67244409773, 'R2 Score': 0.9146452603784101}, {'Name': 'KNeighbors Regressor', 'MSE': 60395811313.31432, 'MAE': 198086.23684543537, 'R2 Score': 0.5113560889227768}, {'Name': 'Random Forest', 'MSE': 15088597613.748606, 'MAE': 98472.51406741879, 'R2 Score': 0.8779228030830807}, {'Name': 'ANN Regression', 'MSE': 61525357642.82112, 'MAE': 199484.3786512263, 'R2 Score': 0.5022172774027228}, {'Name': 'LGBM', 'MSE': 13097708114.507051, 'MAE': 92133.9888284538, 'R2 Score': 0.8940304769478327}, {'Name': 'XGBoost', 'MSE': 16138680641.877495, 'MAE': 101565.19208841266, 'R2 Score': 0.8694269046645823}, {'Name': 'PolynomialRegression', 'MSE': 10664698510.343369, 'MAE': 83413.3642616763, 'R2 Score': 0.9137152084352447}, {'Name': 'SVR Regression', 'MSE': 123546565157.52672, 'MAE': 282947.68758691323, 'R2 Score': 0.0004227861838135283}, {'Name': 'HuberRegressor', 'MSE': 61664910393.24955, 'MAE': 199465.55955429334, 'R2 Score': 0.5010881990728173}, {'Name': 'Elastic Net Regression', 'MSE': 15081376466.559586, 'MAE': 99126.80843102589, 'R2 Score': 0.8779812271613102}]\n"
     ]
    }
   ],
   "source": [
    "result = []\n",
    "\n",
    "for name, model in models.items():\n",
    "    model.fit(X_train, y_train)\n",
    "    y_pred = model.predict(X_test)\n",
    "    \n",
    "    # find the metrics \n",
    "    MSE = mean_squared_error(y_test, y_pred)\n",
    "    MAE = mean_absolute_error(y_test, y_pred)\n",
    "    r2score = r2_score(y_test, y_pred)\n",
    "    \n",
    "    # append the MSE , MAE and r2 Score\n",
    "    result.append(\n",
    "        {\n",
    "            \"Name\" : name,\n",
    "            \"MSE\" : MSE,\n",
    "            \"MAE\" : MAE,\n",
    "            \"R2 Score\" : r2score\n",
    "        }\n",
    "    )\n",
    "    \n",
    "    # pickle the file \n",
    "    "
   ]
  },
  {
   "cell_type": "code",
   "execution_count": null,
   "id": "6bc3fe81",
   "metadata": {},
   "outputs": [],
   "source": []
  }
 ],
 "metadata": {
  "kernelspec": {
   "display_name": "Python (my_env_name)",
   "language": "python",
   "name": "my_env_name"
  },
  "language_info": {
   "codemirror_mode": {
    "name": "ipython",
    "version": 3
   },
   "file_extension": ".py",
   "mimetype": "text/x-python",
   "name": "python",
   "nbconvert_exporter": "python",
   "pygments_lexer": "ipython3",
   "version": "3.13.3"
  }
 },
 "nbformat": 4,
 "nbformat_minor": 5
}
