{
 "cells": [
  {
   "cell_type": "code",
   "execution_count": 2,
   "id": "798779c4-b3c3-44a4-87fa-83e3c1dc926d",
   "metadata": {},
   "outputs": [],
   "source": [
    "import cv2\n",
    "import numpy as np"
   ]
  },
  {
   "cell_type": "code",
   "execution_count": 3,
   "id": "4bf3daba-8f4e-4fc9-a8ff-51f9dc04d88b",
   "metadata": {},
   "outputs": [
    {
     "name": "stdout",
     "output_type": "stream",
     "text": [
      "User want to quite the program ---------> Thanks for your time\n"
     ]
    }
   ],
   "source": [
    "# open video using video capture\n",
    "video_path = r\"C:\\Users\\vrush\\Videos\\2025-09-02 11-32-24.mp4\"\n",
    "video = cv2.VideoCapture(video_path)\n",
    "\n",
    "if not video.isOpened():\n",
    "    print('Video is not captured')\n",
    "    exit()\n",
    "\n",
    "\n",
    "while True :\n",
    "\n",
    "    ret , frame = video.read()\n",
    "\n",
    "    if not ret :\n",
    "        print('Frame is not capture')\n",
    "        break\n",
    "\n",
    "    cv2.imshow('External Video',frame)\n",
    "\n",
    "    if cv2.waitKey(25) & 0xFF == ord('q'):\n",
    "        print('User want to quite the program ---------> Thanks for your time')\n",
    "        break\n",
    "\n",
    "video.release()\n",
    "cv2.destroyAllWindows()"
   ]
  },
  {
   "cell_type": "markdown",
   "id": "830257d1-f2da-431a-ad12-824555a6bfab",
   "metadata": {},
   "source": [
    "### `cv2.createBackgroundSubtractorMOG2`\n",
    "-  ####  `MOG2` stands for `Mixture of Gaussians version 2`.\n",
    "-  ####   It models the background of a video frame by using a mixture of Gaussian distributions for each pixel.\n",
    "-  ####   It can handle lighting changes, shadows, and slow-moving objects better than simple subtraction.\n",
    "\n",
    "###  `cv2.createBackgroundSubtractorKNN`\n",
    "-  ####  `KNN` stands for `K-Nearest Neighbors`.\n",
    "-  ####   Each pixel is compared to its `K nearest background pixel values` to decide if it’s foreground.\n",
    "-  ####   Works well for `slow illumination changes` but is a bit `slower`` than `MOG2`."
   ]
  },
  {
   "cell_type": "code",
   "execution_count": 6,
   "id": "69c567c5-d7ca-4323-8e52-048b3c49be97",
   "metadata": {},
   "outputs": [
    {
     "name": "stdout",
     "output_type": "stream",
     "text": [
      "User wants to quit\n"
     ]
    }
   ],
   "source": [
    "import cv2\n",
    "\n",
    "video_path = r\"istockphoto-2121501112-640_adpp_is.mp4\"\n",
    "video = cv2.VideoCapture(video_path)\n",
    "fgbg = cv2.createBackgroundSubtractorMOG2()\n",
    "\n",
    "if not video.isOpened():\n",
    "    print('Video is not captured')\n",
    "    exit()\n",
    "\n",
    "while True:\n",
    "    ret, frame = video.read()\n",
    "    if not ret:\n",
    "        print('Frame is not capture')\n",
    "        break\n",
    "\n",
    "    # Resize frame for faster processing\n",
    "    small_frame = cv2.resize(frame, (500, 500))\n",
    "\n",
    "    # Apply background subtraction on small frame\n",
    "    fgmask = fgbg.apply(small_frame)\n",
    "\n",
    "    # Show both the small video frame and its foreground mask\n",
    "    cv2.imshow('Original Video', small_frame)\n",
    "    cv2.imshow(\"Foreground Mask\", fgmask)\n",
    "\n",
    "    if cv2.waitKey(25) & 0xFF == ord('q'):\n",
    "        print('User wants to quit')\n",
    "        break\n",
    "\n",
    "video.release()\n",
    "cv2.destroyAllWindows()\n"
   ]
  },
  {
   "cell_type": "code",
   "execution_count": null,
   "id": "7de86e16-d614-4551-896d-4c48d84ebebe",
   "metadata": {},
   "outputs": [],
   "source": []
  },
  {
   "cell_type": "code",
   "execution_count": null,
   "id": "cbd4b84a-c5c1-4140-999a-25d9e832f30f",
   "metadata": {},
   "outputs": [],
   "source": []
  }
 ],
 "metadata": {
  "kernelspec": {
   "display_name": "Python 3 (ipykernel)",
   "language": "python",
   "name": "python3"
  },
  "language_info": {
   "codemirror_mode": {
    "name": "ipython",
    "version": 3
   },
   "file_extension": ".py",
   "mimetype": "text/x-python",
   "name": "python",
   "nbconvert_exporter": "python",
   "pygments_lexer": "ipython3",
   "version": "3.11.9"
  }
 },
 "nbformat": 4,
 "nbformat_minor": 5
}
