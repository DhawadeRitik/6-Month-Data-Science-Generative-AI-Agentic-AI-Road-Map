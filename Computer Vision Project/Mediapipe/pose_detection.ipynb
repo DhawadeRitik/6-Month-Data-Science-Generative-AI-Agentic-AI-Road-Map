{
 "cells": [
  {
   "cell_type": "code",
   "execution_count": 9,
   "id": "0746fc45",
   "metadata": {},
   "outputs": [],
   "source": [
    "import cv2 \n",
    "import mediapipe as mp\n",
    "import matplotlib.pyplot as plt"
   ]
  },
  {
   "cell_type": "code",
   "execution_count": 3,
   "id": "54d735b1",
   "metadata": {},
   "outputs": [],
   "source": [
    "# detect the pose \n",
    "\n",
    "# access the pose detection model \n",
    "mp_pose = mp.solutions.pose\n",
    "pose = mp_pose.Pose()\n",
    "draw_pose = mp.solutions.drawing_utils"
   ]
  },
  {
   "cell_type": "code",
   "execution_count": 12,
   "id": "79f5a632",
   "metadata": {},
   "outputs": [],
   "source": [
    "video = cv2.VideoCapture(0)\n",
    "\n",
    "if not video.isOpened():\n",
    "    print(\"Unable to capture the video\")\n",
    "    exit()\n",
    "    \n",
    "\n",
    "while True :\n",
    "    ret, frame = video.read()\n",
    "    \n",
    "    if not ret :\n",
    "        print(\"Unable to capture the frame\")\n",
    "        break\n",
    "    \n",
    "    rgb_frame = cv2.cvtColor(frame, cv2.COLOR_BGR2RGB)\n",
    "    \n",
    "    result = pose.process(rgb_frame)\n",
    "    \n",
    "    # Draw landmarks if detected\n",
    "    if result.pose_landmarks:\n",
    "        draw_pose.draw_landmarks(\n",
    "            frame,                           # draw on original BGR frame\n",
    "            result.pose_landmarks,           # landmark points\n",
    "            mp_pose.POSE_CONNECTIONS         # connections between them\n",
    "        )\n",
    "        \n",
    "    # Display output\n",
    "    cv2.imshow(\"Pose Detection\", frame)\n",
    "\n",
    "    # Quit on Q key\n",
    "    if cv2.waitKey(1) & 0xFF == ord('q'):\n",
    "        break\n",
    "\n",
    "video.release()\n",
    "cv2.destroyAllWindows()"
   ]
  },
  {
   "cell_type": "code",
   "execution_count": null,
   "id": "44347d6b",
   "metadata": {},
   "outputs": [],
   "source": []
  },
  {
   "cell_type": "code",
   "execution_count": null,
   "id": "518aa461",
   "metadata": {},
   "outputs": [],
   "source": []
  },
  {
   "cell_type": "code",
   "execution_count": null,
   "id": "82d90cae",
   "metadata": {},
   "outputs": [],
   "source": []
  },
  {
   "cell_type": "code",
   "execution_count": null,
   "id": "9188245d",
   "metadata": {},
   "outputs": [],
   "source": []
  },
  {
   "cell_type": "code",
   "execution_count": null,
   "id": "1ab3ad9a",
   "metadata": {},
   "outputs": [],
   "source": []
  }
 ],
 "metadata": {
  "kernelspec": {
   "display_name": "env (3.11.9)",
   "language": "python",
   "name": "python3"
  },
  "language_info": {
   "codemirror_mode": {
    "name": "ipython",
    "version": 3
   },
   "file_extension": ".py",
   "mimetype": "text/x-python",
   "name": "python",
   "nbconvert_exporter": "python",
   "pygments_lexer": "ipython3",
   "version": "3.11.9"
  }
 },
 "nbformat": 4,
 "nbformat_minor": 5
}
