{
 "cells": [
  {
   "cell_type": "code",
   "execution_count": 1,
   "id": "930607c7-a11a-4fa4-a467-24cba692e84d",
   "metadata": {},
   "outputs": [
    {
     "name": "stderr",
     "output_type": "stream",
     "text": [
      "[nltk_data] Downloading package stopwords to\n",
      "[nltk_data]     C:\\Users\\vrush\\AppData\\Roaming\\nltk_data...\n",
      "[nltk_data]   Package stopwords is already up-to-date!\n"
     ]
    }
   ],
   "source": [
    "import pandas as pd\n",
    "import seaborn as sns\n",
    "import matplotlib.pyplot as plt \n",
    "\n",
    "import nltk\n",
    "nltk.download('stopwords')\n",
    "from nltk.stem.porter import PorterStemmer\n",
    "from nltk.corpus import stopwords\n",
    "\n",
    "\n",
    "from sklearn.model_selection import train_test_split \n",
    "from sklearn.preprocessing import MinMaxScaler\n",
    "from sklearn.feature_extraction.text import CountVectorizer \n",
    "from sklearn.model_selection import cross_val_score\n",
    "from sklearn.metrics import confusion_matrix, ConfusionMatrixDisplay, accuracy_score\n",
    "from sklearn.model_selection import GridSearchCV\n",
    "from sklearn.ensemble import RandomForestClassifier\n",
    "from sklearn.model_selection import StratifiedKFold\n",
    "from wordcloud import WordCloud\n",
    "from sklearn.tree import DecisionTreeClassifier\n",
    "from xgboost import XGBClassifier\n",
    "import pickle\n",
    "import re"
   ]
  },
  {
   "cell_type": "markdown",
   "id": "415cbad1-98cd-4b78-9751-4f3dc1e62531",
   "metadata": {},
   "source": [
    "#### Exploratory Data Analysis"
   ]
  },
  {
   "cell_type": "code",
   "execution_count": 2,
   "id": "5d1de3be-c859-4f3f-8eb2-c09e0d0799c3",
   "metadata": {},
   "outputs": [
    {
     "data": {
      "text/plain": [
       "<WordListCorpusReader in 'C:\\\\Users\\\\vrush\\\\AppData\\\\Roaming\\\\nltk_data\\\\corpora\\\\stopwords'>"
      ]
     },
     "execution_count": 2,
     "metadata": {},
     "output_type": "execute_result"
    }
   ],
   "source": [
    "# set the stopword \n",
    "stopword = set(stopwords.words('english'))\n",
    "stopwords"
   ]
  },
  {
   "cell_type": "code",
   "execution_count": 3,
   "id": "00a25ef0-489b-43ef-b91f-9240cafabd35",
   "metadata": {},
   "outputs": [
    {
     "data": {
      "text/html": [
       "<div>\n",
       "<style scoped>\n",
       "    .dataframe tbody tr th:only-of-type {\n",
       "        vertical-align: middle;\n",
       "    }\n",
       "\n",
       "    .dataframe tbody tr th {\n",
       "        vertical-align: top;\n",
       "    }\n",
       "\n",
       "    .dataframe thead th {\n",
       "        text-align: right;\n",
       "    }\n",
       "</style>\n",
       "<table border=\"1\" class=\"dataframe\">\n",
       "  <thead>\n",
       "    <tr style=\"text-align: right;\">\n",
       "      <th></th>\n",
       "      <th>rating</th>\n",
       "      <th>date</th>\n",
       "      <th>variation</th>\n",
       "      <th>verified_reviews</th>\n",
       "      <th>feedback</th>\n",
       "    </tr>\n",
       "  </thead>\n",
       "  <tbody>\n",
       "    <tr>\n",
       "      <th>0</th>\n",
       "      <td>5</td>\n",
       "      <td>31-Jul-18</td>\n",
       "      <td>Charcoal Fabric</td>\n",
       "      <td>Love my Echo!</td>\n",
       "      <td>1</td>\n",
       "    </tr>\n",
       "    <tr>\n",
       "      <th>1</th>\n",
       "      <td>5</td>\n",
       "      <td>31-Jul-18</td>\n",
       "      <td>Charcoal Fabric</td>\n",
       "      <td>Loved it!</td>\n",
       "      <td>1</td>\n",
       "    </tr>\n",
       "    <tr>\n",
       "      <th>2</th>\n",
       "      <td>4</td>\n",
       "      <td>31-Jul-18</td>\n",
       "      <td>Walnut Finish</td>\n",
       "      <td>Sometimes while playing a game, you can answer...</td>\n",
       "      <td>1</td>\n",
       "    </tr>\n",
       "    <tr>\n",
       "      <th>3</th>\n",
       "      <td>5</td>\n",
       "      <td>31-Jul-18</td>\n",
       "      <td>Charcoal Fabric</td>\n",
       "      <td>I have had a lot of fun with this thing. My 4 ...</td>\n",
       "      <td>1</td>\n",
       "    </tr>\n",
       "    <tr>\n",
       "      <th>4</th>\n",
       "      <td>5</td>\n",
       "      <td>31-Jul-18</td>\n",
       "      <td>Charcoal Fabric</td>\n",
       "      <td>Music</td>\n",
       "      <td>1</td>\n",
       "    </tr>\n",
       "    <tr>\n",
       "      <th>5</th>\n",
       "      <td>5</td>\n",
       "      <td>31-Jul-18</td>\n",
       "      <td>Heather Gray Fabric</td>\n",
       "      <td>I received the echo as a gift. I needed anothe...</td>\n",
       "      <td>1</td>\n",
       "    </tr>\n",
       "    <tr>\n",
       "      <th>6</th>\n",
       "      <td>3</td>\n",
       "      <td>31-Jul-18</td>\n",
       "      <td>Sandstone Fabric</td>\n",
       "      <td>Without having a cellphone, I cannot use many ...</td>\n",
       "      <td>1</td>\n",
       "    </tr>\n",
       "    <tr>\n",
       "      <th>7</th>\n",
       "      <td>5</td>\n",
       "      <td>31-Jul-18</td>\n",
       "      <td>Charcoal Fabric</td>\n",
       "      <td>I think this is the 5th one I've purchased. I'...</td>\n",
       "      <td>1</td>\n",
       "    </tr>\n",
       "    <tr>\n",
       "      <th>8</th>\n",
       "      <td>5</td>\n",
       "      <td>30-Jul-18</td>\n",
       "      <td>Heather Gray Fabric</td>\n",
       "      <td>looks great</td>\n",
       "      <td>1</td>\n",
       "    </tr>\n",
       "    <tr>\n",
       "      <th>9</th>\n",
       "      <td>5</td>\n",
       "      <td>30-Jul-18</td>\n",
       "      <td>Heather Gray Fabric</td>\n",
       "      <td>Love it! I’ve listened to songs I haven’t hear...</td>\n",
       "      <td>1</td>\n",
       "    </tr>\n",
       "  </tbody>\n",
       "</table>\n",
       "</div>"
      ],
      "text/plain": [
       "   rating       date             variation  \\\n",
       "0       5  31-Jul-18      Charcoal Fabric    \n",
       "1       5  31-Jul-18      Charcoal Fabric    \n",
       "2       4  31-Jul-18        Walnut Finish    \n",
       "3       5  31-Jul-18      Charcoal Fabric    \n",
       "4       5  31-Jul-18      Charcoal Fabric    \n",
       "5       5  31-Jul-18  Heather Gray Fabric    \n",
       "6       3  31-Jul-18     Sandstone Fabric    \n",
       "7       5  31-Jul-18      Charcoal Fabric    \n",
       "8       5  30-Jul-18  Heather Gray Fabric    \n",
       "9       5  30-Jul-18  Heather Gray Fabric    \n",
       "\n",
       "                                    verified_reviews  feedback  \n",
       "0                                      Love my Echo!         1  \n",
       "1                                          Loved it!         1  \n",
       "2  Sometimes while playing a game, you can answer...         1  \n",
       "3  I have had a lot of fun with this thing. My 4 ...         1  \n",
       "4                                              Music         1  \n",
       "5  I received the echo as a gift. I needed anothe...         1  \n",
       "6  Without having a cellphone, I cannot use many ...         1  \n",
       "7  I think this is the 5th one I've purchased. I'...         1  \n",
       "8                                        looks great         1  \n",
       "9  Love it! I’ve listened to songs I haven’t hear...         1  "
      ]
     },
     "execution_count": 3,
     "metadata": {},
     "output_type": "execute_result"
    }
   ],
   "source": [
    "data = pd.read_csv(r'amazon_alexa.tsv', delimiter='\\t')\n",
    "data.head(10)"
   ]
  },
  {
   "cell_type": "code",
   "execution_count": 4,
   "id": "2cb697d9-ac05-44c9-ade7-7aa156d4992b",
   "metadata": {},
   "outputs": [
    {
     "name": "stdout",
     "output_type": "stream",
     "text": [
      "Shape of the Data : (3150, 5)\n"
     ]
    }
   ],
   "source": [
    "# shape of the data \n",
    "print(\"Shape of the Data :\",data.shape)"
   ]
  },
  {
   "cell_type": "code",
   "execution_count": 5,
   "id": "7cb1fa63-46d2-477d-85ce-d8f5dcfd24f1",
   "metadata": {},
   "outputs": [
    {
     "data": {
      "text/plain": [
       "rating              0\n",
       "date                0\n",
       "variation           0\n",
       "verified_reviews    1\n",
       "feedback            0\n",
       "dtype: int64"
      ]
     },
     "execution_count": 5,
     "metadata": {},
     "output_type": "execute_result"
    }
   ],
   "source": [
    "# check null va;ue \n",
    "data.isnull().sum()"
   ]
  },
  {
   "cell_type": "code",
   "execution_count": 6,
   "id": "9b5c7557-6689-40d4-9760-eaf7fba18c67",
   "metadata": {},
   "outputs": [
    {
     "data": {
      "text/html": [
       "<div>\n",
       "<style scoped>\n",
       "    .dataframe tbody tr th:only-of-type {\n",
       "        vertical-align: middle;\n",
       "    }\n",
       "\n",
       "    .dataframe tbody tr th {\n",
       "        vertical-align: top;\n",
       "    }\n",
       "\n",
       "    .dataframe thead th {\n",
       "        text-align: right;\n",
       "    }\n",
       "</style>\n",
       "<table border=\"1\" class=\"dataframe\">\n",
       "  <thead>\n",
       "    <tr style=\"text-align: right;\">\n",
       "      <th></th>\n",
       "      <th>rating</th>\n",
       "      <th>date</th>\n",
       "      <th>variation</th>\n",
       "      <th>verified_reviews</th>\n",
       "      <th>feedback</th>\n",
       "    </tr>\n",
       "  </thead>\n",
       "  <tbody>\n",
       "    <tr>\n",
       "      <th>473</th>\n",
       "      <td>2</td>\n",
       "      <td>29-Jun-18</td>\n",
       "      <td>White</td>\n",
       "      <td>NaN</td>\n",
       "      <td>0</td>\n",
       "    </tr>\n",
       "  </tbody>\n",
       "</table>\n",
       "</div>"
      ],
      "text/plain": [
       "     rating       date variation verified_reviews  feedback\n",
       "473       2  29-Jun-18     White              NaN         0"
      ]
     },
     "execution_count": 6,
     "metadata": {},
     "output_type": "execute_result"
    }
   ],
   "source": [
    "data.loc[data['verified_reviews'].isna() == True]"
   ]
  },
  {
   "cell_type": "code",
   "execution_count": 7,
   "id": "ea7e28ec-e336-40eb-828d-0ee8d0823006",
   "metadata": {},
   "outputs": [],
   "source": [
    "data.dropna(inplace = True)"
   ]
  },
  {
   "cell_type": "code",
   "execution_count": 8,
   "id": "ad9ab4f0-aeb6-4bc7-b1e2-5b09e4536f74",
   "metadata": {},
   "outputs": [
    {
     "data": {
      "text/plain": [
       "rating              0\n",
       "date                0\n",
       "variation           0\n",
       "verified_reviews    0\n",
       "feedback            0\n",
       "dtype: int64"
      ]
     },
     "execution_count": 8,
     "metadata": {},
     "output_type": "execute_result"
    }
   ],
   "source": [
    "data.isna().sum()"
   ]
  },
  {
   "cell_type": "code",
   "execution_count": 9,
   "id": "22218324-ca07-42c8-82e6-b30a6e7d53c6",
   "metadata": {},
   "outputs": [
    {
     "data": {
      "text/html": [
       "<div>\n",
       "<style scoped>\n",
       "    .dataframe tbody tr th:only-of-type {\n",
       "        vertical-align: middle;\n",
       "    }\n",
       "\n",
       "    .dataframe tbody tr th {\n",
       "        vertical-align: top;\n",
       "    }\n",
       "\n",
       "    .dataframe thead th {\n",
       "        text-align: right;\n",
       "    }\n",
       "</style>\n",
       "<table border=\"1\" class=\"dataframe\">\n",
       "  <thead>\n",
       "    <tr style=\"text-align: right;\">\n",
       "      <th></th>\n",
       "      <th>rating</th>\n",
       "      <th>date</th>\n",
       "      <th>variation</th>\n",
       "      <th>verified_reviews</th>\n",
       "      <th>feedback</th>\n",
       "      <th>length</th>\n",
       "    </tr>\n",
       "  </thead>\n",
       "  <tbody>\n",
       "    <tr>\n",
       "      <th>0</th>\n",
       "      <td>5</td>\n",
       "      <td>31-Jul-18</td>\n",
       "      <td>Charcoal Fabric</td>\n",
       "      <td>Love my Echo!</td>\n",
       "      <td>1</td>\n",
       "      <td>13</td>\n",
       "    </tr>\n",
       "    <tr>\n",
       "      <th>1</th>\n",
       "      <td>5</td>\n",
       "      <td>31-Jul-18</td>\n",
       "      <td>Charcoal Fabric</td>\n",
       "      <td>Loved it!</td>\n",
       "      <td>1</td>\n",
       "      <td>9</td>\n",
       "    </tr>\n",
       "    <tr>\n",
       "      <th>2</th>\n",
       "      <td>4</td>\n",
       "      <td>31-Jul-18</td>\n",
       "      <td>Walnut Finish</td>\n",
       "      <td>Sometimes while playing a game, you can answer...</td>\n",
       "      <td>1</td>\n",
       "      <td>195</td>\n",
       "    </tr>\n",
       "    <tr>\n",
       "      <th>3</th>\n",
       "      <td>5</td>\n",
       "      <td>31-Jul-18</td>\n",
       "      <td>Charcoal Fabric</td>\n",
       "      <td>I have had a lot of fun with this thing. My 4 ...</td>\n",
       "      <td>1</td>\n",
       "      <td>172</td>\n",
       "    </tr>\n",
       "    <tr>\n",
       "      <th>4</th>\n",
       "      <td>5</td>\n",
       "      <td>31-Jul-18</td>\n",
       "      <td>Charcoal Fabric</td>\n",
       "      <td>Music</td>\n",
       "      <td>1</td>\n",
       "      <td>5</td>\n",
       "    </tr>\n",
       "  </tbody>\n",
       "</table>\n",
       "</div>"
      ],
      "text/plain": [
       "   rating       date         variation  \\\n",
       "0       5  31-Jul-18  Charcoal Fabric    \n",
       "1       5  31-Jul-18  Charcoal Fabric    \n",
       "2       4  31-Jul-18    Walnut Finish    \n",
       "3       5  31-Jul-18  Charcoal Fabric    \n",
       "4       5  31-Jul-18  Charcoal Fabric    \n",
       "\n",
       "                                    verified_reviews  feedback  length  \n",
       "0                                      Love my Echo!         1      13  \n",
       "1                                          Loved it!         1       9  \n",
       "2  Sometimes while playing a game, you can answer...         1     195  \n",
       "3  I have had a lot of fun with this thing. My 4 ...         1     172  \n",
       "4                                              Music         1       5  "
      ]
     },
     "execution_count": 9,
     "metadata": {},
     "output_type": "execute_result"
    }
   ],
   "source": [
    "# create a new column 'length' that will contain the length of the string in verified_reviews column\n",
    "data['length'] = data['verified_reviews'].apply(len)\n",
    "data.head()"
   ]
  },
  {
   "cell_type": "markdown",
   "id": "cfafe5ba-6c6a-4944-865b-0089e2bd69d1",
   "metadata": {},
   "source": [
    "# Randomly checking for 10th record\n",
    "print(f\"'verified_reviews' column value : {data.iloc[10]['verified_reviews']}\")\n",
    "print(f\"Length of review : {len(data.iloc[10]['verified_reviews'])}\")\n",
    "print(f\"'length' column value : {data.iloc[10]['length']}\")"
   ]
  },
  {
   "cell_type": "markdown",
   "id": "0e81f29d-8224-4b4b-983e-a2beed18070d",
   "metadata": {},
   "source": [
    "#### Check Data Types of the columns "
   ]
  },
  {
   "cell_type": "code",
   "execution_count": 10,
   "id": "6255b5c6-4f68-497b-a5e2-31a9923c6d80",
   "metadata": {},
   "outputs": [
    {
     "data": {
      "text/plain": [
       "rating               int64\n",
       "date                object\n",
       "variation           object\n",
       "verified_reviews    object\n",
       "feedback             int64\n",
       "length               int64\n",
       "dtype: object"
      ]
     },
     "execution_count": 10,
     "metadata": {},
     "output_type": "execute_result"
    }
   ],
   "source": [
    "data.dtypes"
   ]
  },
  {
   "cell_type": "markdown",
   "id": "c73f30fd-0323-4433-bf57-e830823e9980",
   "metadata": {},
   "source": [
    "- rating, feedback and length are the integer values\n",
    "- date , variation, verified_reviews"
   ]
  },
  {
   "cell_type": "markdown",
   "id": "258dd358-50c9-4d1c-b73e-0aca0c58bb72",
   "metadata": {},
   "source": [
    "### Analyzing `rating` column"
   ]
  },
  {
   "cell_type": "markdown",
   "id": "8b59bb31-229d-40a9-851d-0b3258bd3ae5",
   "metadata": {},
   "source": [
    "#### This column refers to the rating of the variation given by the user "
   ]
  },
  {
   "cell_type": "code",
   "execution_count": 11,
   "id": "a69c079c-2ab0-4049-a790-bf829bb769bb",
   "metadata": {},
   "outputs": [
    {
     "name": "stdout",
     "output_type": "stream",
     "text": [
      "Rating value count : \n",
      "rating\n",
      "5    2286\n",
      "4     455\n",
      "1     161\n",
      "3     152\n",
      "2      95\n",
      "Name: count, dtype: int64\n"
     ]
    }
   ],
   "source": [
    "# Distinct values of 'rating' and its count \n",
    "print(f\"Rating value count : \\n{data['rating'].value_counts()}\")"
   ]
  },
  {
   "cell_type": "code",
   "execution_count": 12,
   "id": "c3733efb-fa84-4fb0-95f2-3649e898eb83",
   "metadata": {},
   "outputs": [
    {
     "name": "stderr",
     "output_type": "stream",
     "text": [
      "C:\\Users\\vrush\\AppData\\Local\\Temp\\ipykernel_9560\\2948686699.py:2: FutureWarning: \n",
      "\n",
      "Passing `palette` without assigning `hue` is deprecated and will be removed in v0.14.0. Assign the `x` variable to `hue` and set `legend=False` for the same effect.\n",
      "\n",
      "  sns.barplot(data['rating'].value_counts(), palette='rainbow', edgecolor='black')\n"
     ]
    },
    {
     "data": {
      "image/png": "[encoded data removed]",
      "text/plain": [
       "<Figure size 1000x500 with 1 Axes>"
      ]
     },
     "metadata": {},
     "output_type": "display_data"
    }
   ],
   "source": [
    "plt.figure(figsize=(10,5))\n",
    "sns.barplot(data['rating'].value_counts(), palette='rainbow', edgecolor='black')\n",
    "plt.title(\"Distribution of Rating\")\n",
    "plt.xlabel(\"Ratings\")\n",
    "plt.ylabel(\"Rating Count\")\n",
    "plt.show()"
   ]
  },
  {
   "cell_type": "code",
   "execution_count": 13,
   "id": "b0e48f91-47d5-4407-9ceb-59446e22f923",
   "metadata": {},
   "outputs": [
    {
     "data": {
      "text/plain": [
       "rating\n",
       "5    72.594474\n",
       "4    14.449031\n",
       "1     5.112734\n",
       "3     4.826929\n",
       "2     3.016831\n",
       "Name: proportion, dtype: float64"
      ]
     },
     "execution_count": 13,
     "metadata": {},
     "output_type": "execute_result"
    }
   ],
   "source": [
    "# Percentage distribution of Rating \n",
    "rating_pct = data['rating'].value_counts(normalize=True) * 100\n",
    "rating_pct"
   ]
  },
  {
   "cell_type": "code",
   "execution_count": 14,
   "id": "f219a2b3-eece-41de-a26f-ae8a1f5923b2",
   "metadata": {},
   "outputs": [
    {
     "data": {
      "image/png": "[encoded data removed]",
      "text/plain": [
       "<Figure size 1000x600 with 1 Axes>"
      ]
     },
     "metadata": {},
     "output_type": "display_data"
    }
   ],
   "source": [
    "plt.figure(figsize = (10,6))\n",
    "colors = ['#99ff99','#ff9999','#4CAF50','#FF5722','#66b3ff']\n",
    "explode=(0.1,0.1,0.1,0.1,0.1)\n",
    "wp = {'linewidth':1, \"edgecolor\":'black'}\n",
    "\n",
    "plt.pie(rating_pct ,labels = rating_pct.index, \n",
    "        autopct = '%1.1f%%', startangle = 90,\n",
    "       explode=explode, shadow = True, wedgeprops=wp\n",
    "       )\n",
    "\n",
    "\n",
    "plt.title(\"Percentage wise distribution of rating\")\n",
    "plt.show()\n",
    "plt.show()"
   ]
  },
  {
   "cell_type": "markdown",
   "id": "9fc0f05f-8214-4ff7-a066-9587a0093bbd",
   "metadata": {},
   "source": [
    "#### Analyze feedback column"
   ]
  },
  {
   "cell_type": "code",
   "execution_count": 15,
   "id": "1dc472fc-a05a-4d9d-a1eb-b0ceb3e87b4a",
   "metadata": {},
   "outputs": [
    {
     "data": {
      "text/plain": [
       "feedback\n",
       "1    2893\n",
       "0     256\n",
       "Name: count, dtype: int64"
      ]
     },
     "execution_count": 15,
     "metadata": {},
     "output_type": "execute_result"
    }
   ],
   "source": [
    "# Check the distinct values and its count \n",
    "data['feedback'].value_counts()"
   ]
  },
  {
   "cell_type": "markdown",
   "id": "def9e6db-a4f6-4e8b-a573-d962a7aa1619",
   "metadata": {},
   "source": [
    "#### We have only two feedback values \n",
    "-    #### feedback value = 0 (Negative Feedback)\n",
    "-    #### feedback value = 1 (Positive feedback)"
   ]
  },
  {
   "cell_type": "markdown",
   "id": "26d3a3c6-1301-4bf2-bb5d-7a41bb778d7a",
   "metadata": {},
   "source": [
    "#### Analyzed feed value 0"
   ]
  },
  {
   "cell_type": "code",
   "execution_count": 16,
   "id": "7a834144-efa6-4ad8-a2a3-5132945c3c53",
   "metadata": {},
   "outputs": [
    {
     "data": {
      "text/plain": [
       "'Sound is terrible if u want good music too get a bose'"
      ]
     },
     "execution_count": 16,
     "metadata": {},
     "output_type": "execute_result"
    }
   ],
   "source": [
    "# Extracting the verified_reviews value for one record with feedback 0 \n",
    "review_0 = data[data['feedback'] == 0].iloc[1]['verified_reviews']\n",
    "review_0"
   ]
  },
  {
   "cell_type": "code",
   "execution_count": 17,
   "id": "8eb110f4-a32f-4673-9c7e-32adfa144cb6",
   "metadata": {},
   "outputs": [
    {
     "name": "stderr",
     "output_type": "stream",
     "text": [
      "C:\\Users\\vrush\\AppData\\Local\\Temp\\ipykernel_9560\\3184643410.py:2: FutureWarning: \n",
      "\n",
      "Passing `palette` without assigning `hue` is deprecated and will be removed in v0.14.0. Assign the `x` variable to `hue` and set `legend=False` for the same effect.\n",
      "\n",
      "  sns.barplot(data['feedback'].value_counts(), palette='rainbow', edgecolor = 'black')\n"
     ]
    },
    {
     "data": {
      "image/png": "[encoded data removed]",
      "text/plain": [
       "<Figure size 1000x600 with 1 Axes>"
      ]
     },
     "metadata": {},
     "output_type": "display_data"
    }
   ],
   "source": [
    "plt.figure(figsize=(10,6))\n",
    "sns.barplot(data['feedback'].value_counts(), palette='rainbow', edgecolor = 'black')\n",
    "plt.title('Distribution of feedback')\n",
    "plt.xlabel(\"Feedback\")\n",
    "plt.ylabel(\"Count of Feedback\")\n",
    "plt.show()"
   ]
  },
  {
   "cell_type": "code",
   "execution_count": 18,
   "id": "07e15c1c-a561-4642-9a76-9b8ddcbb0cfd",
   "metadata": {},
   "outputs": [
    {
     "data": {
      "text/plain": [
       "feedback\n",
       "1    91.870435\n",
       "0     8.129565\n",
       "Name: proportion, dtype: float64"
      ]
     },
     "execution_count": 18,
     "metadata": {},
     "output_type": "execute_result"
    }
   ],
   "source": [
    "data['feedback'].value_counts(normalize = True) * 100"
   ]
  },
  {
   "cell_type": "markdown",
   "id": "1a7b82cf-56b5-4240-8c67-5f0d23ea04b3",
   "metadata": {},
   "source": [
    "#### Feedback Distribution \n",
    "-   #### 91.87% review are Positive\n",
    "-   #### 8.13% review are Negative "
   ]
  },
  {
   "cell_type": "code",
   "execution_count": 19,
   "id": "b444015a-713c-400e-bcc0-de56c81160ec",
   "metadata": {},
   "outputs": [
    {
     "data": {
      "text/plain": [
       "feedback\n",
       "1    0.918704\n",
       "0    0.081296\n",
       "Name: proportion, dtype: float64"
      ]
     },
     "execution_count": 19,
     "metadata": {},
     "output_type": "execute_result"
    }
   ],
   "source": [
    "feedback_pct = data['feedback'].value_counts(normalize = True)\n",
    "feedback_pct"
   ]
  },
  {
   "cell_type": "code",
   "execution_count": 20,
   "id": "596e9388-947c-4c77-beeb-17aca8408763",
   "metadata": {},
   "outputs": [
    {
     "data": {
      "image/png": "[encoded data removed]",
      "text/plain": [
       "<Figure size 1000x600 with 1 Axes>"
      ]
     },
     "metadata": {},
     "output_type": "display_data"
    }
   ],
   "source": [
    "plt.figure(figsize = (10,6))\n",
    "\n",
    "feedback_pct.index = feedback_pct.index.map({0: \"0 (Negative Feedback)\", \n",
    "                                             1: \"1 (Positive Feedback)\"})\n",
    "colors = ['#99ff99','#ff9999']\n",
    "explode=(0.2,0)\n",
    "wp = {'linewidth':1, \"edgecolor\":'black'}\n",
    "\n",
    "plt.pie(feedback_pct ,labels = feedback_pct.index, \n",
    "        autopct = '%1.1f%%', startangle = 90,\n",
    "       explode=explode, shadow = True, wedgeprops=wp\n",
    "       )\n",
    "plt.title(\"Percentage wise distribution of feedback\")\n",
    "plt.show()"
   ]
  },
  {
   "cell_type": "markdown",
   "id": "1435e699-ccdb-4cd9-850a-d64bf80e45e9",
   "metadata": {},
   "source": [
    "#### Lets see the rating value for different value of feedback "
   ]
  },
  {
   "cell_type": "code",
   "execution_count": 21,
   "id": "cf341fe7-1fef-4fb9-82f9-1830522e9f15",
   "metadata": {},
   "outputs": [
    {
     "data": {
      "text/plain": [
       "rating\n",
       "1    161\n",
       "2     95\n",
       "Name: count, dtype: int64"
      ]
     },
     "execution_count": 21,
     "metadata": {},
     "output_type": "execute_result"
    }
   ],
   "source": [
    "# For feedback 0 rating values \n",
    "data[data['feedback'] == 0]['rating'].value_counts()"
   ]
  },
  {
   "cell_type": "code",
   "execution_count": 22,
   "id": "5f4929b6-520e-47a6-9d5c-3a689da7a9db",
   "metadata": {},
   "outputs": [
    {
     "data": {
      "text/plain": [
       "rating\n",
       "5    2286\n",
       "4     455\n",
       "3     152\n",
       "Name: count, dtype: int64"
      ]
     },
     "execution_count": 22,
     "metadata": {},
     "output_type": "execute_result"
    }
   ],
   "source": [
    "# feedback 1 rating values are \n",
    "data[data['feedback'] == 1]['rating'].value_counts()"
   ]
  },
  {
   "cell_type": "markdown",
   "id": "6e2daa7f-3dc2-4c1c-9762-c6d54b85699a",
   "metadata": {},
   "source": [
    "#### We can see that if `rating` is `1` or `2` then the `feedback` is `0 (Negative Feedback)` and if `rating` values is `3`, `4` and `5` then `feedback` is `1 (Positive Feedback)`"
   ]
  },
  {
   "cell_type": "markdown",
   "id": "1b3df86b-2c93-4066-8216-fb87169c6cbf",
   "metadata": {},
   "source": [
    "#### Analyzing `variation` columns \n",
    "-  #### This columns refers to the `variation` or `type of Amazon Alexa product` Example - `Black Dot`, `Charcoal Fabric`"
   ]
  },
  {
   "cell_type": "code",
   "execution_count": 23,
   "id": "07177572-0b78-4703-a741-eb89ec47d72b",
   "metadata": {},
   "outputs": [
    {
     "data": {
      "text/plain": [
       "array(['Charcoal Fabric ', 'Walnut Finish ', 'Heather Gray Fabric ',\n",
       "       'Sandstone Fabric ', 'Oak Finish ', 'Black', 'White',\n",
       "       'Black  Spot', 'White  Spot', 'Black  Show', 'White  Show',\n",
       "       'Black  Plus', 'White  Plus', 'Configuration: Fire TV Stick',\n",
       "       'Black  Dot', 'White  Dot'], dtype=object)"
      ]
     },
     "execution_count": 23,
     "metadata": {},
     "output_type": "execute_result"
    }
   ],
   "source": [
    "# see the distinct values in variation \n",
    "data['variation'].unique()"
   ]
  },
  {
   "cell_type": "code",
   "execution_count": 24,
   "id": "55905e24-bf56-4aba-9226-b2010db191e7",
   "metadata": {},
   "outputs": [
    {
     "data": {
      "text/plain": [
       "variation\n",
       "Black  Dot                      516\n",
       "Charcoal Fabric                 430\n",
       "Configuration: Fire TV Stick    350\n",
       "Black  Plus                     270\n",
       "Black  Show                     265\n",
       "Black                           261\n",
       "Black  Spot                     241\n",
       "White  Dot                      184\n",
       "Heather Gray Fabric             157\n",
       "White  Spot                     109\n",
       "Sandstone Fabric                 90\n",
       "White                            90\n",
       "White  Show                      85\n",
       "White  Plus                      78\n",
       "Oak Finish                       14\n",
       "Walnut Finish                     9\n",
       "Name: count, dtype: int64"
      ]
     },
     "execution_count": 24,
     "metadata": {},
     "output_type": "execute_result"
    }
   ],
   "source": [
    "# COunt of the distinct values in variation \n",
    "data['variation'].value_counts()"
   ]
  },
  {
   "cell_type": "code",
   "execution_count": 25,
   "id": "9f01e35b-e104-4233-ba66-927326c1a11a",
   "metadata": {},
   "outputs": [
    {
     "name": "stderr",
     "output_type": "stream",
     "text": [
      "C:\\Users\\vrush\\AppData\\Local\\Temp\\ipykernel_9560\\2911185313.py:2: FutureWarning: \n",
      "\n",
      "Passing `palette` without assigning `hue` is deprecated and will be removed in v0.14.0. Assign the `x` variable to `hue` and set `legend=False` for the same effect.\n",
      "\n",
      "  ax = sns.barplot(data['variation'].value_counts(), palette='rainbow', edgecolor='black')\n"
     ]
    },
    {
     "data": {
      "image/png": "[encoded data removed]",
      "text/plain": [
       "<Figure size 1000x800 with 1 Axes>"
      ]
     },
     "metadata": {},
     "output_type": "display_data"
    }
   ],
   "source": [
    "plt.figure(figsize = (10,8))\n",
    "ax = sns.barplot(data['variation'].value_counts(), palette='rainbow', edgecolor='black')\n",
    "plt.title(\"Distribution of variation\")\n",
    "plt.xlabel(\"Variation\")\n",
    "plt.ylabel(\"Count\")\n",
    "\n",
    "for label in ax.containers:\n",
    "    ax.bar_label(label, fontsize = 14)\n",
    "\n",
    "plt.xticks(rotation = 90)\n",
    "plt.show()"
   ]
  },
  {
   "cell_type": "code",
   "execution_count": 26,
   "id": "9a8f539e-3520-478f-88f1-34deee7bf654",
   "metadata": {},
   "outputs": [
    {
     "data": {
      "text/plain": [
       "variation\n",
       "Black  Dot                      16.39\n",
       "Charcoal Fabric                 13.66\n",
       "Configuration: Fire TV Stick    11.11\n",
       "Black  Plus                      8.57\n",
       "Black  Show                      8.42\n",
       "Black                            8.29\n",
       "Black  Spot                      7.65\n",
       "White  Dot                       5.84\n",
       "Heather Gray Fabric              4.99\n",
       "White  Spot                      3.46\n",
       "Sandstone Fabric                 2.86\n",
       "White                            2.86\n",
       "White  Show                      2.70\n",
       "White  Plus                      2.48\n",
       "Oak Finish                       0.44\n",
       "Walnut Finish                    0.29\n",
       "Name: proportion, dtype: float64"
      ]
     },
     "execution_count": 26,
     "metadata": {},
     "output_type": "execute_result"
    }
   ],
   "source": [
    "# see the percentage distribution of the variation\n",
    "round(data['variation'].value_counts(normalize = True) * 100,2)"
   ]
  },
  {
   "cell_type": "markdown",
   "id": "6839d032-8f43-4de1-a193-5a3874412820",
   "metadata": {},
   "source": [
    "### Mean rating by variation"
   ]
  },
  {
   "cell_type": "code",
   "execution_count": 27,
   "id": "0e73da08-d9e3-4836-994e-02cfcd2f7413",
   "metadata": {},
   "outputs": [
    {
     "data": {
      "text/plain": [
       "variation\n",
       "Black                           4.23\n",
       "Black  Dot                      4.45\n",
       "Black  Plus                     4.37\n",
       "Black  Show                     4.49\n",
       "Black  Spot                     4.31\n",
       "Charcoal Fabric                 4.73\n",
       "Configuration: Fire TV Stick    4.59\n",
       "Heather Gray Fabric             4.69\n",
       "Oak Finish                      4.86\n",
       "Sandstone Fabric                4.36\n",
       "Walnut Finish                   4.89\n",
       "White                           4.17\n",
       "White  Dot                      4.42\n",
       "White  Plus                     4.36\n",
       "White  Show                     4.28\n",
       "White  Spot                     4.31\n",
       "Name: rating, dtype: float64"
      ]
     },
     "execution_count": 27,
     "metadata": {},
     "output_type": "execute_result"
    }
   ],
   "source": [
    "mean_rating_variation = round(data.groupby('variation')['rating'].mean(),2)\n",
    "mean_rating_variation"
   ]
  },
  {
   "cell_type": "code",
   "execution_count": 28,
   "id": "354cef55-76bb-4f39-b90b-9d4ad2f98cc4",
   "metadata": {},
   "outputs": [
    {
     "name": "stderr",
     "output_type": "stream",
     "text": [
      "C:\\Users\\vrush\\AppData\\Local\\Temp\\ipykernel_9560\\2234963156.py:2: FutureWarning: \n",
      "\n",
      "Passing `palette` without assigning `hue` is deprecated and will be removed in v0.14.0. Assign the `x` variable to `hue` and set `legend=False` for the same effect.\n",
      "\n",
      "  ax = sns.barplot(mean_rating_variation.sort_values(), palette='rainbow', edgecolor='black')\n"
     ]
    },
    {
     "data": {
      "image/png": "[encoded data removed]",
      "text/plain": [
       "<Figure size 1000x800 with 1 Axes>"
      ]
     },
     "metadata": {},
     "output_type": "display_data"
    }
   ],
   "source": [
    "plt.figure(figsize=(10,8))\n",
    "ax = sns.barplot(mean_rating_variation.sort_values(), palette='rainbow', edgecolor='black')\n",
    "plt.title(\"Average(Mean) rating by variation\")\n",
    "plt.xlabel(\"variation\")\n",
    "plt.ylabel(\"Average Rating\")\n",
    "plt.xticks(rotation=90)\n",
    "\n",
    "for label in ax.containers:\n",
    "    ax.bar_label(label)\n",
    "plt.show()"
   ]
  },
  {
   "cell_type": "markdown",
   "id": "e90ccb96-7526-444d-9aef-4dcd2feeb83b",
   "metadata": {},
   "source": [
    "#### Analyzing `verified_reviews` column"
   ]
  },
  {
   "cell_type": "code",
   "execution_count": 29,
   "id": "7aca266f-f2f6-4724-b054-468eab45ecd1",
   "metadata": {},
   "outputs": [
    {
     "name": "stdout",
     "output_type": "stream",
     "text": [
      "Number of Unique Verified Reviews : 2300\n"
     ]
    }
   ],
   "source": [
    "print(\"Number of Unique Verified Reviews :\",len(data.verified_reviews.unique()))"
   ]
  },
  {
   "cell_type": "code",
   "execution_count": 30,
   "id": "6d5a694c-70e4-45e5-8477-49a328648000",
   "metadata": {},
   "outputs": [
    {
     "data": {
      "text/plain": [
       "count    3149.000000\n",
       "mean      132.090187\n",
       "std       182.114569\n",
       "min         1.000000\n",
       "25%        30.000000\n",
       "50%        74.000000\n",
       "75%       165.000000\n",
       "max      2851.000000\n",
       "Name: length, dtype: float64"
      ]
     },
     "execution_count": 30,
     "metadata": {},
     "output_type": "execute_result"
    }
   ],
   "source": [
    "data['length'].describe()"
   ]
  },
  {
   "cell_type": "code",
   "execution_count": 31,
   "id": "c9316471-7564-474b-aff5-bd1f06a838bf",
   "metadata": {},
   "outputs": [
    {
     "data": {
      "image/png": "[encoded data removed]",
      "text/plain": [
       "<Figure size 800x500 with 1 Axes>"
      ]
     },
     "metadata": {},
     "output_type": "display_data"
    }
   ],
   "source": [
    "plt.figure(figsize=(8,5))\n",
    "sns.histplot(data['length'], color='red', bins=30, kde=False, alpha=0.6)\n",
    "plt.title('Distribution of Length of Reviews')\n",
    "plt.xlabel('Review Length')\n",
    "plt.ylabel('Frequency')\n",
    "plt.show()"
   ]
  },
  {
   "cell_type": "markdown",
   "id": "146b7e29-3b8d-41d6-99d8-d74057362f7c",
   "metadata": {},
   "source": [
    "#### Analysis of length when feedback is 0(Negative)"
   ]
  },
  {
   "cell_type": "code",
   "execution_count": 32,
   "id": "354c5e3c-51a5-4ab2-8e95-dedab8bd958c",
   "metadata": {},
   "outputs": [
    {
     "data": {
      "text/plain": [
       "46      163\n",
       "111      53\n",
       "141      18\n",
       "162      87\n",
       "176      20\n",
       "       ... \n",
       "3047    120\n",
       "3048     37\n",
       "3067    240\n",
       "3091     17\n",
       "3096    210\n",
       "Name: length, Length: 256, dtype: int64"
      ]
     },
     "execution_count": 32,
     "metadata": {},
     "output_type": "execute_result"
    }
   ],
   "source": [
    "feedback_0 = data[data['feedback'] == 0]['length']\n",
    "feedback_0"
   ]
  },
  {
   "cell_type": "code",
   "execution_count": 33,
   "id": "b7595dfd-e17f-4cda-96ab-e273716f0f6e",
   "metadata": {},
   "outputs": [
    {
     "data": {
      "image/png": "[encoded data removed]",
      "text/plain": [
       "<Figure size 1500x600 with 1 Axes>"
      ]
     },
     "metadata": {},
     "output_type": "display_data"
    }
   ],
   "source": [
    "plt.figure(figsize =(15,6))\n",
    "sns.histplot(feedback_0, color = 'red', bins = 30, kde=True)\n",
    "plt.title('Distrinution of length of review if feedback = 0(Negative Feedback)', fontsize = 14)\n",
    "plt.xlabel(\"Length\", fontsize = 15)\n",
    "plt.ylabel(\"Count\", fontsize = 15)\n",
    "plt.xticks(fontsize = 15)\n",
    "plt.yticks(fontsize = 15)\n",
    "plt.show()"
   ]
  },
  {
   "cell_type": "markdown",
   "id": "d4a8b6e5-0abc-4307-94bf-ecec0e46992a",
   "metadata": {},
   "source": [
    "#### Length of review when feed back is 1 (Positive Feedback)"
   ]
  },
  {
   "cell_type": "code",
   "execution_count": 34,
   "id": "25c2d3bc-4a31-4662-b604-602a00028c60",
   "metadata": {},
   "outputs": [
    {
     "data": {
      "text/plain": [
       "0        13\n",
       "1         9\n",
       "2       195\n",
       "3       172\n",
       "4         5\n",
       "       ... \n",
       "3145     50\n",
       "3146    135\n",
       "3147    441\n",
       "3148    380\n",
       "3149      4\n",
       "Name: length, Length: 2893, dtype: int64"
      ]
     },
     "execution_count": 34,
     "metadata": {},
     "output_type": "execute_result"
    }
   ],
   "source": [
    "feedback_1 = data[data['feedback']== 1]['length']\n",
    "feedback_1"
   ]
  },
  {
   "cell_type": "code",
   "execution_count": 35,
   "id": "2ba7d384-e54e-43bc-8343-c7853b9507ae",
   "metadata": {},
   "outputs": [
    {
     "data": {
      "image/png": "[encoded data removed]",
      "text/plain": [
       "<Figure size 1500x600 with 1 Axes>"
      ]
     },
     "metadata": {},
     "output_type": "display_data"
    }
   ],
   "source": [
    "plt.figure(figsize =(15,6))\n",
    "sns.histplot(feedback_1, color = 'red', bins = 50, kde = True)\n",
    "plt.title(\"Distribution of length of review for feedback = 1(Positive Feedback)\",  fontsize = 14)\n",
    "plt.xlabel(\"Length\", fontsize = 15)\n",
    "plt.ylabel(\"Count\", fontsize = 15)\n",
    "plt.xticks(fontsize = 15)\n",
    "plt.yticks(fontsize = 15)\n",
    "plt.show()"
   ]
  },
  {
   "cell_type": "code",
   "execution_count": 36,
   "id": "bfe16e3d-2b48-4ae6-8d0e-61c646c5b329",
   "metadata": {},
   "outputs": [
    {
     "data": {
      "text/plain": [
       "length\n",
       "1       3.716049\n",
       "2       5.000000\n",
       "3       4.000000\n",
       "4       4.785714\n",
       "5       4.823529\n",
       "          ...   \n",
       "1686    2.000000\n",
       "1833    3.000000\n",
       "1954    3.000000\n",
       "2393    5.000000\n",
       "2851    5.000000\n",
       "Name: rating, Length: 490, dtype: float64"
      ]
     },
     "execution_count": 36,
     "metadata": {},
     "output_type": "execute_result"
    }
   ],
   "source": [
    "avg_rating_by_review_length = data.groupby('length')['rating'].mean()\n",
    "avg_rating_by_review_length"
   ]
  },
  {
   "cell_type": "code",
   "execution_count": 37,
   "id": "f9f0721f-4d16-4988-b824-0b2b01b06653",
   "metadata": {},
   "outputs": [
    {
     "data": {
      "image/png": "[encoded data removed]",
      "text/plain": [
       "<Figure size 1500x600 with 1 Axes>"
      ]
     },
     "metadata": {},
     "output_type": "display_data"
    }
   ],
   "source": [
    "plt.figure(figsize =(15,6))\n",
    "sns.histplot(avg_rating_by_review_length, color = 'red', bins = 50, kde = True)\n",
    "plt.title(\"Average(mean) rating by length of review\",  fontsize = 16)\n",
    "plt.xlabel(\"Length\", fontsize = 15)\n",
    "plt.ylabel(\"Count\", fontsize = 15)\n",
    "plt.xticks(fontsize = 15)\n",
    "plt.yticks(fontsize = 15)\n",
    "plt.show()"
   ]
  },
  {
   "cell_type": "markdown",
   "id": "194dceba-f0d5-47e4-87c3-68bc853c0314",
   "metadata": {},
   "source": [
    "## Preprocessing and Modelling\n",
    "\n",
    "To build the corpus from the `verified_reviews` we perform the following\n",
    "- 1.Replace any no alphabhate character with space\n",
    "- 2.Convert to lower case and split into words\n",
    "- 3.Iterate over the individual words and if it os not a stopword then add the stemmed form of the word to the corpus"
   ]
  },
  {
   "cell_type": "code",
   "execution_count": 38,
   "id": "5b351c08-5bff-4c52-b231-f6d356fa3014",
   "metadata": {},
   "outputs": [],
   "source": [
    "from sklearn.feature_extraction.text import TfidfVectorizer\n",
    "\n",
    "corpus = []\n",
    "stemmer = PorterStemmer()\n",
    "stopword = set(stopwords.words('english'))\n",
    "\n",
    "for i in range(data.shape[0]):\n",
    "    review = re.sub('[^a-zA-Z]', ' ', data.iloc[i]['verified_reviews'])\n",
    "    review = review.lower().split()\n",
    "    review = [stemmer.stem(word) for word in review if word not in stopword]\n",
    "    review = ' '.join(review)\n",
    "    corpus.append(review)"
   ]
  },
  {
   "cell_type": "code",
   "execution_count": 39,
   "id": "8a73760b-e0af-4c3f-b764-66e8eb35af2f",
   "metadata": {},
   "outputs": [
    {
     "data": {
      "text/plain": [
       "'love'"
      ]
     },
     "execution_count": 39,
     "metadata": {},
     "output_type": "execute_result"
    }
   ],
   "source": [
    "corpus[1]"
   ]
  },
  {
   "cell_type": "markdown",
   "id": "d354490b-ce2c-44e4-8a68-c551282621a6",
   "metadata": {},
   "source": [
    "#### Use `TF-IDF (Term Frequesncy - Inverse Document Frequency)`"
   ]
  },
  {
   "cell_type": "code",
   "execution_count": 40,
   "id": "c30b1d37-d3ce-4655-af13-0c30799540b4",
   "metadata": {},
   "outputs": [],
   "source": [
    "tfidf = TfidfVectorizer(max_features=2500)\n",
    "X = tfidf.fit_transform(corpus).toarray()\n",
    "y = data['feedback'].values"
   ]
  },
  {
   "cell_type": "code",
   "execution_count": 41,
   "id": "6f1860b5-f006-42f5-82d7-ebb71ec28957",
   "metadata": {},
   "outputs": [
    {
     "data": {
      "text/plain": [
       "(3149, 2500)"
      ]
     },
     "execution_count": 41,
     "metadata": {},
     "output_type": "execute_result"
    }
   ],
   "source": [
    "X.shape"
   ]
  },
  {
   "cell_type": "code",
   "execution_count": 42,
   "id": "075bc99c-0209-403c-b77d-102d8889f121",
   "metadata": {},
   "outputs": [
    {
     "data": {
      "text/plain": [
       "(3149,)"
      ]
     },
     "execution_count": 42,
     "metadata": {},
     "output_type": "execute_result"
    }
   ],
   "source": [
    "y.shape"
   ]
  },
  {
   "cell_type": "code",
   "execution_count": 43,
   "id": "b4795c1f-73e2-48a4-8282-60c6d3a94e66",
   "metadata": {},
   "outputs": [],
   "source": [
    "X_train, X_test, y_train, y_test = train_test_split(\n",
    "    X, y, test_size=0.3, random_state=15, stratify=y\n",
    ")"
   ]
  },
  {
   "cell_type": "code",
   "execution_count": 44,
   "id": "5b1819ef-edd8-4cde-b5c9-949537588332",
   "metadata": {},
   "outputs": [
    {
     "name": "stdout",
     "output_type": "stream",
     "text": [
      "X train shape : (2204, 2500)\n",
      "X test shape : (945, 2500)\n",
      "y train shape : (2204,)\n",
      "y test shape : (945,)\n"
     ]
    }
   ],
   "source": [
    "print(f\"X train shape : {X_train.shape}\")\n",
    "print(f\"X test shape : {X_test.shape}\")\n",
    "print(f\"y train shape : {y_train.shape}\")\n",
    "print(f\"y test shape : {y_test.shape}\")"
   ]
  },
  {
   "cell_type": "markdown",
   "id": "adbb33d5-16cd-4816-ad70-4aebceeb91fd",
   "metadata": {},
   "source": [
    "#### Apply SMOTE to balance the data "
   ]
  },
  {
   "cell_type": "markdown",
   "id": "ffeb2032-e690-49eb-b7d9-03dd8c194bfd",
   "metadata": {},
   "source": [
    "#### We know that our feedback column is highly imbalance thats why we used this "
   ]
  },
  {
   "cell_type": "code",
   "execution_count": 45,
   "id": "466c9b62-691d-40ea-bbc3-b035af163c13",
   "metadata": {},
   "outputs": [],
   "source": [
    "from imblearn.over_sampling import SMOTE\n",
    "sm = SMOTE(random_state=42)\n",
    "X_train_res, y_train_res = sm.fit_resample(X_train, y_train)"
   ]
  },
  {
   "cell_type": "code",
   "execution_count": 46,
   "id": "208b43ea-79ea-4431-8f3f-202db69f9f01",
   "metadata": {},
   "outputs": [
    {
     "name": "stdout",
     "output_type": "stream",
     "text": [
      "Shape of the Data After Sampling\n",
      "X train shape : (4050, 2500)\n",
      "X test shape : (945, 2500)\n",
      "y train shape : (4050,)\n",
      "y test shape : (945,)\n"
     ]
    }
   ],
   "source": [
    "print(\"Shape of the Data After Sampling\")\n",
    "print(f\"X train shape : {X_train_res.shape}\")\n",
    "print(f\"X test shape : {X_test.shape}\")\n",
    "print(f\"y train shape : {y_train_res.shape}\")\n",
    "print(f\"y test shape : {y_test.shape}\")"
   ]
  },
  {
   "cell_type": "markdown",
   "id": "24f21953-1e41-4090-aff7-69bfc7db1069",
   "metadata": {},
   "source": [
    "#### Train data with different models"
   ]
  },
  {
   "cell_type": "code",
   "execution_count": 47,
   "id": "1040adde-5ec3-4022-8df1-11f29baff4ca",
   "metadata": {},
   "outputs": [],
   "source": [
    "models = {\n",
    "    \"Decision Tree\": DecisionTreeClassifier(random_state=42),\n",
    "    \"Random Forest\": RandomForestClassifier(class_weight=\"balanced\", random_state=42),\n",
    "    \"XGBoost\": XGBClassifier(use_label_encoder=False, eval_metric=\"logloss\", random_state=42)\n",
    "}"
   ]
  },
  {
   "cell_type": "code",
   "execution_count": 48,
   "id": "c0d03219-e84e-458b-952a-bc1a03d13d6c",
   "metadata": {},
   "outputs": [
    {
     "name": "stdout",
     "output_type": "stream",
     "text": [
      "\n",
      "🔹 Training Decision Tree...\n",
      "\n",
      "Classification Report for Decision Tree:\n",
      "\n",
      "              precision    recall  f1-score   support\n",
      "\n",
      "           0     0.3672    0.6104    0.4585        77\n",
      "           1     0.9633    0.9067    0.9341       868\n",
      "\n",
      "    accuracy                         0.8825       945\n",
      "   macro avg     0.6652    0.7585    0.6963       945\n",
      "weighted avg     0.9147    0.8825    0.8954       945\n",
      "\n",
      "\n",
      "🔹 Training Random Forest...\n",
      "\n",
      "Classification Report for Random Forest:\n",
      "\n",
      "              precision    recall  f1-score   support\n",
      "\n",
      "           0     0.4579    0.6364    0.5326        77\n",
      "           1     0.9666    0.9332    0.9496       868\n",
      "\n",
      "    accuracy                         0.9090       945\n",
      "   macro avg     0.7123    0.7848    0.7411       945\n",
      "weighted avg     0.9251    0.9090    0.9156       945\n",
      "\n",
      "\n",
      "🔹 Training XGBoost...\n"
     ]
    },
    {
     "name": "stderr",
     "output_type": "stream",
     "text": [
      "c:\\Users\\vrush\\AppData\\Local\\Programs\\Python\\Python311\\Lib\\site-packages\\xgboost\\training.py:183: UserWarning: [08:29:53] WARNING: C:\\actions-runner\\_work\\xgboost\\xgboost\\src\\learner.cc:738: \n",
      "Parameters: { \"use_label_encoder\" } are not used.\n",
      "\n",
      "  bst.update(dtrain, iteration=i, fobj=obj)\n"
     ]
    },
    {
     "name": "stdout",
     "output_type": "stream",
     "text": [
      "\n",
      "Classification Report for XGBoost:\n",
      "\n",
      "              precision    recall  f1-score   support\n",
      "\n",
      "           0     0.3378    0.6494    0.4444        77\n",
      "           1     0.9661    0.8871    0.9249       868\n",
      "\n",
      "    accuracy                         0.8677       945\n",
      "   macro avg     0.6520    0.7682    0.6847       945\n",
      "weighted avg     0.9149    0.8677    0.8858       945\n",
      "\n"
     ]
    }
   ],
   "source": [
    "from sklearn.metrics import classification_report \n",
    "results = {}\n",
    "\n",
    "for name, model in models.items():\n",
    "    print(f\"\\n🔹 Training {name}...\")\n",
    "    model.fit(X_train_res, y_train_res)\n",
    "    y_pred = model.predict(X_test)\n",
    "    \n",
    "    print(f\"\\nClassification Report for {name}:\\n\")\n",
    "    print(classification_report(y_test, y_pred, digits=4))\n",
    "    \n",
    "    # Store class 0 performance\n",
    "    report = classification_report(y_test, y_pred, output_dict=True)\n",
    "    results[name] = {\n",
    "        \"Recall_0\": report['0']['recall'],\n",
    "        \"F1_0\": report['0']['f1-score'],\n",
    "        \"Overall Accuracy\": report['accuracy']\n",
    "    }"
   ]
  },
  {
   "cell_type": "markdown",
   "id": "e5bb9569-5c91-4dcd-b363-f0a730c07238",
   "metadata": {},
   "source": [
    "#### We can see that our Random Forest model perform well than XgBoost and Decision Tree. So i choose an Random Forest Model and perform some hyperparameter tunning"
   ]
  },
  {
   "cell_type": "markdown",
   "id": "ef7add59-ac6a-4e9d-aae9-abb2de37ec5d",
   "metadata": {},
   "source": [
    "### Apply RandonSearchCV"
   ]
  },
  {
   "cell_type": "code",
   "execution_count": 49,
   "id": "143d7941-30a9-4c62-a0c2-cdf28c24b7d3",
   "metadata": {},
   "outputs": [],
   "source": [
    "from sklearn.model_selection import RandomizedSearchCV\n",
    "\n",
    "# Define parameter grid\n",
    "param_dist = {\n",
    "    'n_estimators': [100, 200, 500, 1000],\n",
    "    'max_depth': [None, 10, 20, 30, 50],\n",
    "    'min_samples_split': [2, 5, 10],\n",
    "    'min_samples_leaf': [1, 2, 4],\n",
    "    'max_features': ['sqrt', 'log2'],\n",
    "    'class_weight': [None, 'balanced']\n",
    "}\n",
    "\n",
    "# Define an Model\n",
    "rf = RandomForestClassifier(random_state=42)\n",
    "\n",
    "# Apply Random Search CV\n",
    "# Randomized Search\n",
    "random_search = RandomizedSearchCV(\n",
    "    rf,\n",
    "    param_distributions=param_dist,\n",
    "    n_iter=20,  # number of random combinations to try\n",
    "    cv=3,\n",
    "    scoring='f1_macro',  # macro avg ensures class 0 is weighted equally\n",
    "    n_jobs=-1,\n",
    "    random_state=42\n",
    ")\n"
   ]
  },
  {
   "cell_type": "code",
   "execution_count": 50,
   "id": "fdaa8f80-5a32-4fba-a28a-fbbfa9a2753f",
   "metadata": {},
   "outputs": [
    {
     "name": "stdout",
     "output_type": "stream",
     "text": [
      "Best Parameters: {'n_estimators': 1000, 'min_samples_split': 2, 'min_samples_leaf': 1, 'max_features': 'log2', 'max_depth': None, 'class_weight': None}\n",
      "Best Score: 0.9718340214166935\n"
     ]
    }
   ],
   "source": [
    "# fit the model with training data with somet applied \n",
    "random_search.fit(X_train_res, y_train_res)\n",
    "\n",
    "# Find the Best parameter and Best score \n",
    "print(\"Best Parameters:\", random_search.best_params_)\n",
    "print(\"Best Score:\", random_search.best_score_)"
   ]
  },
  {
   "cell_type": "code",
   "execution_count": 75,
   "id": "4ef09e15-0b30-4e48-a702-9d2b3a5cf3aa",
   "metadata": {},
   "outputs": [],
   "source": [
    "best_rf = random_search.best_estimator_"
   ]
  },
  {
   "cell_type": "code",
   "execution_count": 76,
   "id": "128a44b2-e30c-4773-9cdc-03e1e10da4aa",
   "metadata": {},
   "outputs": [
    {
     "data": {
      "text/html": [
       "<style>#sk-container-id-2 {\n",
       "  /* Definition of color scheme common for light and dark mode */\n",
       "  --sklearn-color-text: #000;\n",
       "  --sklearn-color-text-muted: #666;\n",
       "  --sklearn-color-line: gray;\n",
       "  /* Definition of color scheme for unfitted estimators */\n",
       "  --sklearn-color-unfitted-level-0: #fff5e6;\n",
       "  --sklearn-color-unfitted-level-1: #f6e4d2;\n",
       "  --sklearn-color-unfitted-level-2: #ffe0b3;\n",
       "  --sklearn-color-unfitted-level-3: chocolate;\n",
       "  /* Definition of color scheme for fitted estimators */\n",
       "  --sklearn-color-fitted-level-0: #f0f8ff;\n",
       "  --sklearn-color-fitted-level-1: #d4ebff;\n",
       "  --sklearn-color-fitted-level-2: #b3dbfd;\n",
       "  --sklearn-color-fitted-level-3: cornflowerblue;\n",
       "\n",
       "  /* Specific color for light theme */\n",
       "  --sklearn-color-text-on-default-background: var(--sg-text-color, var(--theme-code-foreground, var(--jp-content-font-color1, black)));\n",
       "  --sklearn-color-background: var(--sg-background-color, var(--theme-background, var(--jp-layout-color0, white)));\n",
       "  --sklearn-color-border-box: var(--sg-text-color, var(--theme-code-foreground, var(--jp-content-font-color1, black)));\n",
       "  --sklearn-color-icon: #696969;\n",
       "\n",
       "  @media (prefers-color-scheme: dark) {\n",
       "    /* Redefinition of color scheme for dark theme */\n",
       "    --sklearn-color-text-on-default-background: var(--sg-text-color, var(--theme-code-foreground, var(--jp-content-font-color1, white)));\n",
       "    --sklearn-color-background: var(--sg-background-color, var(--theme-background, var(--jp-layout-color0, #111)));\n",
       "    --sklearn-color-border-box: var(--sg-text-color, var(--theme-code-foreground, var(--jp-content-font-color1, white)));\n",
       "    --sklearn-color-icon: #878787;\n",
       "  }\n",
       "}\n",
       "\n",
       "#sk-container-id-2 {\n",
       "  color: var(--sklearn-color-text);\n",
       "}\n",
       "\n",
       "#sk-container-id-2 pre {\n",
       "  padding: 0;\n",
       "}\n",
       "\n",
       "#sk-container-id-2 input.sk-hidden--visually {\n",
       "  border: 0;\n",
       "  clip: rect(1px 1px 1px 1px);\n",
       "  clip: rect(1px, 1px, 1px, 1px);\n",
       "  height: 1px;\n",
       "  margin: -1px;\n",
       "  overflow: hidden;\n",
       "  padding: 0;\n",
       "  position: absolute;\n",
       "  width: 1px;\n",
       "}\n",
       "\n",
       "#sk-container-id-2 div.sk-dashed-wrapped {\n",
       "  border: 1px dashed var(--sklearn-color-line);\n",
       "  margin: 0 0.4em 0.5em 0.4em;\n",
       "  box-sizing: border-box;\n",
       "  padding-bottom: 0.4em;\n",
       "  background-color: var(--sklearn-color-background);\n",
       "}\n",
       "\n",
       "#sk-container-id-2 div.sk-container {\n",
       "  /* jupyter's `normalize.less` sets `[hidden] { display: none; }`\n",
       "     but bootstrap.min.css set `[hidden] { display: none !important; }`\n",
       "     so we also need the `!important` here to be able to override the\n",
       "     default hidden behavior on the sphinx rendered scikit-learn.org.\n",
       "     See: https://github.com/scikit-learn/scikit-learn/issues/21755 */\n",
       "  display: inline-block !important;\n",
       "  position: relative;\n",
       "}\n",
       "\n",
       "#sk-container-id-2 div.sk-text-repr-fallback {\n",
       "  display: none;\n",
       "}\n",
       "\n",
       "div.sk-parallel-item,\n",
       "div.sk-serial,\n",
       "div.sk-item {\n",
       "  /* draw centered vertical line to link estimators */\n",
       "  background-image: linear-gradient(var(--sklearn-color-text-on-default-background), var(--sklearn-color-text-on-default-background));\n",
       "  background-size: 2px 100%;\n",
       "  background-repeat: no-repeat;\n",
       "  background-position: center center;\n",
       "}\n",
       "\n",
       "/* Parallel-specific style estimator block */\n",
       "\n",
       "#sk-container-id-2 div.sk-parallel-item::after {\n",
       "  content: \"\";\n",
       "  width: 100%;\n",
       "  border-bottom: 2px solid var(--sklearn-color-text-on-default-background);\n",
       "  flex-grow: 1;\n",
       "}\n",
       "\n",
       "#sk-container-id-2 div.sk-parallel {\n",
       "  display: flex;\n",
       "  align-items: stretch;\n",
       "  justify-content: center;\n",
       "  background-color: var(--sklearn-color-background);\n",
       "  position: relative;\n",
       "}\n",
       "\n",
       "#sk-container-id-2 div.sk-parallel-item {\n",
       "  display: flex;\n",
       "  flex-direction: column;\n",
       "}\n",
       "\n",
       "#sk-container-id-2 div.sk-parallel-item:first-child::after {\n",
       "  align-self: flex-end;\n",
       "  width: 50%;\n",
       "}\n",
       "\n",
       "#sk-container-id-2 div.sk-parallel-item:last-child::after {\n",
       "  align-self: flex-start;\n",
       "  width: 50%;\n",
       "}\n",
       "\n",
       "#sk-container-id-2 div.sk-parallel-item:only-child::after {\n",
       "  width: 0;\n",
       "}\n",
       "\n",
       "/* Serial-specific style estimator block */\n",
       "\n",
       "#sk-container-id-2 div.sk-serial {\n",
       "  display: flex;\n",
       "  flex-direction: column;\n",
       "  align-items: center;\n",
       "  background-color: var(--sklearn-color-background);\n",
       "  padding-right: 1em;\n",
       "  padding-left: 1em;\n",
       "}\n",
       "\n",
       "\n",
       "/* Toggleable style: style used for estimator/Pipeline/ColumnTransformer box that is\n",
       "clickable and can be expanded/collapsed.\n",
       "- Pipeline and ColumnTransformer use this feature and define the default style\n",
       "- Estimators will overwrite some part of the style using the `sk-estimator` class\n",
       "*/\n",
       "\n",
       "/* Pipeline and ColumnTransformer style (default) */\n",
       "\n",
       "#sk-container-id-2 div.sk-toggleable {\n",
       "  /* Default theme specific background. It is overwritten whether we have a\n",
       "  specific estimator or a Pipeline/ColumnTransformer */\n",
       "  background-color: var(--sklearn-color-background);\n",
       "}\n",
       "\n",
       "/* Toggleable label */\n",
       "#sk-container-id-2 label.sk-toggleable__label {\n",
       "  cursor: pointer;\n",
       "  display: flex;\n",
       "  width: 100%;\n",
       "  margin-bottom: 0;\n",
       "  padding: 0.5em;\n",
       "  box-sizing: border-box;\n",
       "  text-align: center;\n",
       "  align-items: start;\n",
       "  justify-content: space-between;\n",
       "  gap: 0.5em;\n",
       "}\n",
       "\n",
       "#sk-container-id-2 label.sk-toggleable__label .caption {\n",
       "  font-size: 0.6rem;\n",
       "  font-weight: lighter;\n",
       "  color: var(--sklearn-color-text-muted);\n",
       "}\n",
       "\n",
       "#sk-container-id-2 label.sk-toggleable__label-arrow:before {\n",
       "  /* Arrow on the left of the label */\n",
       "  content: \"▸\";\n",
       "  float: left;\n",
       "  margin-right: 0.25em;\n",
       "  color: var(--sklearn-color-icon);\n",
       "}\n",
       "\n",
       "#sk-container-id-2 label.sk-toggleable__label-arrow:hover:before {\n",
       "  color: var(--sklearn-color-text);\n",
       "}\n",
       "\n",
       "/* Toggleable content - dropdown */\n",
       "\n",
       "#sk-container-id-2 div.sk-toggleable__content {\n",
       "  display: none;\n",
       "  text-align: left;\n",
       "  /* unfitted */\n",
       "  background-color: var(--sklearn-color-unfitted-level-0);\n",
       "}\n",
       "\n",
       "#sk-container-id-2 div.sk-toggleable__content.fitted {\n",
       "  /* fitted */\n",
       "  background-color: var(--sklearn-color-fitted-level-0);\n",
       "}\n",
       "\n",
       "#sk-container-id-2 div.sk-toggleable__content pre {\n",
       "  margin: 0.2em;\n",
       "  border-radius: 0.25em;\n",
       "  color: var(--sklearn-color-text);\n",
       "  /* unfitted */\n",
       "  background-color: var(--sklearn-color-unfitted-level-0);\n",
       "}\n",
       "\n",
       "#sk-container-id-2 div.sk-toggleable__content.fitted pre {\n",
       "  /* unfitted */\n",
       "  background-color: var(--sklearn-color-fitted-level-0);\n",
       "}\n",
       "\n",
       "#sk-container-id-2 input.sk-toggleable__control:checked~div.sk-toggleable__content {\n",
       "  /* Expand drop-down */\n",
       "  display: block;\n",
       "  width: 100%;\n",
       "  overflow: visible;\n",
       "}\n",
       "\n",
       "#sk-container-id-2 input.sk-toggleable__control:checked~label.sk-toggleable__label-arrow:before {\n",
       "  content: \"▾\";\n",
       "}\n",
       "\n",
       "/* Pipeline/ColumnTransformer-specific style */\n",
       "\n",
       "#sk-container-id-2 div.sk-label input.sk-toggleable__control:checked~label.sk-toggleable__label {\n",
       "  color: var(--sklearn-color-text);\n",
       "  background-color: var(--sklearn-color-unfitted-level-2);\n",
       "}\n",
       "\n",
       "#sk-container-id-2 div.sk-label.fitted input.sk-toggleable__control:checked~label.sk-toggleable__label {\n",
       "  background-color: var(--sklearn-color-fitted-level-2);\n",
       "}\n",
       "\n",
       "/* Estimator-specific style */\n",
       "\n",
       "/* Colorize estimator box */\n",
       "#sk-container-id-2 div.sk-estimator input.sk-toggleable__control:checked~label.sk-toggleable__label {\n",
       "  /* unfitted */\n",
       "  background-color: var(--sklearn-color-unfitted-level-2);\n",
       "}\n",
       "\n",
       "#sk-container-id-2 div.sk-estimator.fitted input.sk-toggleable__control:checked~label.sk-toggleable__label {\n",
       "  /* fitted */\n",
       "  background-color: var(--sklearn-color-fitted-level-2);\n",
       "}\n",
       "\n",
       "#sk-container-id-2 div.sk-label label.sk-toggleable__label,\n",
       "#sk-container-id-2 div.sk-label label {\n",
       "  /* The background is the default theme color */\n",
       "  color: var(--sklearn-color-text-on-default-background);\n",
       "}\n",
       "\n",
       "/* On hover, darken the color of the background */\n",
       "#sk-container-id-2 div.sk-label:hover label.sk-toggleable__label {\n",
       "  color: var(--sklearn-color-text);\n",
       "  background-color: var(--sklearn-color-unfitted-level-2);\n",
       "}\n",
       "\n",
       "/* Label box, darken color on hover, fitted */\n",
       "#sk-container-id-2 div.sk-label.fitted:hover label.sk-toggleable__label.fitted {\n",
       "  color: var(--sklearn-color-text);\n",
       "  background-color: var(--sklearn-color-fitted-level-2);\n",
       "}\n",
       "\n",
       "/* Estimator label */\n",
       "\n",
       "#sk-container-id-2 div.sk-label label {\n",
       "  font-family: monospace;\n",
       "  font-weight: bold;\n",
       "  display: inline-block;\n",
       "  line-height: 1.2em;\n",
       "}\n",
       "\n",
       "#sk-container-id-2 div.sk-label-container {\n",
       "  text-align: center;\n",
       "}\n",
       "\n",
       "/* Estimator-specific */\n",
       "#sk-container-id-2 div.sk-estimator {\n",
       "  font-family: monospace;\n",
       "  border: 1px dotted var(--sklearn-color-border-box);\n",
       "  border-radius: 0.25em;\n",
       "  box-sizing: border-box;\n",
       "  margin-bottom: 0.5em;\n",
       "  /* unfitted */\n",
       "  background-color: var(--sklearn-color-unfitted-level-0);\n",
       "}\n",
       "\n",
       "#sk-container-id-2 div.sk-estimator.fitted {\n",
       "  /* fitted */\n",
       "  background-color: var(--sklearn-color-fitted-level-0);\n",
       "}\n",
       "\n",
       "/* on hover */\n",
       "#sk-container-id-2 div.sk-estimator:hover {\n",
       "  /* unfitted */\n",
       "  background-color: var(--sklearn-color-unfitted-level-2);\n",
       "}\n",
       "\n",
       "#sk-container-id-2 div.sk-estimator.fitted:hover {\n",
       "  /* fitted */\n",
       "  background-color: var(--sklearn-color-fitted-level-2);\n",
       "}\n",
       "\n",
       "/* Specification for estimator info (e.g. \"i\" and \"?\") */\n",
       "\n",
       "/* Common style for \"i\" and \"?\" */\n",
       "\n",
       ".sk-estimator-doc-link,\n",
       "a:link.sk-estimator-doc-link,\n",
       "a:visited.sk-estimator-doc-link {\n",
       "  float: right;\n",
       "  font-size: smaller;\n",
       "  line-height: 1em;\n",
       "  font-family: monospace;\n",
       "  background-color: var(--sklearn-color-background);\n",
       "  border-radius: 1em;\n",
       "  height: 1em;\n",
       "  width: 1em;\n",
       "  text-decoration: none !important;\n",
       "  margin-left: 0.5em;\n",
       "  text-align: center;\n",
       "  /* unfitted */\n",
       "  border: var(--sklearn-color-unfitted-level-1) 1pt solid;\n",
       "  color: var(--sklearn-color-unfitted-level-1);\n",
       "}\n",
       "\n",
       ".sk-estimator-doc-link.fitted,\n",
       "a:link.sk-estimator-doc-link.fitted,\n",
       "a:visited.sk-estimator-doc-link.fitted {\n",
       "  /* fitted */\n",
       "  border: var(--sklearn-color-fitted-level-1) 1pt solid;\n",
       "  color: var(--sklearn-color-fitted-level-1);\n",
       "}\n",
       "\n",
       "/* On hover */\n",
       "div.sk-estimator:hover .sk-estimator-doc-link:hover,\n",
       ".sk-estimator-doc-link:hover,\n",
       "div.sk-label-container:hover .sk-estimator-doc-link:hover,\n",
       ".sk-estimator-doc-link:hover {\n",
       "  /* unfitted */\n",
       "  background-color: var(--sklearn-color-unfitted-level-3);\n",
       "  color: var(--sklearn-color-background);\n",
       "  text-decoration: none;\n",
       "}\n",
       "\n",
       "div.sk-estimator.fitted:hover .sk-estimator-doc-link.fitted:hover,\n",
       ".sk-estimator-doc-link.fitted:hover,\n",
       "div.sk-label-container:hover .sk-estimator-doc-link.fitted:hover,\n",
       ".sk-estimator-doc-link.fitted:hover {\n",
       "  /* fitted */\n",
       "  background-color: var(--sklearn-color-fitted-level-3);\n",
       "  color: var(--sklearn-color-background);\n",
       "  text-decoration: none;\n",
       "}\n",
       "\n",
       "/* Span, style for the box shown on hovering the info icon */\n",
       ".sk-estimator-doc-link span {\n",
       "  display: none;\n",
       "  z-index: 9999;\n",
       "  position: relative;\n",
       "  font-weight: normal;\n",
       "  right: .2ex;\n",
       "  padding: .5ex;\n",
       "  margin: .5ex;\n",
       "  width: min-content;\n",
       "  min-width: 20ex;\n",
       "  max-width: 50ex;\n",
       "  color: var(--sklearn-color-text);\n",
       "  box-shadow: 2pt 2pt 4pt #999;\n",
       "  /* unfitted */\n",
       "  background: var(--sklearn-color-unfitted-level-0);\n",
       "  border: .5pt solid var(--sklearn-color-unfitted-level-3);\n",
       "}\n",
       "\n",
       ".sk-estimator-doc-link.fitted span {\n",
       "  /* fitted */\n",
       "  background: var(--sklearn-color-fitted-level-0);\n",
       "  border: var(--sklearn-color-fitted-level-3);\n",
       "}\n",
       "\n",
       ".sk-estimator-doc-link:hover span {\n",
       "  display: block;\n",
       "}\n",
       "\n",
       "/* \"?\"-specific style due to the `<a>` HTML tag */\n",
       "\n",
       "#sk-container-id-2 a.estimator_doc_link {\n",
       "  float: right;\n",
       "  font-size: 1rem;\n",
       "  line-height: 1em;\n",
       "  font-family: monospace;\n",
       "  background-color: var(--sklearn-color-background);\n",
       "  border-radius: 1rem;\n",
       "  height: 1rem;\n",
       "  width: 1rem;\n",
       "  text-decoration: none;\n",
       "  /* unfitted */\n",
       "  color: var(--sklearn-color-unfitted-level-1);\n",
       "  border: var(--sklearn-color-unfitted-level-1) 1pt solid;\n",
       "}\n",
       "\n",
       "#sk-container-id-2 a.estimator_doc_link.fitted {\n",
       "  /* fitted */\n",
       "  border: var(--sklearn-color-fitted-level-1) 1pt solid;\n",
       "  color: var(--sklearn-color-fitted-level-1);\n",
       "}\n",
       "\n",
       "/* On hover */\n",
       "#sk-container-id-2 a.estimator_doc_link:hover {\n",
       "  /* unfitted */\n",
       "  background-color: var(--sklearn-color-unfitted-level-3);\n",
       "  color: var(--sklearn-color-background);\n",
       "  text-decoration: none;\n",
       "}\n",
       "\n",
       "#sk-container-id-2 a.estimator_doc_link.fitted:hover {\n",
       "  /* fitted */\n",
       "  background-color: var(--sklearn-color-fitted-level-3);\n",
       "}\n",
       "\n",
       ".estimator-table summary {\n",
       "    padding: .5rem;\n",
       "    font-family: monospace;\n",
       "    cursor: pointer;\n",
       "}\n",
       "\n",
       ".estimator-table details[open] {\n",
       "    padding-left: 0.1rem;\n",
       "    padding-right: 0.1rem;\n",
       "    padding-bottom: 0.3rem;\n",
       "}\n",
       "\n",
       ".estimator-table .parameters-table {\n",
       "    margin-left: auto !important;\n",
       "    margin-right: auto !important;\n",
       "}\n",
       "\n",
       ".estimator-table .parameters-table tr:nth-child(odd) {\n",
       "    background-color: #fff;\n",
       "}\n",
       "\n",
       ".estimator-table .parameters-table tr:nth-child(even) {\n",
       "    background-color: #f6f6f6;\n",
       "}\n",
       "\n",
       ".estimator-table .parameters-table tr:hover {\n",
       "    background-color: #e0e0e0;\n",
       "}\n",
       "\n",
       ".estimator-table table td {\n",
       "    border: 1px solid rgba(106, 105, 104, 0.232);\n",
       "}\n",
       "\n",
       ".user-set td {\n",
       "    color:rgb(255, 94, 0);\n",
       "    text-align: left;\n",
       "}\n",
       "\n",
       ".user-set td.value pre {\n",
       "    color:rgb(255, 94, 0) !important;\n",
       "    background-color: transparent !important;\n",
       "}\n",
       "\n",
       ".default td {\n",
       "    color: black;\n",
       "    text-align: left;\n",
       "}\n",
       "\n",
       ".user-set td i,\n",
       ".default td i {\n",
       "    color: black;\n",
       "}\n",
       "\n",
       ".copy-paste-icon {\n",
       "    background-image: url(data:image/svg+xml;base64,PHN2ZyB4bWxucz0iaHR0cDovL3d3dy53My5vcmcvMjAwMC9zdmciIHZpZXdCb3g9IjAgMCA0NDggNTEyIj48IS0tIUZvbnQgQXdlc29tZSBGcmVlIDYuNy4yIGJ5IEBmb250YXdlc29tZSAtIGh0dHBzOi8vZm9udGF3ZXNvbWUuY29tIExpY2Vuc2UgLSBodHRwczovL2ZvbnRhd2Vzb21lLmNvbS9saWNlbnNlL2ZyZWUgQ29weXJpZ2h0IDIwMjUgRm9udGljb25zLCBJbmMuLS0+PHBhdGggZD0iTTIwOCAwTDMzMi4xIDBjMTIuNyAwIDI0LjkgNS4xIDMzLjkgMTQuMWw2Ny45IDY3LjljOSA5IDE0LjEgMjEuMiAxNC4xIDMzLjlMNDQ4IDMzNmMwIDI2LjUtMjEuNSA0OC00OCA0OGwtMTkyIDBjLTI2LjUgMC00OC0yMS41LTQ4LTQ4bDAtMjg4YzAtMjYuNSAyMS41LTQ4IDQ4LTQ4ek00OCAxMjhsODAgMCAwIDY0LTY0IDAgMCAyNTYgMTkyIDAgMC0zMiA2NCAwIDAgNDhjMCAyNi41LTIxLjUgNDgtNDggNDhMNDggNTEyYy0yNi41IDAtNDgtMjEuNS00OC00OEwwIDE3NmMwLTI2LjUgMjEuNS00OCA0OC00OHoiLz48L3N2Zz4=);\n",
       "    background-repeat: no-repeat;\n",
       "    background-size: 14px 14px;\n",
       "    background-position: 0;\n",
       "    display: inline-block;\n",
       "    width: 14px;\n",
       "    height: 14px;\n",
       "    cursor: pointer;\n",
       "}\n",
       "</style><body><div id=\"sk-container-id-2\" class=\"sk-top-container\"><div class=\"sk-text-repr-fallback\"><pre>RandomForestClassifier(max_features=&#x27;log2&#x27;, n_estimators=1000, n_jobs=-1,\n",
       "                       random_state=42)</pre><b>In a Jupyter environment, please rerun this cell to show the HTML representation or trust the notebook. <br />On GitHub, the HTML representation is unable to render, please try loading this page with nbviewer.org.</b></div><div class=\"sk-container\" hidden><div class=\"sk-item\"><div class=\"sk-estimator fitted sk-toggleable\"><input class=\"sk-toggleable__control sk-hidden--visually\" id=\"sk-estimator-id-2\" type=\"checkbox\" checked><label for=\"sk-estimator-id-2\" class=\"sk-toggleable__label fitted sk-toggleable__label-arrow\"><div><div>RandomForestClassifier</div></div><div><a class=\"sk-estimator-doc-link fitted\" rel=\"noreferrer\" target=\"_blank\" href=\"https://scikit-learn.org/1.7/modules/generated/sklearn.ensemble.RandomForestClassifier.html\">?<span>Documentation for RandomForestClassifier</span></a><span class=\"sk-estimator-doc-link fitted\">i<span>Fitted</span></span></div></label><div class=\"sk-toggleable__content fitted\" data-param-prefix=\"\">\n",
       "        <div class=\"estimator-table\">\n",
       "            <details>\n",
       "                <summary>Parameters</summary>\n",
       "                <table class=\"parameters-table\">\n",
       "                  <tbody>\n",
       "                    \n",
       "        <tr class=\"user-set\">\n",
       "            <td><i class=\"copy-paste-icon\"\n",
       "                 onclick=\"copyToClipboard('n_estimators',\n",
       "                          this.parentElement.nextElementSibling)\"\n",
       "            ></i></td>\n",
       "            <td class=\"param\">n_estimators&nbsp;</td>\n",
       "            <td class=\"value\">1000</td>\n",
       "        </tr>\n",
       "    \n",
       "\n",
       "        <tr class=\"default\">\n",
       "            <td><i class=\"copy-paste-icon\"\n",
       "                 onclick=\"copyToClipboard('criterion',\n",
       "                          this.parentElement.nextElementSibling)\"\n",
       "            ></i></td>\n",
       "            <td class=\"param\">criterion&nbsp;</td>\n",
       "            <td class=\"value\">&#x27;gini&#x27;</td>\n",
       "        </tr>\n",
       "    \n",
       "\n",
       "        <tr class=\"default\">\n",
       "            <td><i class=\"copy-paste-icon\"\n",
       "                 onclick=\"copyToClipboard('max_depth',\n",
       "                          this.parentElement.nextElementSibling)\"\n",
       "            ></i></td>\n",
       "            <td class=\"param\">max_depth&nbsp;</td>\n",
       "            <td class=\"value\">None</td>\n",
       "        </tr>\n",
       "    \n",
       "\n",
       "        <tr class=\"default\">\n",
       "            <td><i class=\"copy-paste-icon\"\n",
       "                 onclick=\"copyToClipboard('min_samples_split',\n",
       "                          this.parentElement.nextElementSibling)\"\n",
       "            ></i></td>\n",
       "            <td class=\"param\">min_samples_split&nbsp;</td>\n",
       "            <td class=\"value\">2</td>\n",
       "        </tr>\n",
       "    \n",
       "\n",
       "        <tr class=\"default\">\n",
       "            <td><i class=\"copy-paste-icon\"\n",
       "                 onclick=\"copyToClipboard('min_samples_leaf',\n",
       "                          this.parentElement.nextElementSibling)\"\n",
       "            ></i></td>\n",
       "            <td class=\"param\">min_samples_leaf&nbsp;</td>\n",
       "            <td class=\"value\">1</td>\n",
       "        </tr>\n",
       "    \n",
       "\n",
       "        <tr class=\"default\">\n",
       "            <td><i class=\"copy-paste-icon\"\n",
       "                 onclick=\"copyToClipboard('min_weight_fraction_leaf',\n",
       "                          this.parentElement.nextElementSibling)\"\n",
       "            ></i></td>\n",
       "            <td class=\"param\">min_weight_fraction_leaf&nbsp;</td>\n",
       "            <td class=\"value\">0.0</td>\n",
       "        </tr>\n",
       "    \n",
       "\n",
       "        <tr class=\"user-set\">\n",
       "            <td><i class=\"copy-paste-icon\"\n",
       "                 onclick=\"copyToClipboard('max_features',\n",
       "                          this.parentElement.nextElementSibling)\"\n",
       "            ></i></td>\n",
       "            <td class=\"param\">max_features&nbsp;</td>\n",
       "            <td class=\"value\">&#x27;log2&#x27;</td>\n",
       "        </tr>\n",
       "    \n",
       "\n",
       "        <tr class=\"default\">\n",
       "            <td><i class=\"copy-paste-icon\"\n",
       "                 onclick=\"copyToClipboard('max_leaf_nodes',\n",
       "                          this.parentElement.nextElementSibling)\"\n",
       "            ></i></td>\n",
       "            <td class=\"param\">max_leaf_nodes&nbsp;</td>\n",
       "            <td class=\"value\">None</td>\n",
       "        </tr>\n",
       "    \n",
       "\n",
       "        <tr class=\"default\">\n",
       "            <td><i class=\"copy-paste-icon\"\n",
       "                 onclick=\"copyToClipboard('min_impurity_decrease',\n",
       "                          this.parentElement.nextElementSibling)\"\n",
       "            ></i></td>\n",
       "            <td class=\"param\">min_impurity_decrease&nbsp;</td>\n",
       "            <td class=\"value\">0.0</td>\n",
       "        </tr>\n",
       "    \n",
       "\n",
       "        <tr class=\"default\">\n",
       "            <td><i class=\"copy-paste-icon\"\n",
       "                 onclick=\"copyToClipboard('bootstrap',\n",
       "                          this.parentElement.nextElementSibling)\"\n",
       "            ></i></td>\n",
       "            <td class=\"param\">bootstrap&nbsp;</td>\n",
       "            <td class=\"value\">True</td>\n",
       "        </tr>\n",
       "    \n",
       "\n",
       "        <tr class=\"default\">\n",
       "            <td><i class=\"copy-paste-icon\"\n",
       "                 onclick=\"copyToClipboard('oob_score',\n",
       "                          this.parentElement.nextElementSibling)\"\n",
       "            ></i></td>\n",
       "            <td class=\"param\">oob_score&nbsp;</td>\n",
       "            <td class=\"value\">False</td>\n",
       "        </tr>\n",
       "    \n",
       "\n",
       "        <tr class=\"user-set\">\n",
       "            <td><i class=\"copy-paste-icon\"\n",
       "                 onclick=\"copyToClipboard('n_jobs',\n",
       "                          this.parentElement.nextElementSibling)\"\n",
       "            ></i></td>\n",
       "            <td class=\"param\">n_jobs&nbsp;</td>\n",
       "            <td class=\"value\">-1</td>\n",
       "        </tr>\n",
       "    \n",
       "\n",
       "        <tr class=\"user-set\">\n",
       "            <td><i class=\"copy-paste-icon\"\n",
       "                 onclick=\"copyToClipboard('random_state',\n",
       "                          this.parentElement.nextElementSibling)\"\n",
       "            ></i></td>\n",
       "            <td class=\"param\">random_state&nbsp;</td>\n",
       "            <td class=\"value\">42</td>\n",
       "        </tr>\n",
       "    \n",
       "\n",
       "        <tr class=\"default\">\n",
       "            <td><i class=\"copy-paste-icon\"\n",
       "                 onclick=\"copyToClipboard('verbose',\n",
       "                          this.parentElement.nextElementSibling)\"\n",
       "            ></i></td>\n",
       "            <td class=\"param\">verbose&nbsp;</td>\n",
       "            <td class=\"value\">0</td>\n",
       "        </tr>\n",
       "    \n",
       "\n",
       "        <tr class=\"default\">\n",
       "            <td><i class=\"copy-paste-icon\"\n",
       "                 onclick=\"copyToClipboard('warm_start',\n",
       "                          this.parentElement.nextElementSibling)\"\n",
       "            ></i></td>\n",
       "            <td class=\"param\">warm_start&nbsp;</td>\n",
       "            <td class=\"value\">False</td>\n",
       "        </tr>\n",
       "    \n",
       "\n",
       "        <tr class=\"default\">\n",
       "            <td><i class=\"copy-paste-icon\"\n",
       "                 onclick=\"copyToClipboard('class_weight',\n",
       "                          this.parentElement.nextElementSibling)\"\n",
       "            ></i></td>\n",
       "            <td class=\"param\">class_weight&nbsp;</td>\n",
       "            <td class=\"value\">None</td>\n",
       "        </tr>\n",
       "    \n",
       "\n",
       "        <tr class=\"default\">\n",
       "            <td><i class=\"copy-paste-icon\"\n",
       "                 onclick=\"copyToClipboard('ccp_alpha',\n",
       "                          this.parentElement.nextElementSibling)\"\n",
       "            ></i></td>\n",
       "            <td class=\"param\">ccp_alpha&nbsp;</td>\n",
       "            <td class=\"value\">0.0</td>\n",
       "        </tr>\n",
       "    \n",
       "\n",
       "        <tr class=\"default\">\n",
       "            <td><i class=\"copy-paste-icon\"\n",
       "                 onclick=\"copyToClipboard('max_samples',\n",
       "                          this.parentElement.nextElementSibling)\"\n",
       "            ></i></td>\n",
       "            <td class=\"param\">max_samples&nbsp;</td>\n",
       "            <td class=\"value\">None</td>\n",
       "        </tr>\n",
       "    \n",
       "\n",
       "        <tr class=\"default\">\n",
       "            <td><i class=\"copy-paste-icon\"\n",
       "                 onclick=\"copyToClipboard('monotonic_cst',\n",
       "                          this.parentElement.nextElementSibling)\"\n",
       "            ></i></td>\n",
       "            <td class=\"param\">monotonic_cst&nbsp;</td>\n",
       "            <td class=\"value\">None</td>\n",
       "        </tr>\n",
       "    \n",
       "                  </tbody>\n",
       "                </table>\n",
       "            </details>\n",
       "        </div>\n",
       "    </div></div></div></div></div><script>function copyToClipboard(text, element) {\n",
       "    // Get the parameter prefix from the closest toggleable content\n",
       "    const toggleableContent = element.closest('.sk-toggleable__content');\n",
       "    const paramPrefix = toggleableContent ? toggleableContent.dataset.paramPrefix : '';\n",
       "    const fullParamName = paramPrefix ? `${paramPrefix}${text}` : text;\n",
       "\n",
       "    const originalStyle = element.style;\n",
       "    const computedStyle = window.getComputedStyle(element);\n",
       "    const originalWidth = computedStyle.width;\n",
       "    const originalHTML = element.innerHTML.replace('Copied!', '');\n",
       "\n",
       "    navigator.clipboard.writeText(fullParamName)\n",
       "        .then(() => {\n",
       "            element.style.width = originalWidth;\n",
       "            element.style.color = 'green';\n",
       "            element.innerHTML = \"Copied!\";\n",
       "\n",
       "            setTimeout(() => {\n",
       "                element.innerHTML = originalHTML;\n",
       "                element.style = originalStyle;\n",
       "            }, 2000);\n",
       "        })\n",
       "        .catch(err => {\n",
       "            console.error('Failed to copy:', err);\n",
       "            element.style.color = 'red';\n",
       "            element.innerHTML = \"Failed!\";\n",
       "            setTimeout(() => {\n",
       "                element.innerHTML = originalHTML;\n",
       "                element.style = originalStyle;\n",
       "            }, 2000);\n",
       "        });\n",
       "    return false;\n",
       "}\n",
       "\n",
       "document.querySelectorAll('.fa-regular.fa-copy').forEach(function(element) {\n",
       "    const toggleableContent = element.closest('.sk-toggleable__content');\n",
       "    const paramPrefix = toggleableContent ? toggleableContent.dataset.paramPrefix : '';\n",
       "    const paramName = element.parentElement.nextElementSibling.textContent.trim();\n",
       "    const fullParamName = paramPrefix ? `${paramPrefix}${paramName}` : paramName;\n",
       "\n",
       "    element.setAttribute('title', fullParamName);\n",
       "});\n",
       "</script></body>"
      ],
      "text/plain": [
       "RandomForestClassifier(max_features='log2', n_estimators=1000, n_jobs=-1,\n",
       "                       random_state=42)"
      ]
     },
     "execution_count": 76,
     "metadata": {},
     "output_type": "execute_result"
    }
   ],
   "source": [
    "best_rf = RandomForestClassifier(\n",
    "    n_estimators=1000,\n",
    "    max_depth=None,\n",
    "    min_samples_split=2,\n",
    "    min_samples_leaf=1,\n",
    "    max_features='log2',\n",
    "    class_weight=None,\n",
    "    random_state=42,\n",
    "    n_jobs=-1\n",
    ")\n",
    "\n",
    "best_rf.fit(X_train_res, y_train_res)"
   ]
  },
  {
   "cell_type": "code",
   "execution_count": 79,
   "id": "32b9932a-fcee-4646-a45d-6979ddc69b0c",
   "metadata": {},
   "outputs": [
    {
     "data": {
      "text/plain": [
       "array([1, 1, 1, 1, 1, 1, 1, 1, 1, 1], dtype=int64)"
      ]
     },
     "execution_count": 79,
     "metadata": {},
     "output_type": "execute_result"
    }
   ],
   "source": [
    "y_pred = best_rf.predict(X_test)\n",
    "y_pred[:10]"
   ]
  },
  {
   "cell_type": "code",
   "execution_count": 80,
   "id": "0349aceb-7d10-4ebb-8332-6dd43090754c",
   "metadata": {},
   "outputs": [
    {
     "name": "stdout",
     "output_type": "stream",
     "text": [
      "Classification Report :\n",
      "               precision    recall  f1-score   support\n",
      "\n",
      "           0     0.5135    0.4935    0.5033        77\n",
      "           1     0.9552    0.9585    0.9569       868\n",
      "\n",
      "    accuracy                         0.9206       945\n",
      "   macro avg     0.7344    0.7260    0.7301       945\n",
      "weighted avg     0.9192    0.9206    0.9199       945\n",
      "\n",
      "Confusion Matrix :\n",
      " [[ 38  39]\n",
      " [ 36 832]]\n"
     ]
    }
   ],
   "source": [
    "report = classification_report(y_test, y_pred, digits=4)\n",
    "cm = confusion_matrix(y_test, y_pred)\n",
    "\n",
    "print(\"Classification Report :\\n\",report)\n",
    "print(\"Confusion Matrix :\\n\",cm)\n"
   ]
  },
  {
   "cell_type": "code",
   "execution_count": 92,
   "id": "41a8e7db-fd9a-46ed-9c23-e924a8181bbd",
   "metadata": {},
   "outputs": [
    {
     "data": {
      "image/png": "[encoded data removed]",
      "text/plain": [
       "<Figure size 640x480 with 2 Axes>"
      ]
     },
     "metadata": {},
     "output_type": "display_data"
    }
   ],
   "source": [
    "cm_display = ConfusionMatrixDisplay(confusion_matrix=cm,display_labels=best_rf.classes_)\n",
    "cm_display.plot()\n",
    "plt.show()"
   ]
  },
  {
   "cell_type": "code",
   "execution_count": 102,
   "id": "03cd94bd-ae6f-4645-bd62-03dc64a6ec2c",
   "metadata": {},
   "outputs": [
    {
     "name": "stdout",
     "output_type": "stream",
     "text": [
      "Random Forest model saved as best_rf.pkl\n",
      "TF-IDF vectorizer saved as tfidf_vectorizer.pkl\n"
     ]
    }
   ],
   "source": [
    "import pickle\n",
    "\n",
    "# -----------------------------\n",
    "# Save Random Forest model\n",
    "# -----------------------------\n",
    "with open(\"best_rf.pkl\", \"wb\") as f:\n",
    "    pickle.dump(best_rf, f)\n",
    "print(\"Random Forest model saved as best_rf.pkl\")\n",
    "\n",
    "# -----------------------------\n",
    "# Save TF-IDF vectorizer\n",
    "# -----------------------------\n",
    "with open(\"tfidf_vectorizer.pkl\", \"wb\") as f:\n",
    "    pickle.dump(tfidf, f)\n",
    "print(\"TF-IDF vectorizer saved as tfidf_vectorizer.pkl\")\n",
    "\n",
    "# -----------------------------\n",
    "# Save scaler (if used)\n",
    "# -----------------------------\n",
    "# If you used MinMaxScaler or any scaler\n",
    "# with open(\"scaler.pkl\", \"wb\") as f:\n",
    "#     pickle.dump(scaler, f)\n",
    "# print(\"Scaler saved as scaler.pkl\")\n"
   ]
  },
  {
   "cell_type": "code",
   "execution_count": 103,
   "id": "4e27da23-b12b-4799-accc-f961b8e3dacf",
   "metadata": {},
   "outputs": [
    {
     "name": "stdout",
     "output_type": "stream",
     "text": [
      "Review: The product is terrible, very disappointed\n",
      "Predicted Class: 0, Probabilities: [0.40087041 0.59912959]\n",
      "------------------------------------------------------------\n",
      "Review: I love this! Excellent quality and fast delivery\n",
      "Predicted Class: 1, Probabilities: [0.0651355 0.9348645]\n",
      "------------------------------------------------------------\n",
      "Review: Not satisfied, it broke after one day\n",
      "Predicted Class: 0, Probabilities: [0.36593762 0.63406238]\n",
      "------------------------------------------------------------\n",
      "Review: Amazing product, works perfectly\n",
      "Predicted Class: 1, Probabilities: [0.082 0.918]\n",
      "------------------------------------------------------------\n"
     ]
    }
   ],
   "source": [
    "def preprocess_text(text):\n",
    "    review = re.sub('[^a-zA-Z]', ' ', text)\n",
    "    review = review.lower().split()\n",
    "    review = [stemmer.stem(word) for word in review if word not in stopword]\n",
    "    return ' '.join(review)\n",
    "\n",
    "def predict_feedback(review, model, vectorizer, threshold=0.34):\n",
    "    X = vectorizer.transform([preprocess_text(review)]).toarray()\n",
    "    proba = model.predict_proba(X)[0]\n",
    "    pred = 0 if proba[0] > threshold else 1\n",
    "    return pred, proba\n",
    "    \n",
    "reviews = [\n",
    "    \"The product is terrible, very disappointed\",\n",
    "    \"I love this! Excellent quality and fast delivery\",\n",
    "    \"Not satisfied, it broke after one day\",\n",
    "    \"Amazing product, works perfectly\"\n",
    "]\n",
    "\n",
    "for r in reviews:\n",
    "    pred, proba = predict_feedback(r, best_rf, tfidf)\n",
    "    print(f\"Review: {r}\")\n",
    "    print(f\"Predicted Class: {pred}, Probabilities: {proba}\")\n",
    "    print(\"-\"*60)\n"
   ]
  },
  {
   "cell_type": "code",
   "execution_count": 105,
   "id": "f73e2bec-d7ea-41af-b4cc-331b9c2c3f16",
   "metadata": {},
   "outputs": [
    {
     "data": {
      "text/html": [
       "<div>\n",
       "<style scoped>\n",
       "    .dataframe tbody tr th:only-of-type {\n",
       "        vertical-align: middle;\n",
       "    }\n",
       "\n",
       "    .dataframe tbody tr th {\n",
       "        vertical-align: top;\n",
       "    }\n",
       "\n",
       "    .dataframe thead th {\n",
       "        text-align: right;\n",
       "    }\n",
       "</style>\n",
       "<table border=\"1\" class=\"dataframe\">\n",
       "  <thead>\n",
       "    <tr style=\"text-align: right;\">\n",
       "      <th></th>\n",
       "      <th>Review</th>\n",
       "      <th>Predicted_Class</th>\n",
       "      <th>Prob_Class0</th>\n",
       "      <th>Prob_Class1</th>\n",
       "    </tr>\n",
       "  </thead>\n",
       "  <tbody>\n",
       "    <tr>\n",
       "      <th>0</th>\n",
       "      <td>The product is terrible, very disappointed</td>\n",
       "      <td>0</td>\n",
       "      <td>0.400870</td>\n",
       "      <td>0.599130</td>\n",
       "    </tr>\n",
       "    <tr>\n",
       "      <th>1</th>\n",
       "      <td>I love this! Excellent quality and fast delivery</td>\n",
       "      <td>1</td>\n",
       "      <td>0.065135</td>\n",
       "      <td>0.934865</td>\n",
       "    </tr>\n",
       "    <tr>\n",
       "      <th>2</th>\n",
       "      <td>Not satisfied, it broke after one day</td>\n",
       "      <td>0</td>\n",
       "      <td>0.365938</td>\n",
       "      <td>0.634062</td>\n",
       "    </tr>\n",
       "    <tr>\n",
       "      <th>3</th>\n",
       "      <td>Amazing product, works perfectly</td>\n",
       "      <td>1</td>\n",
       "      <td>0.082000</td>\n",
       "      <td>0.918000</td>\n",
       "    </tr>\n",
       "  </tbody>\n",
       "</table>\n",
       "</div>"
      ],
      "text/plain": [
       "                                             Review  Predicted_Class  \\\n",
       "0        The product is terrible, very disappointed                0   \n",
       "1  I love this! Excellent quality and fast delivery                1   \n",
       "2             Not satisfied, it broke after one day                0   \n",
       "3                  Amazing product, works perfectly                1   \n",
       "\n",
       "   Prob_Class0  Prob_Class1  \n",
       "0     0.400870     0.599130  \n",
       "1     0.065135     0.934865  \n",
       "2     0.365938     0.634062  \n",
       "3     0.082000     0.918000  "
      ]
     },
     "execution_count": 105,
     "metadata": {},
     "output_type": "execute_result"
    }
   ],
   "source": [
    "import re\n",
    "import pandas as pd\n",
    "from nltk.stem import PorterStemmer\n",
    "\n",
    "# -----------------------------\n",
    "# Configuration\n",
    "# -----------------------------\n",
    "stemmer = PorterStemmer()\n",
    "stopword = [...]  # same stopword list used in training\n",
    "threshold_class0 = 0.34  # tuned threshold for negative class\n",
    "\n",
    "# -----------------------------\n",
    "# Functions\n",
    "# -----------------------------\n",
    "def preprocess_text(text):\n",
    "    \"\"\"Preprocess review: lowercase, remove stopwords, stem\"\"\"\n",
    "    review = re.sub('[^a-zA-Z]', ' ', text)\n",
    "    review = review.lower().split()\n",
    "    review = [stemmer.stem(word) for word in review if word not in stopword]\n",
    "    return ' '.join(review)\n",
    "\n",
    "def predict_feedback(review_text, model, vectorizer, threshold=0.34): # It is threshold for negative class\n",
    "    \"\"\"\n",
    "    Predict feedback (0 = negative, 1 = positive) for a single review.\n",
    "    Returns predicted class and probabilities.\n",
    "    \"\"\"\n",
    "    # Preprocess\n",
    "    processed_review = preprocess_text(review_text)\n",
    "    \n",
    "    # TF-IDF transform\n",
    "    X = vectorizer.transform([processed_review]).toarray()\n",
    "    \n",
    "    # Predict probabilities\n",
    "    y_proba = model.predict_proba(X)[0]  # [P(class 0), P(class 1)]\n",
    "    \n",
    "    # Apply threshold for class 0\n",
    "    predicted_class = 0 if y_proba[0] > threshold else 1\n",
    "    \n",
    "    return predicted_class, y_proba\n",
    "\n",
    "def predict_multiple_reviews(reviews, model, vectorizer, threshold=0.34):\n",
    "    \"\"\"\n",
    "    Predict multiple reviews and return a DataFrame with results\n",
    "    \"\"\"\n",
    "    results = []\n",
    "    for r in reviews:\n",
    "        pred_class, pred_prob = predict_feedback(r, model, vectorizer, threshold)\n",
    "        results.append({\n",
    "            \"Review\": r,\n",
    "            \"Predicted_Class\": pred_class,\n",
    "            \"Prob_Class0\": pred_prob[0],\n",
    "            \"Prob_Class1\": pred_prob[1]\n",
    "        })\n",
    "    return pd.DataFrame(results)\n",
    "\n",
    "# -----------------------------\n",
    "# Example usage\n",
    "# -----------------------------\n",
    "test_reviews = [\n",
    "    \"The product is terrible, very disappointed\",\n",
    "    \"I love this! Excellent quality and fast delivery\",\n",
    "    \"Not satisfied, it broke after one day\",\n",
    "    \"Amazing product, works perfectly\"\n",
    "]\n",
    "\n",
    "df_results = predict_multiple_reviews(test_reviews, best_rf, tfidf)\n",
    "df_results\n"
   ]
  },
  {
   "cell_type": "code",
   "execution_count": 107,
   "id": "1d3470f2-6733-4995-9b31-a0a58abdc464",
   "metadata": {},
   "outputs": [
    {
     "data": {
      "text/html": [
       "<div>\n",
       "<style scoped>\n",
       "    .dataframe tbody tr th:only-of-type {\n",
       "        vertical-align: middle;\n",
       "    }\n",
       "\n",
       "    .dataframe tbody tr th {\n",
       "        vertical-align: top;\n",
       "    }\n",
       "\n",
       "    .dataframe thead th {\n",
       "        text-align: right;\n",
       "    }\n",
       "</style>\n",
       "<table border=\"1\" class=\"dataframe\">\n",
       "  <thead>\n",
       "    <tr style=\"text-align: right;\">\n",
       "      <th></th>\n",
       "      <th>Review</th>\n",
       "      <th>Predicted_Class</th>\n",
       "      <th>Prob_Class0</th>\n",
       "      <th>Prob_Class1</th>\n",
       "    </tr>\n",
       "  </thead>\n",
       "  <tbody>\n",
       "    <tr>\n",
       "      <th>0</th>\n",
       "      <td>The product is terrible, very disappointed</td>\n",
       "      <td>0</td>\n",
       "      <td>0.400870</td>\n",
       "      <td>0.599130</td>\n",
       "    </tr>\n",
       "    <tr>\n",
       "      <th>1</th>\n",
       "      <td>It broke after one day of use, waste of money</td>\n",
       "      <td>0</td>\n",
       "      <td>0.515864</td>\n",
       "      <td>0.484136</td>\n",
       "    </tr>\n",
       "    <tr>\n",
       "      <th>2</th>\n",
       "      <td>Customer service was awful, will not buy again</td>\n",
       "      <td>0</td>\n",
       "      <td>0.502855</td>\n",
       "      <td>0.497145</td>\n",
       "    </tr>\n",
       "    <tr>\n",
       "      <th>3</th>\n",
       "      <td>I am extremely unhappy with this purchase</td>\n",
       "      <td>1</td>\n",
       "      <td>0.216377</td>\n",
       "      <td>0.783623</td>\n",
       "    </tr>\n",
       "    <tr>\n",
       "      <th>4</th>\n",
       "      <td>Poor quality, does not work as advertised</td>\n",
       "      <td>0</td>\n",
       "      <td>0.417000</td>\n",
       "      <td>0.583000</td>\n",
       "    </tr>\n",
       "    <tr>\n",
       "      <th>5</th>\n",
       "      <td>The item arrived late and damaged</td>\n",
       "      <td>0</td>\n",
       "      <td>0.534709</td>\n",
       "      <td>0.465291</td>\n",
       "    </tr>\n",
       "    <tr>\n",
       "      <th>6</th>\n",
       "      <td>Not satisfied, very low quality</td>\n",
       "      <td>0</td>\n",
       "      <td>0.433073</td>\n",
       "      <td>0.566927</td>\n",
       "    </tr>\n",
       "    <tr>\n",
       "      <th>7</th>\n",
       "      <td>Terrible experience, the product stopped worki...</td>\n",
       "      <td>0</td>\n",
       "      <td>0.579000</td>\n",
       "      <td>0.421000</td>\n",
       "    </tr>\n",
       "    <tr>\n",
       "      <th>8</th>\n",
       "      <td>Very disappointed, will never buy from this brand</td>\n",
       "      <td>0</td>\n",
       "      <td>0.370512</td>\n",
       "      <td>0.629488</td>\n",
       "    </tr>\n",
       "    <tr>\n",
       "      <th>9</th>\n",
       "      <td>The product does not match the description</td>\n",
       "      <td>1</td>\n",
       "      <td>0.146541</td>\n",
       "      <td>0.853459</td>\n",
       "    </tr>\n",
       "    <tr>\n",
       "      <th>10</th>\n",
       "      <td>I love this! Excellent quality and fast delivery</td>\n",
       "      <td>1</td>\n",
       "      <td>0.065135</td>\n",
       "      <td>0.934865</td>\n",
       "    </tr>\n",
       "    <tr>\n",
       "      <th>11</th>\n",
       "      <td>Amazing product, works perfectly</td>\n",
       "      <td>1</td>\n",
       "      <td>0.082000</td>\n",
       "      <td>0.918000</td>\n",
       "    </tr>\n",
       "    <tr>\n",
       "      <th>12</th>\n",
       "      <td>Highly recommend, very satisfied with the purc...</td>\n",
       "      <td>1</td>\n",
       "      <td>0.037400</td>\n",
       "      <td>0.962600</td>\n",
       "    </tr>\n",
       "    <tr>\n",
       "      <th>13</th>\n",
       "      <td>Five stars! Exactly as described and works great</td>\n",
       "      <td>1</td>\n",
       "      <td>0.241244</td>\n",
       "      <td>0.758756</td>\n",
       "    </tr>\n",
       "    <tr>\n",
       "      <th>14</th>\n",
       "      <td>The product exceeded my expectations</td>\n",
       "      <td>1</td>\n",
       "      <td>0.008188</td>\n",
       "      <td>0.991812</td>\n",
       "    </tr>\n",
       "    <tr>\n",
       "      <th>15</th>\n",
       "      <td>Fast shipping, great quality, very happy</td>\n",
       "      <td>1</td>\n",
       "      <td>0.055044</td>\n",
       "      <td>0.944956</td>\n",
       "    </tr>\n",
       "    <tr>\n",
       "      <th>16</th>\n",
       "      <td>Fantastic experience, the product is perfect</td>\n",
       "      <td>1</td>\n",
       "      <td>0.028515</td>\n",
       "      <td>0.971485</td>\n",
       "    </tr>\n",
       "    <tr>\n",
       "      <th>17</th>\n",
       "      <td>Very good, exactly what I needed</td>\n",
       "      <td>1</td>\n",
       "      <td>0.269977</td>\n",
       "      <td>0.730023</td>\n",
       "    </tr>\n",
       "    <tr>\n",
       "      <th>18</th>\n",
       "      <td>Excellent quality, will buy again</td>\n",
       "      <td>1</td>\n",
       "      <td>0.168577</td>\n",
       "      <td>0.831423</td>\n",
       "    </tr>\n",
       "    <tr>\n",
       "      <th>19</th>\n",
       "      <td>Totally worth the price, very happy with it</td>\n",
       "      <td>1</td>\n",
       "      <td>0.246086</td>\n",
       "      <td>0.753914</td>\n",
       "    </tr>\n",
       "  </tbody>\n",
       "</table>\n",
       "</div>"
      ],
      "text/plain": [
       "                                               Review  Predicted_Class  \\\n",
       "0          The product is terrible, very disappointed                0   \n",
       "1       It broke after one day of use, waste of money                0   \n",
       "2      Customer service was awful, will not buy again                0   \n",
       "3           I am extremely unhappy with this purchase                1   \n",
       "4           Poor quality, does not work as advertised                0   \n",
       "5                   The item arrived late and damaged                0   \n",
       "6                     Not satisfied, very low quality                0   \n",
       "7   Terrible experience, the product stopped worki...                0   \n",
       "8   Very disappointed, will never buy from this brand                0   \n",
       "9          The product does not match the description                1   \n",
       "10   I love this! Excellent quality and fast delivery                1   \n",
       "11                   Amazing product, works perfectly                1   \n",
       "12  Highly recommend, very satisfied with the purc...                1   \n",
       "13   Five stars! Exactly as described and works great                1   \n",
       "14               The product exceeded my expectations                1   \n",
       "15           Fast shipping, great quality, very happy                1   \n",
       "16       Fantastic experience, the product is perfect                1   \n",
       "17                   Very good, exactly what I needed                1   \n",
       "18                  Excellent quality, will buy again                1   \n",
       "19        Totally worth the price, very happy with it                1   \n",
       "\n",
       "    Prob_Class0  Prob_Class1  \n",
       "0      0.400870     0.599130  \n",
       "1      0.515864     0.484136  \n",
       "2      0.502855     0.497145  \n",
       "3      0.216377     0.783623  \n",
       "4      0.417000     0.583000  \n",
       "5      0.534709     0.465291  \n",
       "6      0.433073     0.566927  \n",
       "7      0.579000     0.421000  \n",
       "8      0.370512     0.629488  \n",
       "9      0.146541     0.853459  \n",
       "10     0.065135     0.934865  \n",
       "11     0.082000     0.918000  \n",
       "12     0.037400     0.962600  \n",
       "13     0.241244     0.758756  \n",
       "14     0.008188     0.991812  \n",
       "15     0.055044     0.944956  \n",
       "16     0.028515     0.971485  \n",
       "17     0.269977     0.730023  \n",
       "18     0.168577     0.831423  \n",
       "19     0.246086     0.753914  "
      ]
     },
     "execution_count": 107,
     "metadata": {},
     "output_type": "execute_result"
    }
   ],
   "source": [
    "test_reviews = [\n",
    "    # Negative reviews\n",
    "    \"The product is terrible, very disappointed\",\n",
    "    \"It broke after one day of use, waste of money\",\n",
    "    \"Customer service was awful, will not buy again\",\n",
    "    \"I am extremely unhappy with this purchase\",\n",
    "    \"Poor quality, does not work as advertised\",\n",
    "    \"The item arrived late and damaged\",\n",
    "    \"Not satisfied, very low quality\",\n",
    "    \"Terrible experience, the product stopped working immediately\",\n",
    "    \"Very disappointed, will never buy from this brand\",\n",
    "    \"The product does not match the description\",\n",
    "\n",
    "    # Positive reviews\n",
    "    \"I love this! Excellent quality and fast delivery\",\n",
    "    \"Amazing product, works perfectly\",\n",
    "    \"Highly recommend, very satisfied with the purchase\",\n",
    "    \"Five stars! Exactly as described and works great\",\n",
    "    \"The product exceeded my expectations\",\n",
    "    \"Fast shipping, great quality, very happy\",\n",
    "    \"Fantastic experience, the product is perfect\",\n",
    "    \"Very good, exactly what I needed\",\n",
    "    \"Excellent quality, will buy again\",\n",
    "    \"Totally worth the price, very happy with it\"\n",
    "]\n",
    "\n",
    "result = predict_multiple_reviews(test_reviews, best_rf, tfidf)\n",
    "result"
   ]
  },
  {
   "cell_type": "code",
   "execution_count": 108,
   "id": "d158839e-5ac4-4f80-985e-6d61a71b35ed",
   "metadata": {},
   "outputs": [],
   "source": [
    "test_reviews1 = [\n",
    "    # Negative reviews\n",
    "    \"The product is terrible, very disappointed\",\n",
    "    \"It broke after one day of use, waste of money\",\n",
    "    \"Customer service was awful, will not buy again\",\n",
    "    \"I am extremely unhappy with this purchase\",\n",
    "    \"Poor quality, does not work as advertised\",\n",
    "    \"The item arrived late and damaged\",\n",
    "    \"Not satisfied, very low quality\",\n",
    "    \"Terrible experience, the product stopped working immediately\",\n",
    "    \"Very disappointed, will never buy from this brand\",\n",
    "    \"The product does not match the description\",\n",
    "    \"Completely useless, does not function at all\",\n",
    "    \"Broke within hours, I regret buying it\",\n",
    "    \"The packaging was damaged and product defective\",\n",
    "    \"Not worth the price, very poor quality\",\n",
    "    \"I received the wrong item, very frustrating\",\n",
    "    \"Worst purchase ever, extremely dissatisfied\",\n",
    "    \"The product is fake and low quality\",\n",
    "    \"Delivery was delayed and product damaged\",\n",
    "    \"It stopped working after a week\",\n",
    "    \"The features advertised are missing\",\n",
    "\n",
    "    # Positive reviews\n",
    "    \"I love this! Excellent quality and fast delivery\",\n",
    "    \"Amazing product, works perfectly\",\n",
    "    \"Highly recommend, very satisfied with the purchase\",\n",
    "    \"Five stars! Exactly as described and works great\",\n",
    "    \"The product exceeded my expectations\",\n",
    "    \"Fast shipping, great quality, very happy\",\n",
    "    \"Fantastic experience, the product is perfect\",\n",
    "    \"Very good, exactly what I needed\",\n",
    "    \"Excellent quality, will buy again\",\n",
    "    \"Totally worth the price, very happy with it\",\n",
    "    \"The product is durable and works flawlessly\",\n",
    "    \"Superb quality, extremely satisfied\",\n",
    "    \"Perfect fit and works as promised\",\n",
    "    \"Outstanding product, highly recommend\",\n",
    "    \"Very pleased with the purchase\",\n",
    "    \"Product arrived quickly and works great\",\n",
    "    \"High-quality item, excellent customer experience\",\n",
    "    \"Absolutely love it, works exactly as expected\",\n",
    "    \"Reliable product, I am very happy\",\n",
    "    \"Exceptional quality, five-star product\",\n",
    "    \"Love the design and functionality\",\n",
    "    \"Very happy, product works perfectly\",\n",
    "    \"Excellent service and product quality\",\n",
    "    \"Good value for money, highly recommend\",\n",
    "    \"Exceeded my expectations, very satisfied\",\n",
    "    \"Amazing experience, product works great\",\n",
    "    \"Product is sturdy and long-lasting\",\n",
    "    \"Happy with the purchase, highly recommend\",\n",
    "    \"Top-notch quality, would buy again\",\n",
    "    \"Fantastic product, very reliable\",\n",
    "    \"Product works well, excellent purchase\",\n",
    "    \"Thrilled with the product, highly recommend\",\n",
    "    \"Great quality and fast delivery\",\n",
    "    \"Very satisfied, product meets expectations\",\n",
    "    \"Reliable and efficient, works perfectly\",\n",
    "    \"Happy customer, will buy again\",\n",
    "    \"Exactly what I wanted, highly satisfied\",\n",
    "    \"Product performs excellently, great quality\",\n",
    "    \"I am impressed, works flawlessly\",\n",
    "    \"Excellent product, very happy with purchase\",\n",
    "    \"Perfect product, exactly as advertised\",\n",
    "    \"Very pleased, quality is excellent\",\n",
    "    \"Highly recommend this product, works great\",\n",
    "    \"Product is worth every penny\",\n",
    "    \"Fantastic quality and performance\",\n",
    "    \"Product exceeded my expectations, very happy\",\n",
    "    \"Great design and functionality, highly recommend\",\n",
    "    \"Top quality, very satisfied\",\n",
    "    \"Absolutely perfect, would buy again\",\n",
    "    \"Extremely happy with this purchase\"\n",
    "]\n"
   ]
  },
  {
   "cell_type": "code",
   "execution_count": 110,
   "id": "d688c1cb-8fa4-44a3-a52f-968768f19830",
   "metadata": {},
   "outputs": [
    {
     "data": {
      "text/html": [
       "<div>\n",
       "<style scoped>\n",
       "    .dataframe tbody tr th:only-of-type {\n",
       "        vertical-align: middle;\n",
       "    }\n",
       "\n",
       "    .dataframe tbody tr th {\n",
       "        vertical-align: top;\n",
       "    }\n",
       "\n",
       "    .dataframe thead th {\n",
       "        text-align: right;\n",
       "    }\n",
       "</style>\n",
       "<table border=\"1\" class=\"dataframe\">\n",
       "  <thead>\n",
       "    <tr style=\"text-align: right;\">\n",
       "      <th></th>\n",
       "      <th>Review</th>\n",
       "      <th>Predicted_Class</th>\n",
       "      <th>Prob_Class0</th>\n",
       "      <th>Prob_Class1</th>\n",
       "    </tr>\n",
       "  </thead>\n",
       "  <tbody>\n",
       "    <tr>\n",
       "      <th>0</th>\n",
       "      <td>The product is terrible, very disappointed</td>\n",
       "      <td>0</td>\n",
       "      <td>0.400870</td>\n",
       "      <td>0.599130</td>\n",
       "    </tr>\n",
       "    <tr>\n",
       "      <th>1</th>\n",
       "      <td>It broke after one day of use, waste of money</td>\n",
       "      <td>0</td>\n",
       "      <td>0.515864</td>\n",
       "      <td>0.484136</td>\n",
       "    </tr>\n",
       "    <tr>\n",
       "      <th>2</th>\n",
       "      <td>Customer service was awful, will not buy again</td>\n",
       "      <td>0</td>\n",
       "      <td>0.502855</td>\n",
       "      <td>0.497145</td>\n",
       "    </tr>\n",
       "    <tr>\n",
       "      <th>3</th>\n",
       "      <td>I am extremely unhappy with this purchase</td>\n",
       "      <td>1</td>\n",
       "      <td>0.216377</td>\n",
       "      <td>0.783623</td>\n",
       "    </tr>\n",
       "    <tr>\n",
       "      <th>4</th>\n",
       "      <td>Poor quality, does not work as advertised</td>\n",
       "      <td>0</td>\n",
       "      <td>0.417000</td>\n",
       "      <td>0.583000</td>\n",
       "    </tr>\n",
       "    <tr>\n",
       "      <th>5</th>\n",
       "      <td>The item arrived late and damaged</td>\n",
       "      <td>0</td>\n",
       "      <td>0.534709</td>\n",
       "      <td>0.465291</td>\n",
       "    </tr>\n",
       "    <tr>\n",
       "      <th>6</th>\n",
       "      <td>Not satisfied, very low quality</td>\n",
       "      <td>0</td>\n",
       "      <td>0.433073</td>\n",
       "      <td>0.566927</td>\n",
       "    </tr>\n",
       "    <tr>\n",
       "      <th>7</th>\n",
       "      <td>Terrible experience, the product stopped worki...</td>\n",
       "      <td>0</td>\n",
       "      <td>0.579000</td>\n",
       "      <td>0.421000</td>\n",
       "    </tr>\n",
       "    <tr>\n",
       "      <th>8</th>\n",
       "      <td>Very disappointed, will never buy from this brand</td>\n",
       "      <td>0</td>\n",
       "      <td>0.370512</td>\n",
       "      <td>0.629488</td>\n",
       "    </tr>\n",
       "    <tr>\n",
       "      <th>9</th>\n",
       "      <td>The product does not match the description</td>\n",
       "      <td>1</td>\n",
       "      <td>0.146541</td>\n",
       "      <td>0.853459</td>\n",
       "    </tr>\n",
       "    <tr>\n",
       "      <th>10</th>\n",
       "      <td>Completely useless, does not function at all</td>\n",
       "      <td>0</td>\n",
       "      <td>0.748939</td>\n",
       "      <td>0.251061</td>\n",
       "    </tr>\n",
       "    <tr>\n",
       "      <th>11</th>\n",
       "      <td>Broke within hours, I regret buying it</td>\n",
       "      <td>0</td>\n",
       "      <td>0.531542</td>\n",
       "      <td>0.468458</td>\n",
       "    </tr>\n",
       "    <tr>\n",
       "      <th>12</th>\n",
       "      <td>The packaging was damaged and product defective</td>\n",
       "      <td>0</td>\n",
       "      <td>0.378284</td>\n",
       "      <td>0.621716</td>\n",
       "    </tr>\n",
       "    <tr>\n",
       "      <th>13</th>\n",
       "      <td>Not worth the price, very poor quality</td>\n",
       "      <td>0</td>\n",
       "      <td>0.470240</td>\n",
       "      <td>0.529760</td>\n",
       "    </tr>\n",
       "    <tr>\n",
       "      <th>14</th>\n",
       "      <td>I received the wrong item, very frustrating</td>\n",
       "      <td>0</td>\n",
       "      <td>0.559745</td>\n",
       "      <td>0.440255</td>\n",
       "    </tr>\n",
       "    <tr>\n",
       "      <th>15</th>\n",
       "      <td>Worst purchase ever, extremely dissatisfied</td>\n",
       "      <td>1</td>\n",
       "      <td>0.158532</td>\n",
       "      <td>0.841468</td>\n",
       "    </tr>\n",
       "    <tr>\n",
       "      <th>16</th>\n",
       "      <td>The product is fake and low quality</td>\n",
       "      <td>1</td>\n",
       "      <td>0.313864</td>\n",
       "      <td>0.686136</td>\n",
       "    </tr>\n",
       "    <tr>\n",
       "      <th>17</th>\n",
       "      <td>Delivery was delayed and product damaged</td>\n",
       "      <td>1</td>\n",
       "      <td>0.303799</td>\n",
       "      <td>0.696201</td>\n",
       "    </tr>\n",
       "    <tr>\n",
       "      <th>18</th>\n",
       "      <td>It stopped working after a week</td>\n",
       "      <td>0</td>\n",
       "      <td>0.709688</td>\n",
       "      <td>0.290312</td>\n",
       "    </tr>\n",
       "    <tr>\n",
       "      <th>19</th>\n",
       "      <td>The features advertised are missing</td>\n",
       "      <td>0</td>\n",
       "      <td>0.492201</td>\n",
       "      <td>0.507799</td>\n",
       "    </tr>\n",
       "    <tr>\n",
       "      <th>20</th>\n",
       "      <td>I love this! Excellent quality and fast delivery</td>\n",
       "      <td>1</td>\n",
       "      <td>0.065135</td>\n",
       "      <td>0.934865</td>\n",
       "    </tr>\n",
       "    <tr>\n",
       "      <th>21</th>\n",
       "      <td>Amazing product, works perfectly</td>\n",
       "      <td>1</td>\n",
       "      <td>0.082000</td>\n",
       "      <td>0.918000</td>\n",
       "    </tr>\n",
       "    <tr>\n",
       "      <th>22</th>\n",
       "      <td>Highly recommend, very satisfied with the purc...</td>\n",
       "      <td>1</td>\n",
       "      <td>0.037400</td>\n",
       "      <td>0.962600</td>\n",
       "    </tr>\n",
       "    <tr>\n",
       "      <th>23</th>\n",
       "      <td>Five stars! Exactly as described and works great</td>\n",
       "      <td>1</td>\n",
       "      <td>0.241244</td>\n",
       "      <td>0.758756</td>\n",
       "    </tr>\n",
       "    <tr>\n",
       "      <th>24</th>\n",
       "      <td>The product exceeded my expectations</td>\n",
       "      <td>1</td>\n",
       "      <td>0.008188</td>\n",
       "      <td>0.991812</td>\n",
       "    </tr>\n",
       "    <tr>\n",
       "      <th>25</th>\n",
       "      <td>Fast shipping, great quality, very happy</td>\n",
       "      <td>1</td>\n",
       "      <td>0.055044</td>\n",
       "      <td>0.944956</td>\n",
       "    </tr>\n",
       "    <tr>\n",
       "      <th>26</th>\n",
       "      <td>Fantastic experience, the product is perfect</td>\n",
       "      <td>1</td>\n",
       "      <td>0.028515</td>\n",
       "      <td>0.971485</td>\n",
       "    </tr>\n",
       "    <tr>\n",
       "      <th>27</th>\n",
       "      <td>Very good, exactly what I needed</td>\n",
       "      <td>1</td>\n",
       "      <td>0.269977</td>\n",
       "      <td>0.730023</td>\n",
       "    </tr>\n",
       "    <tr>\n",
       "      <th>28</th>\n",
       "      <td>Excellent quality, will buy again</td>\n",
       "      <td>1</td>\n",
       "      <td>0.168577</td>\n",
       "      <td>0.831423</td>\n",
       "    </tr>\n",
       "    <tr>\n",
       "      <th>29</th>\n",
       "      <td>Totally worth the price, very happy with it</td>\n",
       "      <td>1</td>\n",
       "      <td>0.246086</td>\n",
       "      <td>0.753914</td>\n",
       "    </tr>\n",
       "    <tr>\n",
       "      <th>30</th>\n",
       "      <td>The product is durable and works flawlessly</td>\n",
       "      <td>1</td>\n",
       "      <td>0.295000</td>\n",
       "      <td>0.705000</td>\n",
       "    </tr>\n",
       "    <tr>\n",
       "      <th>31</th>\n",
       "      <td>Superb quality, extremely satisfied</td>\n",
       "      <td>0</td>\n",
       "      <td>0.343587</td>\n",
       "      <td>0.656413</td>\n",
       "    </tr>\n",
       "    <tr>\n",
       "      <th>32</th>\n",
       "      <td>Perfect fit and works as promised</td>\n",
       "      <td>1</td>\n",
       "      <td>0.180471</td>\n",
       "      <td>0.819529</td>\n",
       "    </tr>\n",
       "    <tr>\n",
       "      <th>33</th>\n",
       "      <td>Outstanding product, highly recommend</td>\n",
       "      <td>1</td>\n",
       "      <td>0.056172</td>\n",
       "      <td>0.943828</td>\n",
       "    </tr>\n",
       "    <tr>\n",
       "      <th>34</th>\n",
       "      <td>Very pleased with the purchase</td>\n",
       "      <td>1</td>\n",
       "      <td>0.013374</td>\n",
       "      <td>0.986626</td>\n",
       "    </tr>\n",
       "    <tr>\n",
       "      <th>35</th>\n",
       "      <td>Product arrived quickly and works great</td>\n",
       "      <td>1</td>\n",
       "      <td>0.085000</td>\n",
       "      <td>0.915000</td>\n",
       "    </tr>\n",
       "    <tr>\n",
       "      <th>36</th>\n",
       "      <td>High-quality item, excellent customer experience</td>\n",
       "      <td>1</td>\n",
       "      <td>0.220575</td>\n",
       "      <td>0.779425</td>\n",
       "    </tr>\n",
       "    <tr>\n",
       "      <th>37</th>\n",
       "      <td>Absolutely love it, works exactly as expected</td>\n",
       "      <td>1</td>\n",
       "      <td>0.038000</td>\n",
       "      <td>0.962000</td>\n",
       "    </tr>\n",
       "    <tr>\n",
       "      <th>38</th>\n",
       "      <td>Reliable product, I am very happy</td>\n",
       "      <td>1</td>\n",
       "      <td>0.046853</td>\n",
       "      <td>0.953147</td>\n",
       "    </tr>\n",
       "    <tr>\n",
       "      <th>39</th>\n",
       "      <td>Exceptional quality, five-star product</td>\n",
       "      <td>1</td>\n",
       "      <td>0.231252</td>\n",
       "      <td>0.768748</td>\n",
       "    </tr>\n",
       "    <tr>\n",
       "      <th>40</th>\n",
       "      <td>Love the design and functionality</td>\n",
       "      <td>1</td>\n",
       "      <td>0.042907</td>\n",
       "      <td>0.957093</td>\n",
       "    </tr>\n",
       "    <tr>\n",
       "      <th>41</th>\n",
       "      <td>Very happy, product works perfectly</td>\n",
       "      <td>1</td>\n",
       "      <td>0.100000</td>\n",
       "      <td>0.900000</td>\n",
       "    </tr>\n",
       "    <tr>\n",
       "      <th>42</th>\n",
       "      <td>Excellent service and product quality</td>\n",
       "      <td>1</td>\n",
       "      <td>0.098878</td>\n",
       "      <td>0.901122</td>\n",
       "    </tr>\n",
       "    <tr>\n",
       "      <th>43</th>\n",
       "      <td>Good value for money, highly recommend</td>\n",
       "      <td>1</td>\n",
       "      <td>0.231804</td>\n",
       "      <td>0.768196</td>\n",
       "    </tr>\n",
       "    <tr>\n",
       "      <th>44</th>\n",
       "      <td>Exceeded my expectations, very satisfied</td>\n",
       "      <td>1</td>\n",
       "      <td>0.048540</td>\n",
       "      <td>0.951460</td>\n",
       "    </tr>\n",
       "    <tr>\n",
       "      <th>45</th>\n",
       "      <td>Amazing experience, product works great</td>\n",
       "      <td>1</td>\n",
       "      <td>0.027000</td>\n",
       "      <td>0.973000</td>\n",
       "    </tr>\n",
       "    <tr>\n",
       "      <th>46</th>\n",
       "      <td>Product is sturdy and long-lasting</td>\n",
       "      <td>1</td>\n",
       "      <td>0.242689</td>\n",
       "      <td>0.757311</td>\n",
       "    </tr>\n",
       "    <tr>\n",
       "      <th>47</th>\n",
       "      <td>Happy with the purchase, highly recommend</td>\n",
       "      <td>1</td>\n",
       "      <td>0.032584</td>\n",
       "      <td>0.967416</td>\n",
       "    </tr>\n",
       "    <tr>\n",
       "      <th>48</th>\n",
       "      <td>Top-notch quality, would buy again</td>\n",
       "      <td>1</td>\n",
       "      <td>0.262696</td>\n",
       "      <td>0.737304</td>\n",
       "    </tr>\n",
       "    <tr>\n",
       "      <th>49</th>\n",
       "      <td>Fantastic product, very reliable</td>\n",
       "      <td>1</td>\n",
       "      <td>0.077751</td>\n",
       "      <td>0.922249</td>\n",
       "    </tr>\n",
       "  </tbody>\n",
       "</table>\n",
       "</div>"
      ],
      "text/plain": [
       "                                               Review  Predicted_Class  \\\n",
       "0          The product is terrible, very disappointed                0   \n",
       "1       It broke after one day of use, waste of money                0   \n",
       "2      Customer service was awful, will not buy again                0   \n",
       "3           I am extremely unhappy with this purchase                1   \n",
       "4           Poor quality, does not work as advertised                0   \n",
       "5                   The item arrived late and damaged                0   \n",
       "6                     Not satisfied, very low quality                0   \n",
       "7   Terrible experience, the product stopped worki...                0   \n",
       "8   Very disappointed, will never buy from this brand                0   \n",
       "9          The product does not match the description                1   \n",
       "10       Completely useless, does not function at all                0   \n",
       "11             Broke within hours, I regret buying it                0   \n",
       "12    The packaging was damaged and product defective                0   \n",
       "13             Not worth the price, very poor quality                0   \n",
       "14        I received the wrong item, very frustrating                0   \n",
       "15        Worst purchase ever, extremely dissatisfied                1   \n",
       "16                The product is fake and low quality                1   \n",
       "17           Delivery was delayed and product damaged                1   \n",
       "18                    It stopped working after a week                0   \n",
       "19                The features advertised are missing                0   \n",
       "20   I love this! Excellent quality and fast delivery                1   \n",
       "21                   Amazing product, works perfectly                1   \n",
       "22  Highly recommend, very satisfied with the purc...                1   \n",
       "23   Five stars! Exactly as described and works great                1   \n",
       "24               The product exceeded my expectations                1   \n",
       "25           Fast shipping, great quality, very happy                1   \n",
       "26       Fantastic experience, the product is perfect                1   \n",
       "27                   Very good, exactly what I needed                1   \n",
       "28                  Excellent quality, will buy again                1   \n",
       "29        Totally worth the price, very happy with it                1   \n",
       "30        The product is durable and works flawlessly                1   \n",
       "31                Superb quality, extremely satisfied                0   \n",
       "32                  Perfect fit and works as promised                1   \n",
       "33              Outstanding product, highly recommend                1   \n",
       "34                     Very pleased with the purchase                1   \n",
       "35            Product arrived quickly and works great                1   \n",
       "36   High-quality item, excellent customer experience                1   \n",
       "37      Absolutely love it, works exactly as expected                1   \n",
       "38                  Reliable product, I am very happy                1   \n",
       "39             Exceptional quality, five-star product                1   \n",
       "40                  Love the design and functionality                1   \n",
       "41                Very happy, product works perfectly                1   \n",
       "42              Excellent service and product quality                1   \n",
       "43             Good value for money, highly recommend                1   \n",
       "44           Exceeded my expectations, very satisfied                1   \n",
       "45            Amazing experience, product works great                1   \n",
       "46                 Product is sturdy and long-lasting                1   \n",
       "47          Happy with the purchase, highly recommend                1   \n",
       "48                 Top-notch quality, would buy again                1   \n",
       "49                   Fantastic product, very reliable                1   \n",
       "\n",
       "    Prob_Class0  Prob_Class1  \n",
       "0      0.400870     0.599130  \n",
       "1      0.515864     0.484136  \n",
       "2      0.502855     0.497145  \n",
       "3      0.216377     0.783623  \n",
       "4      0.417000     0.583000  \n",
       "5      0.534709     0.465291  \n",
       "6      0.433073     0.566927  \n",
       "7      0.579000     0.421000  \n",
       "8      0.370512     0.629488  \n",
       "9      0.146541     0.853459  \n",
       "10     0.748939     0.251061  \n",
       "11     0.531542     0.468458  \n",
       "12     0.378284     0.621716  \n",
       "13     0.470240     0.529760  \n",
       "14     0.559745     0.440255  \n",
       "15     0.158532     0.841468  \n",
       "16     0.313864     0.686136  \n",
       "17     0.303799     0.696201  \n",
       "18     0.709688     0.290312  \n",
       "19     0.492201     0.507799  \n",
       "20     0.065135     0.934865  \n",
       "21     0.082000     0.918000  \n",
       "22     0.037400     0.962600  \n",
       "23     0.241244     0.758756  \n",
       "24     0.008188     0.991812  \n",
       "25     0.055044     0.944956  \n",
       "26     0.028515     0.971485  \n",
       "27     0.269977     0.730023  \n",
       "28     0.168577     0.831423  \n",
       "29     0.246086     0.753914  \n",
       "30     0.295000     0.705000  \n",
       "31     0.343587     0.656413  \n",
       "32     0.180471     0.819529  \n",
       "33     0.056172     0.943828  \n",
       "34     0.013374     0.986626  \n",
       "35     0.085000     0.915000  \n",
       "36     0.220575     0.779425  \n",
       "37     0.038000     0.962000  \n",
       "38     0.046853     0.953147  \n",
       "39     0.231252     0.768748  \n",
       "40     0.042907     0.957093  \n",
       "41     0.100000     0.900000  \n",
       "42     0.098878     0.901122  \n",
       "43     0.231804     0.768196  \n",
       "44     0.048540     0.951460  \n",
       "45     0.027000     0.973000  \n",
       "46     0.242689     0.757311  \n",
       "47     0.032584     0.967416  \n",
       "48     0.262696     0.737304  \n",
       "49     0.077751     0.922249  "
      ]
     },
     "execution_count": 110,
     "metadata": {},
     "output_type": "execute_result"
    }
   ],
   "source": [
    "test_review_df = predict_multiple_reviews(test_reviews1, best_rf, tfidf)\n",
    "test_review_df.head(50)"
   ]
  },
  {
   "cell_type": "code",
   "execution_count": null,
   "id": "6f9e8ac5-8730-4740-86fe-4327b9f9b549",
   "metadata": {},
   "outputs": [],
   "source": []
  },
  {
   "cell_type": "code",
   "execution_count": null,
   "id": "96123d45-b3d6-472b-a5f9-953e8c889e73",
   "metadata": {},
   "outputs": [],
   "source": []
  },
  {
   "cell_type": "code",
   "execution_count": null,
   "id": "a17e02d8-9337-4d32-9914-f0b3cf572392",
   "metadata": {},
   "outputs": [],
   "source": []
  },
  {
   "cell_type": "code",
   "execution_count": null,
   "id": "bec0c219-dee2-4afc-a3b7-31b88ed19594",
   "metadata": {},
   "outputs": [],
   "source": []
  },
  {
   "cell_type": "code",
   "execution_count": 86,
   "id": "25681333-972b-4b0e-9163-2fb3531747e9",
   "metadata": {},
   "outputs": [],
   "source": [
    "# Evaluate the f1 score at different threshold \n",
    "import numpy as np\n",
    "from sklearn.metrics import f1_score\n",
    "\n",
    "thresholds = np.arange(0.0, 1.01, 0.01)\n",
    "f1_scores = []\n",
    "\n",
    "for thr in thresholds:\n",
    "    y_pred_thr = (y_proba > thr).astype(int)\n",
    "    f1 = f1_score(y_test, y_pred_thr, pos_label=0)  # focus on class 0\n",
    "    f1_scores.append(f1)"
   ]
  },
  {
   "cell_type": "code",
   "execution_count": 88,
   "id": "f2b37356-62ea-4322-9f14-94174278e35e",
   "metadata": {},
   "outputs": [
    {
     "name": "stdout",
     "output_type": "stream",
     "text": [
      "Best Threshold: 1.00\n",
      "Max F1 for class 0: 0.1507\n"
     ]
    }
   ],
   "source": [
    "best_idx = np.argmax(f1_scores)\n",
    "best_threshold = thresholds[best_idx]\n",
    "best_f1 = f1_scores[best_idx]\n",
    "\n",
    "print(f\"Best Threshold: {best_threshold:.2f}\")\n",
    "print(f\"Max F1 for class 0: {best_f1:.4f}\")"
   ]
  },
  {
   "cell_type": "code",
   "execution_count": 89,
   "id": "162f78ef-aa56-4ff0-91be-f38c1985937f",
   "metadata": {},
   "outputs": [
    {
     "data": {
      "image/png": "[encoded data removed]",
      "text/plain": [
       "<Figure size 800x600 with 1 Axes>"
      ]
     },
     "metadata": {},
     "output_type": "display_data"
    }
   ],
   "source": [
    "plt.figure(figsize=(8,6))\n",
    "plt.plot(thresholds, f1_scores, marker='.')\n",
    "plt.xlabel('Threshold')\n",
    "plt.ylabel('F1 Score (Class 0)')\n",
    "plt.title('F1 Score vs Threshold for Class 0')\n",
    "plt.grid(True)\n",
    "plt.show()"
   ]
  },
  {
   "cell_type": "markdown",
   "id": "84e32c71-a1a4-463c-9bcc-a1f0cbff7cd8",
   "metadata": {},
   "source": [
    "#### Apply GridSearchCV"
   ]
  },
  {
   "cell_type": "code",
   "execution_count": 52,
   "id": "be9512dc-882c-4b27-97a4-546348478e77",
   "metadata": {},
   "outputs": [
    {
     "ename": "KeyboardInterrupt",
     "evalue": "",
     "output_type": "error",
     "traceback": [
      "\u001b[31m---------------------------------------------------------------------------\u001b[39m",
      "\u001b[31mKeyboardInterrupt\u001b[39m                         Traceback (most recent call last)",
      "\u001b[36mCell\u001b[39m\u001b[36m \u001b[39m\u001b[32mIn[52]\u001b[39m\u001b[32m, line 20\u001b[39m\n\u001b[32m      3\u001b[39m param_grid = {\n\u001b[32m      4\u001b[39m     \u001b[33m'\u001b[39m\u001b[33mn_estimators\u001b[39m\u001b[33m'\u001b[39m: [\u001b[32m300\u001b[39m, \u001b[32m500\u001b[39m, \u001b[32m700\u001b[39m],\n\u001b[32m      5\u001b[39m     \u001b[33m'\u001b[39m\u001b[33mmax_depth\u001b[39m\u001b[33m'\u001b[39m: [\u001b[32m20\u001b[39m, \u001b[32m25\u001b[39m, \u001b[32m30\u001b[39m],\n\u001b[32m   (...)\u001b[39m\u001b[32m      9\u001b[39m     \u001b[33m'\u001b[39m\u001b[33mclass_weight\u001b[39m\u001b[33m'\u001b[39m: [\u001b[33m'\u001b[39m\u001b[33mbalanced\u001b[39m\u001b[33m'\u001b[39m]\n\u001b[32m     10\u001b[39m }\n\u001b[32m     12\u001b[39m grid_search = GridSearchCV(\n\u001b[32m     13\u001b[39m     rf,\n\u001b[32m     14\u001b[39m     param_grid=param_grid,\n\u001b[32m   (...)\u001b[39m\u001b[32m     17\u001b[39m     n_jobs=-\u001b[32m1\u001b[39m\n\u001b[32m     18\u001b[39m )\n\u001b[32m---> \u001b[39m\u001b[32m20\u001b[39m \u001b[43mgrid_search\u001b[49m\u001b[43m.\u001b[49m\u001b[43mfit\u001b[49m\u001b[43m(\u001b[49m\u001b[43mX_train_res\u001b[49m\u001b[43m,\u001b[49m\u001b[43m \u001b[49m\u001b[43my_train_res\u001b[49m\u001b[43m)\u001b[49m\n\u001b[32m     22\u001b[39m \u001b[38;5;28mprint\u001b[39m(\u001b[33m\"\u001b[39m\u001b[33mGrid Search CV : Best Parameters:\u001b[39m\u001b[33m\"\u001b[39m, grid_search.best_params_)\n",
      "\u001b[36mFile \u001b[39m\u001b[32mc:\\Users\\vrush\\AppData\\Local\\Programs\\Python\\Python311\\Lib\\site-packages\\sklearn\\base.py:1365\u001b[39m, in \u001b[36m_fit_context.<locals>.decorator.<locals>.wrapper\u001b[39m\u001b[34m(estimator, *args, **kwargs)\u001b[39m\n\u001b[32m   1358\u001b[39m     estimator._validate_params()\n\u001b[32m   1360\u001b[39m \u001b[38;5;28;01mwith\u001b[39;00m config_context(\n\u001b[32m   1361\u001b[39m     skip_parameter_validation=(\n\u001b[32m   1362\u001b[39m         prefer_skip_nested_validation \u001b[38;5;129;01mor\u001b[39;00m global_skip_validation\n\u001b[32m   1363\u001b[39m     )\n\u001b[32m   1364\u001b[39m ):\n\u001b[32m-> \u001b[39m\u001b[32m1365\u001b[39m     \u001b[38;5;28;01mreturn\u001b[39;00m \u001b[43mfit_method\u001b[49m\u001b[43m(\u001b[49m\u001b[43mestimator\u001b[49m\u001b[43m,\u001b[49m\u001b[43m \u001b[49m\u001b[43m*\u001b[49m\u001b[43margs\u001b[49m\u001b[43m,\u001b[49m\u001b[43m \u001b[49m\u001b[43m*\u001b[49m\u001b[43m*\u001b[49m\u001b[43mkwargs\u001b[49m\u001b[43m)\u001b[49m\n",
      "\u001b[36mFile \u001b[39m\u001b[32mc:\\Users\\vrush\\AppData\\Local\\Programs\\Python\\Python311\\Lib\\site-packages\\sklearn\\model_selection\\_search.py:1089\u001b[39m, in \u001b[36mBaseSearchCV.fit\u001b[39m\u001b[34m(self, X, y, **params)\u001b[39m\n\u001b[32m   1087\u001b[39m refit_start_time = time.time()\n\u001b[32m   1088\u001b[39m \u001b[38;5;28;01mif\u001b[39;00m y \u001b[38;5;129;01mis\u001b[39;00m \u001b[38;5;129;01mnot\u001b[39;00m \u001b[38;5;28;01mNone\u001b[39;00m:\n\u001b[32m-> \u001b[39m\u001b[32m1089\u001b[39m     \u001b[38;5;28;43mself\u001b[39;49m\u001b[43m.\u001b[49m\u001b[43mbest_estimator_\u001b[49m\u001b[43m.\u001b[49m\u001b[43mfit\u001b[49m\u001b[43m(\u001b[49m\u001b[43mX\u001b[49m\u001b[43m,\u001b[49m\u001b[43m \u001b[49m\u001b[43my\u001b[49m\u001b[43m,\u001b[49m\u001b[43m \u001b[49m\u001b[43m*\u001b[49m\u001b[43m*\u001b[49m\u001b[43mrouted_params\u001b[49m\u001b[43m.\u001b[49m\u001b[43mestimator\u001b[49m\u001b[43m.\u001b[49m\u001b[43mfit\u001b[49m\u001b[43m)\u001b[49m\n\u001b[32m   1090\u001b[39m \u001b[38;5;28;01melse\u001b[39;00m:\n\u001b[32m   1091\u001b[39m     \u001b[38;5;28mself\u001b[39m.best_estimator_.fit(X, **routed_params.estimator.fit)\n",
      "\u001b[36mFile \u001b[39m\u001b[32mc:\\Users\\vrush\\AppData\\Local\\Programs\\Python\\Python311\\Lib\\site-packages\\sklearn\\base.py:1365\u001b[39m, in \u001b[36m_fit_context.<locals>.decorator.<locals>.wrapper\u001b[39m\u001b[34m(estimator, *args, **kwargs)\u001b[39m\n\u001b[32m   1358\u001b[39m     estimator._validate_params()\n\u001b[32m   1360\u001b[39m \u001b[38;5;28;01mwith\u001b[39;00m config_context(\n\u001b[32m   1361\u001b[39m     skip_parameter_validation=(\n\u001b[32m   1362\u001b[39m         prefer_skip_nested_validation \u001b[38;5;129;01mor\u001b[39;00m global_skip_validation\n\u001b[32m   1363\u001b[39m     )\n\u001b[32m   1364\u001b[39m ):\n\u001b[32m-> \u001b[39m\u001b[32m1365\u001b[39m     \u001b[38;5;28;01mreturn\u001b[39;00m \u001b[43mfit_method\u001b[49m\u001b[43m(\u001b[49m\u001b[43mestimator\u001b[49m\u001b[43m,\u001b[49m\u001b[43m \u001b[49m\u001b[43m*\u001b[49m\u001b[43margs\u001b[49m\u001b[43m,\u001b[49m\u001b[43m \u001b[49m\u001b[43m*\u001b[49m\u001b[43m*\u001b[49m\u001b[43mkwargs\u001b[49m\u001b[43m)\u001b[49m\n",
      "\u001b[36mFile \u001b[39m\u001b[32mc:\\Users\\vrush\\AppData\\Local\\Programs\\Python\\Python311\\Lib\\site-packages\\sklearn\\ensemble\\_forest.py:486\u001b[39m, in \u001b[36mBaseForest.fit\u001b[39m\u001b[34m(self, X, y, sample_weight)\u001b[39m\n\u001b[32m    475\u001b[39m trees = [\n\u001b[32m    476\u001b[39m     \u001b[38;5;28mself\u001b[39m._make_estimator(append=\u001b[38;5;28;01mFalse\u001b[39;00m, random_state=random_state)\n\u001b[32m    477\u001b[39m     \u001b[38;5;28;01mfor\u001b[39;00m i \u001b[38;5;129;01min\u001b[39;00m \u001b[38;5;28mrange\u001b[39m(n_more_estimators)\n\u001b[32m    478\u001b[39m ]\n\u001b[32m    480\u001b[39m \u001b[38;5;66;03m# Parallel loop: we prefer the threading backend as the Cython code\u001b[39;00m\n\u001b[32m    481\u001b[39m \u001b[38;5;66;03m# for fitting the trees is internally releasing the Python GIL\u001b[39;00m\n\u001b[32m    482\u001b[39m \u001b[38;5;66;03m# making threading more efficient than multiprocessing in\u001b[39;00m\n\u001b[32m    483\u001b[39m \u001b[38;5;66;03m# that case. However, for joblib 0.12+ we respect any\u001b[39;00m\n\u001b[32m    484\u001b[39m \u001b[38;5;66;03m# parallel_backend contexts set at a higher level,\u001b[39;00m\n\u001b[32m    485\u001b[39m \u001b[38;5;66;03m# since correctness does not rely on using threads.\u001b[39;00m\n\u001b[32m--> \u001b[39m\u001b[32m486\u001b[39m trees = \u001b[43mParallel\u001b[49m\u001b[43m(\u001b[49m\n\u001b[32m    487\u001b[39m \u001b[43m    \u001b[49m\u001b[43mn_jobs\u001b[49m\u001b[43m=\u001b[49m\u001b[38;5;28;43mself\u001b[39;49m\u001b[43m.\u001b[49m\u001b[43mn_jobs\u001b[49m\u001b[43m,\u001b[49m\n\u001b[32m    488\u001b[39m \u001b[43m    \u001b[49m\u001b[43mverbose\u001b[49m\u001b[43m=\u001b[49m\u001b[38;5;28;43mself\u001b[39;49m\u001b[43m.\u001b[49m\u001b[43mverbose\u001b[49m\u001b[43m,\u001b[49m\n\u001b[32m    489\u001b[39m \u001b[43m    \u001b[49m\u001b[43mprefer\u001b[49m\u001b[43m=\u001b[49m\u001b[33;43m\"\u001b[39;49m\u001b[33;43mthreads\u001b[39;49m\u001b[33;43m\"\u001b[39;49m\u001b[43m,\u001b[49m\n\u001b[32m    490\u001b[39m \u001b[43m\u001b[49m\u001b[43m)\u001b[49m\u001b[43m(\u001b[49m\n\u001b[32m    491\u001b[39m \u001b[43m    \u001b[49m\u001b[43mdelayed\u001b[49m\u001b[43m(\u001b[49m\u001b[43m_parallel_build_trees\u001b[49m\u001b[43m)\u001b[49m\u001b[43m(\u001b[49m\n\u001b[32m    492\u001b[39m \u001b[43m        \u001b[49m\u001b[43mt\u001b[49m\u001b[43m,\u001b[49m\n\u001b[32m    493\u001b[39m \u001b[43m        \u001b[49m\u001b[38;5;28;43mself\u001b[39;49m\u001b[43m.\u001b[49m\u001b[43mbootstrap\u001b[49m\u001b[43m,\u001b[49m\n\u001b[32m    494\u001b[39m \u001b[43m        \u001b[49m\u001b[43mX\u001b[49m\u001b[43m,\u001b[49m\n\u001b[32m    495\u001b[39m \u001b[43m        \u001b[49m\u001b[43my\u001b[49m\u001b[43m,\u001b[49m\n\u001b[32m    496\u001b[39m \u001b[43m        \u001b[49m\u001b[43msample_weight\u001b[49m\u001b[43m,\u001b[49m\n\u001b[32m    497\u001b[39m \u001b[43m        \u001b[49m\u001b[43mi\u001b[49m\u001b[43m,\u001b[49m\n\u001b[32m    498\u001b[39m \u001b[43m        \u001b[49m\u001b[38;5;28;43mlen\u001b[39;49m\u001b[43m(\u001b[49m\u001b[43mtrees\u001b[49m\u001b[43m)\u001b[49m\u001b[43m,\u001b[49m\n\u001b[32m    499\u001b[39m \u001b[43m        \u001b[49m\u001b[43mverbose\u001b[49m\u001b[43m=\u001b[49m\u001b[38;5;28;43mself\u001b[39;49m\u001b[43m.\u001b[49m\u001b[43mverbose\u001b[49m\u001b[43m,\u001b[49m\n\u001b[32m    500\u001b[39m \u001b[43m        \u001b[49m\u001b[43mclass_weight\u001b[49m\u001b[43m=\u001b[49m\u001b[38;5;28;43mself\u001b[39;49m\u001b[43m.\u001b[49m\u001b[43mclass_weight\u001b[49m\u001b[43m,\u001b[49m\n\u001b[32m    501\u001b[39m \u001b[43m        \u001b[49m\u001b[43mn_samples_bootstrap\u001b[49m\u001b[43m=\u001b[49m\u001b[43mn_samples_bootstrap\u001b[49m\u001b[43m,\u001b[49m\n\u001b[32m    502\u001b[39m \u001b[43m        \u001b[49m\u001b[43mmissing_values_in_feature_mask\u001b[49m\u001b[43m=\u001b[49m\u001b[43mmissing_values_in_feature_mask\u001b[49m\u001b[43m,\u001b[49m\n\u001b[32m    503\u001b[39m \u001b[43m    \u001b[49m\u001b[43m)\u001b[49m\n\u001b[32m    504\u001b[39m \u001b[43m    \u001b[49m\u001b[38;5;28;43;01mfor\u001b[39;49;00m\u001b[43m \u001b[49m\u001b[43mi\u001b[49m\u001b[43m,\u001b[49m\u001b[43m \u001b[49m\u001b[43mt\u001b[49m\u001b[43m \u001b[49m\u001b[38;5;129;43;01min\u001b[39;49;00m\u001b[43m \u001b[49m\u001b[38;5;28;43menumerate\u001b[39;49m\u001b[43m(\u001b[49m\u001b[43mtrees\u001b[49m\u001b[43m)\u001b[49m\n\u001b[32m    505\u001b[39m \u001b[43m\u001b[49m\u001b[43m)\u001b[49m\n\u001b[32m    507\u001b[39m \u001b[38;5;66;03m# Collect newly grown trees\u001b[39;00m\n\u001b[32m    508\u001b[39m \u001b[38;5;28mself\u001b[39m.estimators_.extend(trees)\n",
      "\u001b[36mFile \u001b[39m\u001b[32mc:\\Users\\vrush\\AppData\\Local\\Programs\\Python\\Python311\\Lib\\site-packages\\sklearn\\utils\\parallel.py:82\u001b[39m, in \u001b[36mParallel.__call__\u001b[39m\u001b[34m(self, iterable)\u001b[39m\n\u001b[32m     73\u001b[39m warning_filters = warnings.filters\n\u001b[32m     74\u001b[39m iterable_with_config_and_warning_filters = (\n\u001b[32m     75\u001b[39m     (\n\u001b[32m     76\u001b[39m         _with_config_and_warning_filters(delayed_func, config, warning_filters),\n\u001b[32m   (...)\u001b[39m\u001b[32m     80\u001b[39m     \u001b[38;5;28;01mfor\u001b[39;00m delayed_func, args, kwargs \u001b[38;5;129;01min\u001b[39;00m iterable\n\u001b[32m     81\u001b[39m )\n\u001b[32m---> \u001b[39m\u001b[32m82\u001b[39m \u001b[38;5;28;01mreturn\u001b[39;00m \u001b[38;5;28;43msuper\u001b[39;49m\u001b[43m(\u001b[49m\u001b[43m)\u001b[49m\u001b[43m.\u001b[49m\u001b[34;43m__call__\u001b[39;49m\u001b[43m(\u001b[49m\u001b[43miterable_with_config_and_warning_filters\u001b[49m\u001b[43m)\u001b[49m\n",
      "\u001b[36mFile \u001b[39m\u001b[32mc:\\Users\\vrush\\AppData\\Local\\Programs\\Python\\Python311\\Lib\\site-packages\\joblib\\parallel.py:1986\u001b[39m, in \u001b[36mParallel.__call__\u001b[39m\u001b[34m(self, iterable)\u001b[39m\n\u001b[32m   1984\u001b[39m     output = \u001b[38;5;28mself\u001b[39m._get_sequential_output(iterable)\n\u001b[32m   1985\u001b[39m     \u001b[38;5;28mnext\u001b[39m(output)\n\u001b[32m-> \u001b[39m\u001b[32m1986\u001b[39m     \u001b[38;5;28;01mreturn\u001b[39;00m output \u001b[38;5;28;01mif\u001b[39;00m \u001b[38;5;28mself\u001b[39m.return_generator \u001b[38;5;28;01melse\u001b[39;00m \u001b[38;5;28;43mlist\u001b[39;49m\u001b[43m(\u001b[49m\u001b[43moutput\u001b[49m\u001b[43m)\u001b[49m\n\u001b[32m   1988\u001b[39m \u001b[38;5;66;03m# Let's create an ID that uniquely identifies the current call. If the\u001b[39;00m\n\u001b[32m   1989\u001b[39m \u001b[38;5;66;03m# call is interrupted early and that the same instance is immediately\u001b[39;00m\n\u001b[32m   1990\u001b[39m \u001b[38;5;66;03m# reused, this id will be used to prevent workers that were\u001b[39;00m\n\u001b[32m   1991\u001b[39m \u001b[38;5;66;03m# concurrently finalizing a task from the previous call to run the\u001b[39;00m\n\u001b[32m   1992\u001b[39m \u001b[38;5;66;03m# callback.\u001b[39;00m\n\u001b[32m   1993\u001b[39m \u001b[38;5;28;01mwith\u001b[39;00m \u001b[38;5;28mself\u001b[39m._lock:\n",
      "\u001b[36mFile \u001b[39m\u001b[32mc:\\Users\\vrush\\AppData\\Local\\Programs\\Python\\Python311\\Lib\\site-packages\\joblib\\parallel.py:1914\u001b[39m, in \u001b[36mParallel._get_sequential_output\u001b[39m\u001b[34m(self, iterable)\u001b[39m\n\u001b[32m   1912\u001b[39m \u001b[38;5;28mself\u001b[39m.n_dispatched_batches += \u001b[32m1\u001b[39m\n\u001b[32m   1913\u001b[39m \u001b[38;5;28mself\u001b[39m.n_dispatched_tasks += \u001b[32m1\u001b[39m\n\u001b[32m-> \u001b[39m\u001b[32m1914\u001b[39m res = \u001b[43mfunc\u001b[49m\u001b[43m(\u001b[49m\u001b[43m*\u001b[49m\u001b[43margs\u001b[49m\u001b[43m,\u001b[49m\u001b[43m \u001b[49m\u001b[43m*\u001b[49m\u001b[43m*\u001b[49m\u001b[43mkwargs\u001b[49m\u001b[43m)\u001b[49m\n\u001b[32m   1915\u001b[39m \u001b[38;5;28mself\u001b[39m.n_completed_tasks += \u001b[32m1\u001b[39m\n\u001b[32m   1916\u001b[39m \u001b[38;5;28mself\u001b[39m.print_progress()\n",
      "\u001b[36mFile \u001b[39m\u001b[32mc:\\Users\\vrush\\AppData\\Local\\Programs\\Python\\Python311\\Lib\\site-packages\\sklearn\\utils\\parallel.py:147\u001b[39m, in \u001b[36m_FuncWrapper.__call__\u001b[39m\u001b[34m(self, *args, **kwargs)\u001b[39m\n\u001b[32m    145\u001b[39m \u001b[38;5;28;01mwith\u001b[39;00m config_context(**config), warnings.catch_warnings():\n\u001b[32m    146\u001b[39m     warnings.filters = warning_filters\n\u001b[32m--> \u001b[39m\u001b[32m147\u001b[39m     \u001b[38;5;28;01mreturn\u001b[39;00m \u001b[38;5;28;43mself\u001b[39;49m\u001b[43m.\u001b[49m\u001b[43mfunction\u001b[49m\u001b[43m(\u001b[49m\u001b[43m*\u001b[49m\u001b[43margs\u001b[49m\u001b[43m,\u001b[49m\u001b[43m \u001b[49m\u001b[43m*\u001b[49m\u001b[43m*\u001b[49m\u001b[43mkwargs\u001b[49m\u001b[43m)\u001b[49m\n",
      "\u001b[36mFile \u001b[39m\u001b[32mc:\\Users\\vrush\\AppData\\Local\\Programs\\Python\\Python311\\Lib\\site-packages\\sklearn\\ensemble\\_forest.py:188\u001b[39m, in \u001b[36m_parallel_build_trees\u001b[39m\u001b[34m(tree, bootstrap, X, y, sample_weight, tree_idx, n_trees, verbose, class_weight, n_samples_bootstrap, missing_values_in_feature_mask)\u001b[39m\n\u001b[32m    185\u001b[39m     \u001b[38;5;28;01melif\u001b[39;00m class_weight == \u001b[33m\"\u001b[39m\u001b[33mbalanced_subsample\u001b[39m\u001b[33m\"\u001b[39m:\n\u001b[32m    186\u001b[39m         curr_sample_weight *= compute_sample_weight(\u001b[33m\"\u001b[39m\u001b[33mbalanced\u001b[39m\u001b[33m\"\u001b[39m, y, indices=indices)\n\u001b[32m--> \u001b[39m\u001b[32m188\u001b[39m     \u001b[43mtree\u001b[49m\u001b[43m.\u001b[49m\u001b[43m_fit\u001b[49m\u001b[43m(\u001b[49m\n\u001b[32m    189\u001b[39m \u001b[43m        \u001b[49m\u001b[43mX\u001b[49m\u001b[43m,\u001b[49m\n\u001b[32m    190\u001b[39m \u001b[43m        \u001b[49m\u001b[43my\u001b[49m\u001b[43m,\u001b[49m\n\u001b[32m    191\u001b[39m \u001b[43m        \u001b[49m\u001b[43msample_weight\u001b[49m\u001b[43m=\u001b[49m\u001b[43mcurr_sample_weight\u001b[49m\u001b[43m,\u001b[49m\n\u001b[32m    192\u001b[39m \u001b[43m        \u001b[49m\u001b[43mcheck_input\u001b[49m\u001b[43m=\u001b[49m\u001b[38;5;28;43;01mFalse\u001b[39;49;00m\u001b[43m,\u001b[49m\n\u001b[32m    193\u001b[39m \u001b[43m        \u001b[49m\u001b[43mmissing_values_in_feature_mask\u001b[49m\u001b[43m=\u001b[49m\u001b[43mmissing_values_in_feature_mask\u001b[49m\u001b[43m,\u001b[49m\n\u001b[32m    194\u001b[39m \u001b[43m    \u001b[49m\u001b[43m)\u001b[49m\n\u001b[32m    195\u001b[39m \u001b[38;5;28;01melse\u001b[39;00m:\n\u001b[32m    196\u001b[39m     tree._fit(\n\u001b[32m    197\u001b[39m         X,\n\u001b[32m    198\u001b[39m         y,\n\u001b[32m   (...)\u001b[39m\u001b[32m    201\u001b[39m         missing_values_in_feature_mask=missing_values_in_feature_mask,\n\u001b[32m    202\u001b[39m     )\n",
      "\u001b[36mFile \u001b[39m\u001b[32mc:\\Users\\vrush\\AppData\\Local\\Programs\\Python\\Python311\\Lib\\site-packages\\sklearn\\tree\\_classes.py:472\u001b[39m, in \u001b[36mBaseDecisionTree._fit\u001b[39m\u001b[34m(self, X, y, sample_weight, check_input, missing_values_in_feature_mask)\u001b[39m\n\u001b[32m    461\u001b[39m \u001b[38;5;28;01melse\u001b[39;00m:\n\u001b[32m    462\u001b[39m     builder = BestFirstTreeBuilder(\n\u001b[32m    463\u001b[39m         splitter,\n\u001b[32m    464\u001b[39m         min_samples_split,\n\u001b[32m   (...)\u001b[39m\u001b[32m    469\u001b[39m         \u001b[38;5;28mself\u001b[39m.min_impurity_decrease,\n\u001b[32m    470\u001b[39m     )\n\u001b[32m--> \u001b[39m\u001b[32m472\u001b[39m \u001b[43mbuilder\u001b[49m\u001b[43m.\u001b[49m\u001b[43mbuild\u001b[49m\u001b[43m(\u001b[49m\u001b[38;5;28;43mself\u001b[39;49m\u001b[43m.\u001b[49m\u001b[43mtree_\u001b[49m\u001b[43m,\u001b[49m\u001b[43m \u001b[49m\u001b[43mX\u001b[49m\u001b[43m,\u001b[49m\u001b[43m \u001b[49m\u001b[43my\u001b[49m\u001b[43m,\u001b[49m\u001b[43m \u001b[49m\u001b[43msample_weight\u001b[49m\u001b[43m,\u001b[49m\u001b[43m \u001b[49m\u001b[43mmissing_values_in_feature_mask\u001b[49m\u001b[43m)\u001b[49m\n\u001b[32m    474\u001b[39m \u001b[38;5;28;01mif\u001b[39;00m \u001b[38;5;28mself\u001b[39m.n_outputs_ == \u001b[32m1\u001b[39m \u001b[38;5;129;01mand\u001b[39;00m is_classifier(\u001b[38;5;28mself\u001b[39m):\n\u001b[32m    475\u001b[39m     \u001b[38;5;28mself\u001b[39m.n_classes_ = \u001b[38;5;28mself\u001b[39m.n_classes_[\u001b[32m0\u001b[39m]\n",
      "\u001b[31mKeyboardInterrupt\u001b[39m: "
     ]
    }
   ],
   "source": [
    "from sklearn.model_selection import GridSearchCV\n",
    "\n",
    "param_grid = {\n",
    "    'n_estimators': [300, 500, 700],\n",
    "    'max_depth': [20, 25, 30],\n",
    "    'min_samples_split': [2, 5],\n",
    "    'min_samples_leaf': [1, 2],\n",
    "    'max_features': ['sqrt'],\n",
    "    'class_weight': ['balanced']\n",
    "}\n",
    "\n",
    "grid_search = GridSearchCV(\n",
    "    rf,\n",
    "    param_grid=param_grid,\n",
    "    cv=3,\n",
    "    scoring='f1_macro',\n",
    "    n_jobs=-1\n",
    ")\n",
    "\n",
    "grid_search.fit(X_train_res, y_train_res)\n",
    "\n",
    "print(\"Grid Search CV : Best Parameters:\", grid_search.best_params_)\n"
   ]
  },
  {
   "cell_type": "code",
   "execution_count": null,
   "id": "07c6aaa8-04b0-420f-823e-78bbf5a20573",
   "metadata": {},
   "outputs": [],
   "source": []
  },
  {
   "cell_type": "code",
   "execution_count": null,
   "id": "c256c7b0-1e9f-4234-a283-f36b75b49d5b",
   "metadata": {},
   "outputs": [],
   "source": []
  },
  {
   "cell_type": "code",
   "execution_count": null,
   "id": "078bc9a5-bdd2-4780-be89-60a77375788c",
   "metadata": {},
   "outputs": [],
   "source": []
  },
  {
   "cell_type": "code",
   "execution_count": null,
   "id": "7a035723-afdf-4615-8208-ab62581cf400",
   "metadata": {},
   "outputs": [],
   "source": []
  },
  {
   "cell_type": "code",
   "execution_count": null,
   "id": "1b5cbf78-4dc0-46d1-a1ee-80b163f76ec5",
   "metadata": {},
   "outputs": [],
   "source": []
  },
  {
   "cell_type": "code",
   "execution_count": null,
   "id": "fb7a9e7f-5e17-46f7-b582-9a52e731539f",
   "metadata": {},
   "outputs": [],
   "source": []
  },
  {
   "cell_type": "code",
   "execution_count": null,
   "id": "fe965934-f02f-4156-ba24-9f4cd0c33d00",
   "metadata": {},
   "outputs": [],
   "source": []
  },
  {
   "cell_type": "code",
   "execution_count": null,
   "id": "abb37289-d6a1-4cb3-96f7-1e4ef89f9047",
   "metadata": {},
   "outputs": [],
   "source": []
  },
  {
   "cell_type": "code",
   "execution_count": null,
   "id": "fdbf083f-36fc-497c-bcec-4a5086889c46",
   "metadata": {},
   "outputs": [],
   "source": []
  },
  {
   "cell_type": "code",
   "execution_count": null,
   "id": "73ce2079-958c-4fb0-9b2d-53fd0469804c",
   "metadata": {},
   "outputs": [],
   "source": []
  },
  {
   "cell_type": "code",
   "execution_count": null,
   "id": "f1f79a10-5c35-4584-8f84-4e96e9fd477a",
   "metadata": {},
   "outputs": [],
   "source": []
  },
  {
   "cell_type": "code",
   "execution_count": null,
   "id": "23f4d921-3ef3-443e-a4a5-be2aceaa44c4",
   "metadata": {},
   "outputs": [],
   "source": []
  },
  {
   "cell_type": "code",
   "execution_count": null,
   "id": "c066c826-f61c-4ebc-a43b-0e905b53eaf2",
   "metadata": {},
   "outputs": [],
   "source": []
  },
  {
   "cell_type": "code",
   "execution_count": null,
   "id": "c5bc7652-af59-4729-8320-3fdde0ddba4b",
   "metadata": {},
   "outputs": [],
   "source": []
  },
  {
   "cell_type": "code",
   "execution_count": null,
   "id": "10358d60-42b8-40d6-bf14-d98f7e30b72f",
   "metadata": {},
   "outputs": [],
   "source": []
  },
  {
   "cell_type": "code",
   "execution_count": null,
   "id": "271bd17c-6fc0-4d82-b8e0-18f6c44d2946",
   "metadata": {},
   "outputs": [],
   "source": []
  },
  {
   "cell_type": "code",
   "execution_count": null,
   "id": "4791071b-c60e-4782-a131-2d3bf06ef0ff",
   "metadata": {},
   "outputs": [],
   "source": []
  },
  {
   "cell_type": "code",
   "execution_count": null,
   "id": "62d5304a-1c64-401c-ba7e-5d22cd876553",
   "metadata": {},
   "outputs": [],
   "source": []
  },
  {
   "cell_type": "code",
   "execution_count": null,
   "id": "6fca5a1f-aa91-4b2b-a167-cf496b75349d",
   "metadata": {},
   "outputs": [],
   "source": []
  },
  {
   "cell_type": "code",
   "execution_count": null,
   "id": "9a770cfe-1367-4244-be70-83b7c456805f",
   "metadata": {},
   "outputs": [],
   "source": []
  }
 ],
 "metadata": {
  "kernelspec": {
   "display_name": "Python 3 (ipykernel)",
   "language": "python",
   "name": "python3"
  },
  "language_info": {
   "codemirror_mode": {
    "name": "ipython",
    "version": 3
   },
   "file_extension": ".py",
   "mimetype": "text/x-python",
   "name": "python",
   "nbconvert_exporter": "python",
   "pygments_lexer": "ipython3",
   "version": "3.11.9"
  }
 },
 "nbformat": 4,
 "nbformat_minor": 5
}
